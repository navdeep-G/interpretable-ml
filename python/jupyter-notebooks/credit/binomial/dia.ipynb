{
 "cells": [
  {
   "cell_type": "markdown",
   "metadata": {},
   "source": [
    "# Increase Fairness in Your Machine Learning Project with Disparate Impact Analysis using Pandas, Numpy, and H2O\n",
    "\n",
    "#### Assess if your machine learning model is treating different groups of people similarly or differently\n",
    "\n",
    "Fairness in machine learning is a very important topic in many respects, but it is a highly complex entity. So much so that leading researchers in the field have yet to agree on a strict definition (there is no concrete \"fairness metric\"). However, there is a practical way to discuss and handle *observational* fairness or simply put, how your model predictions affect different groups. This procedure is known as disparate impact analysis (DIA). DIA is far from perfect, as it relies heavily on user-defined thresholds and reference levels for disparity and does not attempt to remediate disparity or provide information on sources of disparity, but it is a fairly straightforward method to quantify your model’s behavior across sensitive demographic segments or other potentially interesting groups of observations. DIA is also an accepted, regulation-compliant tool for fair-lending purposes in the U.S. financial services industry. \n",
    "\n",
    "This example DIA notebook starts by training a gradient boosting machine (GBM) classifier on the UCI credit card default data using the popular open source library, `h2o`. A probability cutoff for making credit decisions is selected by maximizing the `F1` statistic and confusion matrices are generated to summarize the GBM’s decisions across customers with different education levels. A basic DIA procedure is then conducted using the information stored in the confusion matrices. \n",
    "\n",
    "For an excellent and free reference on the topics of fairness and machine learning be sure to follow the book being written by Solon Barocas, Moritz Hardt and Arvind Narayanan: https://fairmlbook.org/. \n",
    "\n",
    "For Python fairness libraries that go far beyond the scope of this notebook see: \n",
    "* aequitas: https://github.com/dssg/aequitas\n",
    "* AI Fairness 360: http://aif360.mybluemix.net/\n",
    "* Themis: https://github.com/LASER-UMASS/Themis"
   ]
  },
  {
   "cell_type": "markdown",
   "metadata": {},
   "source": [
    "#### Python imports\n",
    "In general, NumPy and Pandas will be used for data manipulation purposes and h2o will be used for modeling tasks. "
   ]
  },
  {
   "cell_type": "code",
   "execution_count": 76,
   "metadata": {},
   "outputs": [],
   "source": [
    "import h2o                                        \n",
    "from h2o.estimators.gbm import H2OGradientBoostingEstimator       \n",
    "\n",
    "import numpy as np   \n",
    "import pandas as pd \n",
    "import matplotlib.pyplot as plt # general plotting\n",
    "%matplotlib inline   "
   ]
  },
  {
   "cell_type": "markdown",
   "metadata": {},
   "source": [
    "#### Start `h2o`\n",
    "H2O is both a library and a server. The machine learning algorithms in the library take advantage of the multithreaded and distributed architecture provided by the server to train machine learning algorithms extremely efficiently. The API for the library was imported above in cell 1, but the server still needs to be started."
   ]
  },
  {
   "cell_type": "code",
   "execution_count": 2,
   "metadata": {},
   "outputs": [
    {
     "name": "stdout",
     "output_type": "stream",
     "text": [
      "Checking whether there is an H2O instance running at http://localhost:54321..... not found.\n",
      "Attempting to start a local H2O server...\n",
      "  Java Version: java version \"1.8.0_221\"; Java(TM) SE Runtime Environment (build 1.8.0_221-b11); Java HotSpot(TM) 64-Bit Server VM (build 25.221-b11, mixed mode)\n",
      "  Starting server from /Users/ngill/Desktop/interpretable-ml/iml/lib/python3.6/site-packages/h2o/backend/bin/h2o.jar\n",
      "  Ice root: /var/folders/4f/jnv5n85x51v1r8f9n4q8bzl80000gp/T/tmp_ykl0gs1\n",
      "  JVM stdout: /var/folders/4f/jnv5n85x51v1r8f9n4q8bzl80000gp/T/tmp_ykl0gs1/h2o_ngill_started_from_python.out\n",
      "  JVM stderr: /var/folders/4f/jnv5n85x51v1r8f9n4q8bzl80000gp/T/tmp_ykl0gs1/h2o_ngill_started_from_python.err\n",
      "  Server is running at http://127.0.0.1:54321\n",
      "Connecting to H2O server at http://127.0.0.1:54321... successful.\n",
      "Warning: Your H2O cluster version is too old (1 year and 4 months)! Please download and install the latest version from http://h2o.ai/download/\n"
     ]
    },
    {
     "data": {
      "text/html": [
       "<div style=\"overflow:auto\"><table style=\"width:50%\"><tr><td>H2O cluster uptime:</td>\n",
       "<td>02 secs</td></tr>\n",
       "<tr><td>H2O cluster timezone:</td>\n",
       "<td>America/Los_Angeles</td></tr>\n",
       "<tr><td>H2O data parsing timezone:</td>\n",
       "<td>UTC</td></tr>\n",
       "<tr><td>H2O cluster version:</td>\n",
       "<td>3.20.0.8</td></tr>\n",
       "<tr><td>H2O cluster version age:</td>\n",
       "<td>1 year and 4 months !!!</td></tr>\n",
       "<tr><td>H2O cluster name:</td>\n",
       "<td>H2O_from_python_ngill_wi0pxp</td></tr>\n",
       "<tr><td>H2O cluster total nodes:</td>\n",
       "<td>1</td></tr>\n",
       "<tr><td>H2O cluster free memory:</td>\n",
       "<td>1.778 Gb</td></tr>\n",
       "<tr><td>H2O cluster total cores:</td>\n",
       "<td>12</td></tr>\n",
       "<tr><td>H2O cluster allowed cores:</td>\n",
       "<td>12</td></tr>\n",
       "<tr><td>H2O cluster status:</td>\n",
       "<td>accepting new members, healthy</td></tr>\n",
       "<tr><td>H2O connection url:</td>\n",
       "<td>http://127.0.0.1:54321</td></tr>\n",
       "<tr><td>H2O connection proxy:</td>\n",
       "<td>None</td></tr>\n",
       "<tr><td>H2O internal security:</td>\n",
       "<td>False</td></tr>\n",
       "<tr><td>H2O API Extensions:</td>\n",
       "<td>XGBoost, Algos, AutoML, Core V3, Core V4</td></tr>\n",
       "<tr><td>Python version:</td>\n",
       "<td>3.6.6 final</td></tr></table></div>"
      ],
      "text/plain": [
       "--------------------------  ----------------------------------------\n",
       "H2O cluster uptime:         02 secs\n",
       "H2O cluster timezone:       America/Los_Angeles\n",
       "H2O data parsing timezone:  UTC\n",
       "H2O cluster version:        3.20.0.8\n",
       "H2O cluster version age:    1 year and 4 months !!!\n",
       "H2O cluster name:           H2O_from_python_ngill_wi0pxp\n",
       "H2O cluster total nodes:    1\n",
       "H2O cluster free memory:    1.778 Gb\n",
       "H2O cluster total cores:    12\n",
       "H2O cluster allowed cores:  12\n",
       "H2O cluster status:         accepting new members, healthy\n",
       "H2O connection url:         http://127.0.0.1:54321\n",
       "H2O connection proxy:\n",
       "H2O internal security:      False\n",
       "H2O API Extensions:         XGBoost, Algos, AutoML, Core V3, Core V4\n",
       "Python version:             3.6.6 final\n",
       "--------------------------  ----------------------------------------"
      ]
     },
     "metadata": {},
     "output_type": "display_data"
    }
   ],
   "source": [
    "h2o.init(max_mem_size='2G')       \n",
    "h2o.remove_all()                  "
   ]
  },
  {
   "cell_type": "markdown",
   "metadata": {},
   "source": [
    "## 1. Download, explore, and prepare UCI credit card default data\n",
    "\n",
    "UCI credit card default data: https://archive.ics.uci.edu/ml/datasets/default+of+credit+card+clients\n",
    "\n",
    "The UCI credit card default data contains demographic and payment information about credit card customers in Taiwan in the year 2005. The data set contains 23 input variables: \n",
    "\n",
    "* **`LIMIT_BAL`**: Amount of given credit (NT dollar)\n",
    "* **`SEX`**: 1 = male; 2 = female\n",
    "* **`EDUCATION`**: 1 = graduate school; 2 = university; 3 = high school; 4 = others \n",
    "* **`MARRIAGE`**: 1 = married; 2 = single; 3 = others\n",
    "* **`AGE`**: Age in years \n",
    "* **`PAY_0`, `PAY_2` - `PAY_6`**: History of past payment; `PAY_0` = the repayment status in September, 2005; `PAY_2` = the repayment status in August, 2005; ...; `PAY_6` = the repayment status in April, 2005. The measurement scale for the repayment status is: -1 = pay duly; 1 = payment delay for one month; 2 = payment delay for two months; ...; 8 = payment delay for eight months; 9 = payment delay for nine months and above. \n",
    "* **`BILL_AMT1` - `BILL_AMT6`**: Amount of bill statement (NT dollar). `BILL_AMNT1` = amount of bill statement in September, 2005; `BILL_AMT2` = amount of bill statement in August, 2005; ...; `BILL_AMT6` = amount of bill statement in April, 2005. \n",
    "* **`PAY_AMT1` - `PAY_AMT6`**: Amount of previous payment (NT dollar). `PAY_AMT1` = amount paid in September, 2005; `PAY_AMT2` = amount paid in August, 2005; ...; `PAY_AMT6` = amount paid in April, 2005. \n",
    "\n",
    "These 23 input variables are used to predict the target variable, whether or not a customer defaulted on their credit card bill in late 2005.\n",
    "\n",
    "Because h2o accepts both numeric and character inputs, some variables will be recoded into more transparent character values."
   ]
  },
  {
   "cell_type": "markdown",
   "metadata": {},
   "source": [
    "#### Import data and clean\n",
    "The credit card default data is available as an `.xls` file. Pandas reads `.xls` files automatically, so it's used to load the credit card default data and give the prediction target a shorter name: `DEFAULT_NEXT_MONTH`."
   ]
  },
  {
   "cell_type": "code",
   "execution_count": 3,
   "metadata": {},
   "outputs": [],
   "source": [
    "# import XLS file\n",
    "path = '../data/default_of_credit_card_clients.xls'\n",
    "data = pd.read_excel(path)\n",
    "\n",
    "# remove spaces from target column name \n",
    "data = data.rename(columns={'default payment next month': 'DEFAULT_NEXT_MONTH'}) "
   ]
  },
  {
   "cell_type": "markdown",
   "metadata": {},
   "source": [
    "#### Assign modeling roles\n",
    "The shorthand name `y` is assigned to the prediction target. `X` is assigned to all other input variables in the credit card default data except the row indentifier, `ID`."
   ]
  },
  {
   "cell_type": "code",
   "execution_count": 4,
   "metadata": {},
   "outputs": [
    {
     "name": "stdout",
     "output_type": "stream",
     "text": [
      "y = DEFAULT_NEXT_MONTH\n",
      "X = ['LIMIT_BAL', 'SEX', 'EDUCATION', 'MARRIAGE', 'AGE', 'PAY_0', 'PAY_2', 'PAY_3', 'PAY_4', 'PAY_5', 'PAY_6', 'BILL_AMT1', 'BILL_AMT2', 'BILL_AMT3', 'BILL_AMT4', 'BILL_AMT5', 'BILL_AMT6', 'PAY_AMT1', 'PAY_AMT2', 'PAY_AMT3', 'PAY_AMT4', 'PAY_AMT5', 'PAY_AMT6']\n"
     ]
    }
   ],
   "source": [
    "# assign target and inputs for GBM\n",
    "y = 'DEFAULT_NEXT_MONTH'\n",
    "X = [name for name in data.columns if name not in [y, 'ID']]\n",
    "print('y =', y)\n",
    "print('X =', X)"
   ]
  },
  {
   "cell_type": "markdown",
   "metadata": {},
   "source": [
    "#### Helper function for recoding values in the UCI credict card default data\n",
    "This simple function maps longer, more understandable character string values from the UCI credit card default data dictionary to the original integer values of the input variables found in the dataset. These character values can be used directly in h2o decision tree models, and the function returns the original Pandas DataFrame as an h2o object, an H2OFrame. H2o models cannot run on Pandas DataFrames. They require H2OFrames."
   ]
  },
  {
   "cell_type": "code",
   "execution_count": 5,
   "metadata": {},
   "outputs": [
    {
     "name": "stdout",
     "output_type": "stream",
     "text": [
      "Parse progress: |█████████████████████████████████████████████████████████| 100%\n"
     ]
    }
   ],
   "source": [
    "def recode_cc_data(frame):\n",
    "    \n",
    "    \"\"\" Recodes numeric categorical variables into categorical character variables\n",
    "    with more transparent values. \n",
    "    \n",
    "    Args:\n",
    "        frame: Pandas DataFrame version of UCI credit card default data.\n",
    "        \n",
    "    Returns: \n",
    "        H2OFrame with recoded values.\n",
    "        \n",
    "    \"\"\"\n",
    "    \n",
    "    # define recoded values\n",
    "    sex_dict = {1:'male', 2:'female'}\n",
    "    education_dict = {0:'other', 1:'graduate school', 2:'university', 3:'high school', \n",
    "                      4:'other', 5:'other', 6:'other'}\n",
    "    marriage_dict = {0:'other', 1:'married', 2:'single', 3:'divorced'}\n",
    "    pay_dict = {-2:'no consumption', -1:'pay duly', 0:'use of revolving credit', 1:'1 month delay', \n",
    "                2:'2 month delay', 3:'3 month delay', 4:'4 month delay', 5:'5 month delay', 6:'6 month delay', \n",
    "                7:'7 month delay', 8:'8 month delay', 9:'9+ month delay'}\n",
    "    \n",
    "    # recode values using Pandas apply() and anonymous function\n",
    "    frame['SEX'] = frame['SEX'].apply(lambda i: sex_dict[i])\n",
    "    frame['EDUCATION'] = frame['EDUCATION'].apply(lambda i: education_dict[i])    \n",
    "    frame['MARRIAGE'] = frame['MARRIAGE'].apply(lambda i: marriage_dict[i]) \n",
    "    for name in frame.columns:\n",
    "        if name in ['PAY_0', 'PAY_2', 'PAY_3', 'PAY_4', 'PAY_5', 'PAY_6']:\n",
    "            frame[name] = frame[name].apply(lambda i: pay_dict[i])            \n",
    "                \n",
    "    return h2o.H2OFrame(frame)\n",
    "\n",
    "data = recode_cc_data(data)"
   ]
  },
  {
   "cell_type": "markdown",
   "metadata": {},
   "source": [
    "#### Ensure target is handled as a categorical variable"
   ]
  },
  {
   "cell_type": "markdown",
   "metadata": {},
   "source": [
    "In h2o, a numeric variable can be treated as numeric or categorical. The target variable `DEFAULT_NEXT_MONTH` takes on values of `0` or `1`. To ensure this numeric variable is treated as a categorical variable, the `asfactor()` function is used to explicitly declare that it is a categorical variable. "
   ]
  },
  {
   "cell_type": "code",
   "execution_count": 6,
   "metadata": {},
   "outputs": [],
   "source": [
    "data[y] = data[y].asfactor() "
   ]
  },
  {
   "cell_type": "markdown",
   "metadata": {},
   "source": [
    "#### Display descriptive statistics\n",
    "The h2o `describe()` function displays a brief description of the credit card default data. For the categorical input variables `LIMIT_BAL`, `SEX`, `EDUCATION`, `MARRIAGE`, and `PAY_0`-`PAY_6`, the new character values created above in cell 5 are visible. Basic descriptive statistics are displayed for numeric inputs. Also, it's easy to see there are no missing values in this dataset, which will be an important consideration for calculating LOCO values in section 5 and 6."
   ]
  },
  {
   "cell_type": "code",
   "execution_count": 7,
   "metadata": {},
   "outputs": [
    {
     "name": "stdout",
     "output_type": "stream",
     "text": [
      "Rows:30000\n",
      "Cols:24\n",
      "\n",
      "\n"
     ]
    },
    {
     "data": {
      "text/html": [
       "<table>\n",
       "<thead>\n",
       "<tr><th>       </th><th>LIMIT_BAL         </th><th>SEX   </th><th>EDUCATION      </th><th>MARRIAGE  </th><th>AGE              </th><th>PAY_0                  </th><th>PAY_2                  </th><th>PAY_3                  </th><th>PAY_4                  </th><th>PAY_5                  </th><th>PAY_6                  </th><th>BILL_AMT1        </th><th>BILL_AMT2        </th><th>BILL_AMT3        </th><th>BILL_AMT4        </th><th>BILL_AMT5        </th><th>BILL_AMT6        </th><th>PAY_AMT1          </th><th>PAY_AMT2          </th><th>PAY_AMT3          </th><th>PAY_AMT4          </th><th>PAY_AMT5          </th><th>PAY_AMT6          </th><th>DEFAULT_NEXT_MONTH  </th></tr>\n",
       "</thead>\n",
       "<tbody>\n",
       "<tr><td>type   </td><td>int               </td><td>enum  </td><td>enum           </td><td>enum      </td><td>int              </td><td>enum                   </td><td>enum                   </td><td>enum                   </td><td>enum                   </td><td>enum                   </td><td>enum                   </td><td>int              </td><td>int              </td><td>int              </td><td>int              </td><td>int              </td><td>int              </td><td>int               </td><td>int               </td><td>int               </td><td>int               </td><td>int               </td><td>int               </td><td>enum                </td></tr>\n",
       "<tr><td>mins   </td><td>10000.0           </td><td>      </td><td>               </td><td>          </td><td>21.0             </td><td>                       </td><td>                       </td><td>                       </td><td>                       </td><td>                       </td><td>                       </td><td>-165580.0        </td><td>-69777.0         </td><td>-157264.0        </td><td>-170000.0        </td><td>-81334.0         </td><td>-339603.0        </td><td>0.0               </td><td>0.0               </td><td>0.0               </td><td>0.0               </td><td>0.0               </td><td>0.0               </td><td>                    </td></tr>\n",
       "<tr><td>mean   </td><td>167484.32266666688</td><td>      </td><td>               </td><td>          </td><td>35.48549999999994</td><td>                       </td><td>                       </td><td>                       </td><td>                       </td><td>                       </td><td>                       </td><td>51223.33090000009</td><td>49179.07516666668</td><td>47013.15479999971</td><td>43262.9489666666 </td><td>40311.40096666653</td><td>38871.76039999991</td><td>5663.580500000014 </td><td>5921.16350000001  </td><td>5225.681500000005 </td><td>4826.076866666661 </td><td>4799.387633333302 </td><td>5215.502566666664 </td><td>                    </td></tr>\n",
       "<tr><td>maxs   </td><td>1000000.0         </td><td>      </td><td>               </td><td>          </td><td>79.0             </td><td>                       </td><td>                       </td><td>                       </td><td>                       </td><td>                       </td><td>                       </td><td>964511.0         </td><td>983931.0         </td><td>1664089.0        </td><td>891586.0         </td><td>927171.0         </td><td>961664.0         </td><td>873552.0          </td><td>1684259.0         </td><td>896040.0          </td><td>621000.0          </td><td>426529.0          </td><td>528666.0          </td><td>                    </td></tr>\n",
       "<tr><td>sigma  </td><td>129747.66156720225</td><td>      </td><td>               </td><td>          </td><td>9.21790406809016 </td><td>                       </td><td>                       </td><td>                       </td><td>                       </td><td>                       </td><td>                       </td><td>73635.86057552959</td><td>71173.76878252836</td><td>69349.38742703681</td><td>64332.85613391641</td><td>60797.1557702648 </td><td>59554.10753674574</td><td>16563.280354025763</td><td>23040.870402057226</td><td>17606.961469803115</td><td>15666.159744031993</td><td>15278.305679144793</td><td>17777.465775435332</td><td>                    </td></tr>\n",
       "<tr><td>zeros  </td><td>0                 </td><td>      </td><td>               </td><td>          </td><td>0                </td><td>                       </td><td>                       </td><td>                       </td><td>                       </td><td>                       </td><td>                       </td><td>2008             </td><td>2506             </td><td>2870             </td><td>3195             </td><td>3506             </td><td>4020             </td><td>5249              </td><td>5396              </td><td>5968              </td><td>6408              </td><td>6703              </td><td>7173              </td><td>                    </td></tr>\n",
       "<tr><td>missing</td><td>0                 </td><td>0     </td><td>0              </td><td>0         </td><td>0                </td><td>0                      </td><td>0                      </td><td>0                      </td><td>0                      </td><td>0                      </td><td>0                      </td><td>0                </td><td>0                </td><td>0                </td><td>0                </td><td>0                </td><td>0                </td><td>0                 </td><td>0                 </td><td>0                 </td><td>0                 </td><td>0                 </td><td>0                 </td><td>0                   </td></tr>\n",
       "<tr><td>0      </td><td>20000.0           </td><td>female</td><td>university     </td><td>married   </td><td>24.0             </td><td>2 month delay          </td><td>2 month delay          </td><td>pay duly               </td><td>pay duly               </td><td>no consumption         </td><td>no consumption         </td><td>3913.0           </td><td>3102.0           </td><td>689.0            </td><td>0.0              </td><td>0.0              </td><td>0.0              </td><td>0.0               </td><td>689.0             </td><td>0.0               </td><td>0.0               </td><td>0.0               </td><td>0.0               </td><td>1                   </td></tr>\n",
       "<tr><td>1      </td><td>120000.0          </td><td>female</td><td>university     </td><td>single    </td><td>26.0             </td><td>pay duly               </td><td>2 month delay          </td><td>use of revolving credit</td><td>use of revolving credit</td><td>use of revolving credit</td><td>2 month delay          </td><td>2682.0           </td><td>1725.0           </td><td>2682.0           </td><td>3272.0           </td><td>3455.0           </td><td>3261.0           </td><td>0.0               </td><td>1000.0            </td><td>1000.0            </td><td>1000.0            </td><td>0.0               </td><td>2000.0            </td><td>1                   </td></tr>\n",
       "<tr><td>2      </td><td>90000.0           </td><td>female</td><td>university     </td><td>single    </td><td>34.0             </td><td>use of revolving credit</td><td>use of revolving credit</td><td>use of revolving credit</td><td>use of revolving credit</td><td>use of revolving credit</td><td>use of revolving credit</td><td>29239.0          </td><td>14027.0          </td><td>13559.0          </td><td>14331.0          </td><td>14948.0          </td><td>15549.0          </td><td>1518.0            </td><td>1500.0            </td><td>1000.0            </td><td>1000.0            </td><td>1000.0            </td><td>5000.0            </td><td>0                   </td></tr>\n",
       "<tr><td>3      </td><td>50000.0           </td><td>female</td><td>university     </td><td>married   </td><td>37.0             </td><td>use of revolving credit</td><td>use of revolving credit</td><td>use of revolving credit</td><td>use of revolving credit</td><td>use of revolving credit</td><td>use of revolving credit</td><td>46990.0          </td><td>48233.0          </td><td>49291.0          </td><td>28314.0          </td><td>28959.0          </td><td>29547.0          </td><td>2000.0            </td><td>2019.0            </td><td>1200.0            </td><td>1100.0            </td><td>1069.0            </td><td>1000.0            </td><td>0                   </td></tr>\n",
       "<tr><td>4      </td><td>50000.0           </td><td>male  </td><td>university     </td><td>married   </td><td>57.0             </td><td>pay duly               </td><td>use of revolving credit</td><td>pay duly               </td><td>use of revolving credit</td><td>use of revolving credit</td><td>use of revolving credit</td><td>8617.0           </td><td>5670.0           </td><td>35835.0          </td><td>20940.0          </td><td>19146.0          </td><td>19131.0          </td><td>2000.0            </td><td>36681.0           </td><td>10000.0           </td><td>9000.0            </td><td>689.0             </td><td>679.0             </td><td>0                   </td></tr>\n",
       "<tr><td>5      </td><td>50000.0           </td><td>male  </td><td>graduate school</td><td>single    </td><td>37.0             </td><td>use of revolving credit</td><td>use of revolving credit</td><td>use of revolving credit</td><td>use of revolving credit</td><td>use of revolving credit</td><td>use of revolving credit</td><td>64400.0          </td><td>57069.0          </td><td>57608.0          </td><td>19394.0          </td><td>19619.0          </td><td>20024.0          </td><td>2500.0            </td><td>1815.0            </td><td>657.0             </td><td>1000.0            </td><td>1000.0            </td><td>800.0             </td><td>0                   </td></tr>\n",
       "<tr><td>6      </td><td>500000.0          </td><td>male  </td><td>graduate school</td><td>single    </td><td>29.0             </td><td>use of revolving credit</td><td>use of revolving credit</td><td>use of revolving credit</td><td>use of revolving credit</td><td>use of revolving credit</td><td>use of revolving credit</td><td>367965.0         </td><td>412023.0         </td><td>445007.0         </td><td>542653.0         </td><td>483003.0         </td><td>473944.0         </td><td>55000.0           </td><td>40000.0           </td><td>38000.0           </td><td>20239.0           </td><td>13750.0           </td><td>13770.0           </td><td>0                   </td></tr>\n",
       "<tr><td>7      </td><td>100000.0          </td><td>female</td><td>university     </td><td>single    </td><td>23.0             </td><td>use of revolving credit</td><td>pay duly               </td><td>pay duly               </td><td>use of revolving credit</td><td>use of revolving credit</td><td>pay duly               </td><td>11876.0          </td><td>380.0            </td><td>601.0            </td><td>221.0            </td><td>-159.0           </td><td>567.0            </td><td>380.0             </td><td>601.0             </td><td>0.0               </td><td>581.0             </td><td>1687.0            </td><td>1542.0            </td><td>0                   </td></tr>\n",
       "<tr><td>8      </td><td>140000.0          </td><td>female</td><td>high school    </td><td>married   </td><td>28.0             </td><td>use of revolving credit</td><td>use of revolving credit</td><td>2 month delay          </td><td>use of revolving credit</td><td>use of revolving credit</td><td>use of revolving credit</td><td>11285.0          </td><td>14096.0          </td><td>12108.0          </td><td>12211.0          </td><td>11793.0          </td><td>3719.0           </td><td>3329.0            </td><td>0.0               </td><td>432.0             </td><td>1000.0            </td><td>1000.0            </td><td>1000.0            </td><td>0                   </td></tr>\n",
       "<tr><td>9      </td><td>20000.0           </td><td>male  </td><td>high school    </td><td>single    </td><td>35.0             </td><td>no consumption         </td><td>no consumption         </td><td>no consumption         </td><td>no consumption         </td><td>pay duly               </td><td>pay duly               </td><td>0.0              </td><td>0.0              </td><td>0.0              </td><td>0.0              </td><td>13007.0          </td><td>13912.0          </td><td>0.0               </td><td>0.0               </td><td>0.0               </td><td>13007.0           </td><td>1122.0            </td><td>0.0               </td><td>0                   </td></tr>\n",
       "</tbody>\n",
       "</table>"
      ]
     },
     "metadata": {},
     "output_type": "display_data"
    }
   ],
   "source": [
    "data[X + [y]].describe()"
   ]
  },
  {
   "cell_type": "markdown",
   "metadata": {},
   "source": [
    "## 2. Train an H2O GBM classifier"
   ]
  },
  {
   "cell_type": "markdown",
   "metadata": {},
   "source": [
    "#### Split data into training and test sets for early stopping\n",
    "The credit card default data is split into training and test sets to monitor and prevent overtraining. Reproducibility is also an important factor in creating trustworthy models, and randomly splitting datasets can introduce randomness in model predictions and other results. A random seed is used here to ensure the data split is reproducible."
   ]
  },
  {
   "cell_type": "code",
   "execution_count": 8,
   "metadata": {},
   "outputs": [
    {
     "name": "stdout",
     "output_type": "stream",
     "text": [
      "Train data rows = 21060, columns = 25\n",
      "Test data rows = 8940, columns = 25\n"
     ]
    }
   ],
   "source": [
    "# split into training and validation\n",
    "train, test = data.split_frame([0.7], seed=12345)\n",
    "\n",
    "# summarize split\n",
    "print('Train data rows = %d, columns = %d' % (train.shape[0], train.shape[1]))\n",
    "print('Test data rows = %d, columns = %d' % (test.shape[0], test.shape[1]))"
   ]
  },
  {
   "cell_type": "markdown",
   "metadata": {},
   "source": [
    "#### Train h2o GBM classifier\n",
    "Many tuning parameters must be specified to train a GBM using h2o. Typically a grid search would be performed to identify the best parameters for a given modeling task using the `H2OGridSearch` class. For brevity's sake, a previously-discovered set of good tuning parameters are specified here. Because gradient boosting methods typically resample training data, an additional random seed is also specified for the h2o GBM using the `seed` parameter to create reproducible predictions, error rates, and variable importance values. To avoid overfitting, the `stopping_rounds` parameter is used to stop the training process after the test error fails to decrease for 5 iterations. "
   ]
  },
  {
   "cell_type": "code",
   "execution_count": 9,
   "metadata": {},
   "outputs": [
    {
     "name": "stdout",
     "output_type": "stream",
     "text": [
      "gbm Model Build progress: |███████████████████████████████████████████████| 100%\n",
      "GBM Test AUC = 0.78\n"
     ]
    }
   ],
   "source": [
    "# initialize GBM model\n",
    "model = H2OGradientBoostingEstimator(ntrees=150,            # maximum 150 trees in GBM\n",
    "                                     max_depth=4,           # trees can have maximum depth of 4\n",
    "                                     sample_rate=0.9,       # use 90% of rows in each iteration (tree)\n",
    "                                     col_sample_rate=0.9,   # use 90% of variables in each iteration (tree)\n",
    "                                     #balance_classes=True, # sample to balance 0/1 distribution of target - can help LOCO\n",
    "                                     stopping_rounds=5,     # stop if validation error does not decrease for 5 iterations (trees)\n",
    "                                     score_tree_interval=1, # for reproducibility, set higher for bigger data\n",
    "                                     model_id='dia_gbm',    # for locating the model in Flow UI \n",
    "                                     seed=12345)            # for reproducibility\n",
    "\n",
    "# train a GBM model\n",
    "model.train(y=y, x=X, training_frame=train, validation_frame=test)\n",
    "\n",
    "# print AUC\n",
    "print('GBM Test AUC = %.2f' % model.auc(valid=True))\n",
    "\n",
    "# uncomment to see model details\n",
    "# print(model) "
   ]
  },
  {
   "cell_type": "markdown",
   "metadata": {},
   "source": [
    "#### Display variable importance\n",
    "During training, the h2o GBM aggregates the improvement in error caused by each split in each decision tree across all the decision trees in the ensemble classifier. These values are attributed to the input variable used in each split and give an indication of the contribution each input variable makes toward the model's predictions. The variable importance ranking should be parsimonious with human domain knowledge and reasonable expectations. In this case, a customer's most recent payment behavior, `PAY_0`, is by far the most important variable followed by their second most recent payment, `PAY_2`, and third most recent payment, `PAY_3`, behavior. This result is well-aligned with business practices in credit lending: people who miss their most recent payments are likely to default soon."
   ]
  },
  {
   "cell_type": "code",
   "execution_count": 10,
   "metadata": {},
   "outputs": [
    {
     "data": {
      "image/png": "[encoded data removed]",
      "text/plain": [
       "<Figure size 1008x720 with 1 Axes>"
      ]
     },
     "metadata": {
      "needs_background": "light"
     },
     "output_type": "display_data"
    }
   ],
   "source": [
    "model.varimp_plot()"
   ]
  },
  {
   "cell_type": "markdown",
   "metadata": {},
   "source": [
    "In sections below this notebook will assess whether the GBM is making disparate predictions for customers across educational levels. For now, it's a somewhat heartening sign that the GBM is not placing high importance on the `EDUCATION` variable."
   ]
  },
  {
   "cell_type": "markdown",
   "metadata": {},
   "source": [
    "#### Display Shapley variable importance\n",
    "Shapley values are a locally-accurate and globally consistent variable importance metric. Instead of relying on traditional single-value variable importance measures, local Shapley values for each input will be calculated and aggregated below to get a more holistic and consisent measurement for the global importance of each input variable."
   ]
  },
  {
   "cell_type": "code",
   "execution_count": 81,
   "metadata": {},
   "outputs": [],
   "source": [
    "# contributions = model.predict_contributions(test)\n",
    "# contributions_matrix = contributions.as_data_frame().values\n",
    "# shap_values = contributions_matrix[:,:-1]\n",
    "# shap.summary_plot(shap_values, X, plot_type='bar', color='royalblue')"
   ]
  },
  {
   "cell_type": "markdown",
   "metadata": {},
   "source": [
    "#### Bind model predictions to test data for further calculations"
   ]
  },
  {
   "cell_type": "code",
   "execution_count": 11,
   "metadata": {},
   "outputs": [
    {
     "name": "stdout",
     "output_type": "stream",
     "text": [
      "gbm prediction progress: |████████████████████████████████████████████████| 100%\n"
     ]
    },
    {
     "data": {
      "text/html": [
       "<div>\n",
       "<style scoped>\n",
       "    .dataframe tbody tr th:only-of-type {\n",
       "        vertical-align: middle;\n",
       "    }\n",
       "\n",
       "    .dataframe tbody tr th {\n",
       "        vertical-align: top;\n",
       "    }\n",
       "\n",
       "    .dataframe thead th {\n",
       "        text-align: right;\n",
       "    }\n",
       "</style>\n",
       "<table border=\"1\" class=\"dataframe\">\n",
       "  <thead>\n",
       "    <tr style=\"text-align: right;\">\n",
       "      <th></th>\n",
       "      <th>ID</th>\n",
       "      <th>LIMIT_BAL</th>\n",
       "      <th>SEX</th>\n",
       "      <th>EDUCATION</th>\n",
       "      <th>MARRIAGE</th>\n",
       "      <th>AGE</th>\n",
       "      <th>PAY_0</th>\n",
       "      <th>PAY_2</th>\n",
       "      <th>PAY_3</th>\n",
       "      <th>PAY_4</th>\n",
       "      <th>...</th>\n",
       "      <th>BILL_AMT5</th>\n",
       "      <th>BILL_AMT6</th>\n",
       "      <th>PAY_AMT1</th>\n",
       "      <th>PAY_AMT2</th>\n",
       "      <th>PAY_AMT3</th>\n",
       "      <th>PAY_AMT4</th>\n",
       "      <th>PAY_AMT5</th>\n",
       "      <th>PAY_AMT6</th>\n",
       "      <th>DEFAULT_NEXT_MONTH</th>\n",
       "      <th>p_DEFAULT_NEXT_MONTH</th>\n",
       "    </tr>\n",
       "  </thead>\n",
       "  <tbody>\n",
       "    <tr>\n",
       "      <th>0</th>\n",
       "      <td>4</td>\n",
       "      <td>50000</td>\n",
       "      <td>female</td>\n",
       "      <td>university</td>\n",
       "      <td>married</td>\n",
       "      <td>37</td>\n",
       "      <td>use of revolving credit</td>\n",
       "      <td>use of revolving credit</td>\n",
       "      <td>use of revolving credit</td>\n",
       "      <td>use of revolving credit</td>\n",
       "      <td>...</td>\n",
       "      <td>28959</td>\n",
       "      <td>29547</td>\n",
       "      <td>2000</td>\n",
       "      <td>2019</td>\n",
       "      <td>1200</td>\n",
       "      <td>1100</td>\n",
       "      <td>1069</td>\n",
       "      <td>1000</td>\n",
       "      <td>0</td>\n",
       "      <td>0.144991</td>\n",
       "    </tr>\n",
       "    <tr>\n",
       "      <th>1</th>\n",
       "      <td>8</td>\n",
       "      <td>100000</td>\n",
       "      <td>female</td>\n",
       "      <td>university</td>\n",
       "      <td>single</td>\n",
       "      <td>23</td>\n",
       "      <td>use of revolving credit</td>\n",
       "      <td>pay duly</td>\n",
       "      <td>pay duly</td>\n",
       "      <td>use of revolving credit</td>\n",
       "      <td>...</td>\n",
       "      <td>-159</td>\n",
       "      <td>567</td>\n",
       "      <td>380</td>\n",
       "      <td>601</td>\n",
       "      <td>0</td>\n",
       "      <td>581</td>\n",
       "      <td>1687</td>\n",
       "      <td>1542</td>\n",
       "      <td>0</td>\n",
       "      <td>0.128193</td>\n",
       "    </tr>\n",
       "    <tr>\n",
       "      <th>2</th>\n",
       "      <td>10</td>\n",
       "      <td>20000</td>\n",
       "      <td>male</td>\n",
       "      <td>high school</td>\n",
       "      <td>single</td>\n",
       "      <td>35</td>\n",
       "      <td>no consumption</td>\n",
       "      <td>no consumption</td>\n",
       "      <td>no consumption</td>\n",
       "      <td>no consumption</td>\n",
       "      <td>...</td>\n",
       "      <td>13007</td>\n",
       "      <td>13912</td>\n",
       "      <td>0</td>\n",
       "      <td>0</td>\n",
       "      <td>0</td>\n",
       "      <td>13007</td>\n",
       "      <td>1122</td>\n",
       "      <td>0</td>\n",
       "      <td>0</td>\n",
       "      <td>0.179911</td>\n",
       "    </tr>\n",
       "    <tr>\n",
       "      <th>3</th>\n",
       "      <td>16</td>\n",
       "      <td>50000</td>\n",
       "      <td>female</td>\n",
       "      <td>high school</td>\n",
       "      <td>divorced</td>\n",
       "      <td>23</td>\n",
       "      <td>1 month delay</td>\n",
       "      <td>2 month delay</td>\n",
       "      <td>use of revolving credit</td>\n",
       "      <td>use of revolving credit</td>\n",
       "      <td>...</td>\n",
       "      <td>29531</td>\n",
       "      <td>30211</td>\n",
       "      <td>0</td>\n",
       "      <td>1500</td>\n",
       "      <td>1100</td>\n",
       "      <td>1200</td>\n",
       "      <td>1300</td>\n",
       "      <td>1100</td>\n",
       "      <td>0</td>\n",
       "      <td>0.325205</td>\n",
       "    </tr>\n",
       "    <tr>\n",
       "      <th>4</th>\n",
       "      <td>17</td>\n",
       "      <td>20000</td>\n",
       "      <td>male</td>\n",
       "      <td>graduate school</td>\n",
       "      <td>single</td>\n",
       "      <td>24</td>\n",
       "      <td>use of revolving credit</td>\n",
       "      <td>use of revolving credit</td>\n",
       "      <td>2 month delay</td>\n",
       "      <td>2 month delay</td>\n",
       "      <td>...</td>\n",
       "      <td>17905</td>\n",
       "      <td>19104</td>\n",
       "      <td>3200</td>\n",
       "      <td>0</td>\n",
       "      <td>1500</td>\n",
       "      <td>0</td>\n",
       "      <td>1650</td>\n",
       "      <td>0</td>\n",
       "      <td>1</td>\n",
       "      <td>0.408821</td>\n",
       "    </tr>\n",
       "  </tbody>\n",
       "</table>\n",
       "<p>5 rows × 26 columns</p>\n",
       "</div>"
      ],
      "text/plain": [
       "   ID  LIMIT_BAL     SEX        EDUCATION  MARRIAGE  AGE  \\\n",
       "0   4      50000  female       university   married   37   \n",
       "1   8     100000  female       university    single   23   \n",
       "2  10      20000    male      high school    single   35   \n",
       "3  16      50000  female      high school  divorced   23   \n",
       "4  17      20000    male  graduate school    single   24   \n",
       "\n",
       "                     PAY_0                    PAY_2                    PAY_3  \\\n",
       "0  use of revolving credit  use of revolving credit  use of revolving credit   \n",
       "1  use of revolving credit                 pay duly                 pay duly   \n",
       "2           no consumption           no consumption           no consumption   \n",
       "3            1 month delay            2 month delay  use of revolving credit   \n",
       "4  use of revolving credit  use of revolving credit            2 month delay   \n",
       "\n",
       "                     PAY_4          ...          BILL_AMT5 BILL_AMT6  \\\n",
       "0  use of revolving credit          ...              28959     29547   \n",
       "1  use of revolving credit          ...               -159       567   \n",
       "2           no consumption          ...              13007     13912   \n",
       "3  use of revolving credit          ...              29531     30211   \n",
       "4            2 month delay          ...              17905     19104   \n",
       "\n",
       "   PAY_AMT1  PAY_AMT2  PAY_AMT3  PAY_AMT4  PAY_AMT5  PAY_AMT6  \\\n",
       "0      2000      2019      1200      1100      1069      1000   \n",
       "1       380       601         0       581      1687      1542   \n",
       "2         0         0         0     13007      1122         0   \n",
       "3         0      1500      1100      1200      1300      1100   \n",
       "4      3200         0      1500         0      1650         0   \n",
       "\n",
       "   DEFAULT_NEXT_MONTH  p_DEFAULT_NEXT_MONTH  \n",
       "0                   0              0.144991  \n",
       "1                   0              0.128193  \n",
       "2                   0              0.179911  \n",
       "3                   0              0.325205  \n",
       "4                   1              0.408821  \n",
       "\n",
       "[5 rows x 26 columns]"
      ]
     },
     "execution_count": 11,
     "metadata": {},
     "output_type": "execute_result"
    }
   ],
   "source": [
    "# cbind predictions to training frame\n",
    "# give them a nice name\n",
    "yhat = 'p_DEFAULT_NEXT_MONTH'\n",
    "preds1 = test['ID'].cbind(model.predict(test).drop(['predict', 'p0']))\n",
    "preds1.columns = ['ID', yhat]\n",
    "test_yhat = test.cbind(preds1[yhat]).as_data_frame()\n",
    "\n",
    "test_yhat.head()"
   ]
  },
  {
   "cell_type": "markdown",
   "metadata": {},
   "source": [
    "# 3. Select a Probability Cutoff by Maximizing F1 Statistic"
   ]
  },
  {
   "cell_type": "markdown",
   "metadata": {},
   "source": [
    "#### Function to calculate AUC-PR Curve\n",
    "\n",
    "Classification models often produce probabilities, not decisions. So to make a decision with a model-generated predicted probability for any one customer, you must specify a numeric cutoff above which we say a customer will default and below which we say they will not default. Cutoffs play a crucial role in DIA as they impact the underlying measurements used to calculate diparity. In fact, tuning cutoffs carefully is a potential remdiation tactic for any discovered disparity. There are many accepted ways to select a cutoff (besides simply using 0.5) and in this notebook the cutoff will be selected by striking a balance between the model's recall (true positive rate) and it's precision using the F1 statistic.  \n",
    "\n",
    "Selecting a cutoff can be done intervactively with h2o Flow as well. Enter the url: http://localhost:54321/flow/index.html (or your H2O Connection URL displayed in cell 2) into your browser. Select `Models` -> `List all models` -> `dia_gbm` and you should see an interactive ROC curve where you can pick your own cutoff.\n",
    "\n",
    "To learn more about confusion matrices see: https://en.wikipedia.org/wiki/Confusion_matrix."
   ]
  },
  {
   "cell_type": "code",
   "execution_count": 12,
   "metadata": {},
   "outputs": [],
   "source": [
    "def get_prroc(frame, y, yhat, pos=1, neg=0, res=0.01):\n",
    "    \n",
    "    \"\"\" Calculates precision, recall, and f1 for a pandas dataframe of y and yhat values.\n",
    "    \n",
    "    Args:\n",
    "        frame: Pandas dataframe of actual (y) and predicted (yhat) values.\n",
    "        y: Name of actual value column.\n",
    "        yhat: Name of predicted value column.\n",
    "        pos: Primary target value, default 1.\n",
    "        neg: Secondary target value, default 0.\n",
    "        res: Resolution by which to loop through cutoffs, default 0.01.\n",
    "    \n",
    "    Returns:\n",
    "        Pandas dataframe of precision, recall, and f1 values. \n",
    "    \"\"\"\n",
    "    \n",
    "    frame_ = frame.copy(deep=True) # don't destroy original data\n",
    "    dname = 'd_' + str(y) # column for predicted decisions\n",
    "    eps = 1e-20 # for safe numerical operations\n",
    "    \n",
    "    # init p-r roc frame\n",
    "    prroc_frame = pd.DataFrame(columns=['cutoff', 'recall', 'precision', 'f1'])\n",
    "    \n",
    "    # loop through cutoffs to create p-r roc frame\n",
    "    for cutoff in np.arange(0, 1 + res, res):\n",
    "\n",
    "        # binarize decision to create confusion matrix values\n",
    "        frame_[dname] = np.where(frame_[yhat] > cutoff , 1, 0)\n",
    "        \n",
    "        # calculate confusion matrix values\n",
    "        tp = frame_[(frame_[dname] == pos) & (frame_[y] == pos)].shape[0]\n",
    "        fp = frame_[(frame_[dname] == pos) & (frame_[y] == neg)].shape[0]\n",
    "        tn = frame_[(frame_[dname] == neg) & (frame_[y] == neg)].shape[0]\n",
    "        fn = frame_[(frame_[dname] == neg) & (frame_[y] == pos)].shape[0]\n",
    "        \n",
    "        # calculate precision, recall, and f1\n",
    "        recall = (tp + eps)/((tp + fn) + eps)\n",
    "        precision = (tp + eps)/((tp + fp) + eps)\n",
    "        f1 = 2/((1/(recall + eps)) + (1/(precision + eps)))\n",
    "        \n",
    "        # add new values to frame\n",
    "        prroc_frame = prroc_frame.append({'cutoff': cutoff,\n",
    "                                          'recall': recall,\n",
    "                                          'precision': precision,\n",
    "                                          'f1': f1}, \n",
    "                                          ignore_index=True)\n",
    "    \n",
    "    # housekeeping\n",
    "    del frame_\n",
    "    \n",
    "    return prroc_frame\n",
    "        \n",
    "prroc_frame = get_prroc(test_yhat, 'DEFAULT_NEXT_MONTH', 'p_DEFAULT_NEXT_MONTH')"
   ]
  },
  {
   "cell_type": "markdown",
   "metadata": {},
   "source": [
    "#### Select best cutoff"
   ]
  },
  {
   "cell_type": "code",
   "execution_count": 13,
   "metadata": {},
   "outputs": [
    {
     "name": "stdout",
     "output_type": "stream",
     "text": [
      "0.21\n"
     ]
    }
   ],
   "source": [
    "best_cut = prroc_frame.loc[prroc_frame['f1'].idxmax(), 'cutoff'] # Find cutoff w/ max F1\n",
    "print('%.2f' % best_cut)"
   ]
  },
  {
   "cell_type": "markdown",
   "metadata": {},
   "source": [
    "#### Select best cutoff directly from h2o model"
   ]
  },
  {
   "cell_type": "code",
   "execution_count": 14,
   "metadata": {},
   "outputs": [
    {
     "name": "stdout",
     "output_type": "stream",
     "text": [
      "0.22\n"
     ]
    }
   ],
   "source": [
    "perf_of_model = model.model_performance(test)\n",
    "h2o_best_cut = perf_of_model.find_threshold_by_max_metric(\"f1\")\n",
    "print('%.2f' % h2o_best_cut)"
   ]
  },
  {
   "cell_type": "markdown",
   "metadata": {},
   "source": [
    "#### Plot AUC-PR Curve\n",
    "\n",
    "An area under the curve for precision and recall (AUC-PR) plot is a typical way to visualize recall and precision for a predictive model. The F1 statistic is the harmonic mean of recall and precision, and we can visualize where F1 is maximized on with the AUC-PR curve."
   ]
  },
  {
   "cell_type": "code",
   "execution_count": 15,
   "metadata": {},
   "outputs": [
    {
     "data": {
      "image/png": "[encoded data removed]",
      "text/plain": [
       "<Figure size 432x288 with 1 Axes>"
      ]
     },
     "metadata": {
      "needs_background": "light"
     },
     "output_type": "display_data"
    }
   ],
   "source": [
    "# Plot P-R ROC w/ best cutoff\n",
    "title_ = 'P-R Curve: Best F1 = ' + str(best_cut)\n",
    "ax = prroc_frame.plot(x='recall', y='precision', kind='scatter', title=title_, xlim=[0,1])\n",
    "_ = ax.axvline(best_cut, color='r')"
   ]
  },
  {
   "cell_type": "markdown",
   "metadata": {},
   "source": [
    "In h2o Flow a traditional ROC curve is displayed, in which true positive rate is plotted against false positive rate. You can still use h2o Flow and the traditional ROC curve to verify that F1 is maximized at a probability cutoff of ~ 0.21."
   ]
  },
  {
   "cell_type": "markdown",
   "metadata": {},
   "source": [
    "# 4. Report Raw Confusion Matrices\n",
    "\n",
    "The basic DIA procedure in this notebook is based on measurements found commonly in confusion matrices, so confusion matrices are calculated as a precursor to DIA and to provide a basic summary of the GBM's behavior in general and across eduction levels."
   ]
  },
  {
   "cell_type": "markdown",
   "metadata": {},
   "source": [
    "#### Function to print confusion matrices by an input variable"
   ]
  },
  {
   "cell_type": "code",
   "execution_count": 16,
   "metadata": {},
   "outputs": [
    {
     "name": "stdout",
     "output_type": "stream",
     "text": [
      "Confusion matrix:\n"
     ]
    },
    {
     "data": {
      "text/html": [
       "<div>\n",
       "<style scoped>\n",
       "    .dataframe tbody tr th:only-of-type {\n",
       "        vertical-align: middle;\n",
       "    }\n",
       "\n",
       "    .dataframe tbody tr th {\n",
       "        vertical-align: top;\n",
       "    }\n",
       "\n",
       "    .dataframe thead th {\n",
       "        text-align: right;\n",
       "    }\n",
       "</style>\n",
       "<table border=\"1\" class=\"dataframe\">\n",
       "  <thead>\n",
       "    <tr style=\"text-align: right;\">\n",
       "      <th></th>\n",
       "      <th>actual: 1</th>\n",
       "      <th>actual: 0</th>\n",
       "    </tr>\n",
       "  </thead>\n",
       "  <tbody>\n",
       "    <tr>\n",
       "      <th>predicted: 1</th>\n",
       "      <td>1253</td>\n",
       "      <td>1334</td>\n",
       "    </tr>\n",
       "    <tr>\n",
       "      <th>predicted: 0</th>\n",
       "      <td>750</td>\n",
       "      <td>5603</td>\n",
       "    </tr>\n",
       "  </tbody>\n",
       "</table>\n",
       "</div>"
      ],
      "text/plain": [
       "             actual: 1 actual: 0\n",
       "predicted: 1      1253      1334\n",
       "predicted: 0       750      5603"
      ]
     },
     "execution_count": 16,
     "metadata": {},
     "output_type": "execute_result"
    }
   ],
   "source": [
    "def get_confusion_matrix(frame, y, yhat, by=None, level=None, cutoff=0.5):\n",
    "\n",
    "    \"\"\" Creates confusion matrix from pandas dataframe of y and yhat values, can be sliced \n",
    "        by a variable and level.\n",
    "    \n",
    "    Args:\n",
    "        frame: Pandas dataframe of actual (y) and predicted (yhat) values.\n",
    "        y: Name of actual value column.\n",
    "        yhat: Name of predicted value column.\n",
    "        by: By variable to slice frame before creating confusion matrix, default None.\n",
    "        level: Value of by variable to slice frame before creating confusion matrix, default None.\n",
    "        cutoff: Cutoff threshold for confusion matrix, default 0.5. \n",
    "\n",
    "    Returns:\n",
    "        Confusion matrix as pandas dataframe. \n",
    "    \"\"\"\n",
    "    \n",
    "    # determine levels of target (y) variable\n",
    "    # sort for consistency\n",
    "    level_list = list(frame[y].unique())\n",
    "    level_list.sort(reverse=True)\n",
    "\n",
    "    # init confusion matrix\n",
    "    cm_frame = pd.DataFrame(columns=['actual: ' +  str(i) for i in level_list], \n",
    "                            index=['predicted: ' + str(i) for i in level_list])\n",
    "    \n",
    "    # don't destroy original data\n",
    "    frame_ = frame.copy(deep=True)\n",
    "    \n",
    "    # convert numeric predictions to binary decisions using cutoff\n",
    "    dname = 'd_' + str(y)\n",
    "    frame_[dname] = np.where(frame_[yhat] > cutoff , 1, 0)\n",
    "    \n",
    "    # slice frame\n",
    "    if (by is not None) & (level is not None):\n",
    "        frame_ = frame_[frame[by] == level]\n",
    "    \n",
    "    # calculate size of each confusion matrix value\n",
    "    for i, lev_i in enumerate(level_list):\n",
    "        for j, lev_j in enumerate(level_list):\n",
    "            cm_frame.iat[j, i] = frame_[(frame_[y] == lev_i) & (frame_[dname] == lev_j)].shape[0]\n",
    "    \n",
    "    # output results\n",
    "    if by is None:\n",
    "        print('Confusion matrix:')\n",
    "    else:\n",
    "        print('Confusion matrix by ' + by + '=' + level)\n",
    "    \n",
    "    return cm_frame\n",
    "    \n",
    "    \n",
    "get_confusion_matrix(test_yhat, 'DEFAULT_NEXT_MONTH', 'p_DEFAULT_NEXT_MONTH', cutoff=best_cut)"
   ]
  },
  {
   "cell_type": "markdown",
   "metadata": {},
   "source": [
    "The general confusion matrix shows that the GBM is more accurate than not because the true positive and true negative cells contain the largest values by far. But the GBM seems to make a larger number of type II errors or false negative predictions. False negatives can be a disparity issue, because for complex reasons, many credit scoring and other models tend to over-estimate the likelihood of non-reference groups - typically people other than white males - to default. This is both a sociological fairness problem and a financial problem if an unpriviledged group is not recieving the credit they deserve, in favor of undeserving white males. Deserving people miss out on potentially life-changing credit and lenders incur large write-off costs."
   ]
  },
  {
   "cell_type": "markdown",
   "metadata": {},
   "source": [
    "#### Report confusion matrices by education level \n",
    "\n",
    "Because race is unavailable in the UCI credit card data set, `EDUCATION` level will be used to perform DIA. Note that while education level can be indicative of race, gender, or other protected-by-regulation attributes, DIA would typically be performed directly on race or gender (we will examine gender later). \n",
    "\n",
    "There are four `EDUCATION` levels in the data set:"
   ]
  },
  {
   "cell_type": "code",
   "execution_count": 17,
   "metadata": {},
   "outputs": [
    {
     "data": {
      "text/plain": [
       "['university', 'high school', 'graduate school', 'other']"
      ]
     },
     "execution_count": 17,
     "metadata": {},
     "output_type": "execute_result"
    }
   ],
   "source": [
    "ed_levels = list(test_yhat['EDUCATION'].unique())\n",
    "ed_levels"
   ]
  },
  {
   "cell_type": "markdown",
   "metadata": {},
   "source": [
    "#### Confusion matrix for `Education = other`"
   ]
  },
  {
   "cell_type": "code",
   "execution_count": 18,
   "metadata": {},
   "outputs": [
    {
     "name": "stdout",
     "output_type": "stream",
     "text": [
      "Confusion matrix by EDUCATION=other\n"
     ]
    },
    {
     "data": {
      "text/html": [
       "<div>\n",
       "<style scoped>\n",
       "    .dataframe tbody tr th:only-of-type {\n",
       "        vertical-align: middle;\n",
       "    }\n",
       "\n",
       "    .dataframe tbody tr th {\n",
       "        vertical-align: top;\n",
       "    }\n",
       "\n",
       "    .dataframe thead th {\n",
       "        text-align: right;\n",
       "    }\n",
       "</style>\n",
       "<table border=\"1\" class=\"dataframe\">\n",
       "  <thead>\n",
       "    <tr style=\"text-align: right;\">\n",
       "      <th></th>\n",
       "      <th>actual: 1</th>\n",
       "      <th>actual: 0</th>\n",
       "    </tr>\n",
       "  </thead>\n",
       "  <tbody>\n",
       "    <tr>\n",
       "      <th>predicted: 1</th>\n",
       "      <td>2</td>\n",
       "      <td>6</td>\n",
       "    </tr>\n",
       "    <tr>\n",
       "      <th>predicted: 0</th>\n",
       "      <td>9</td>\n",
       "      <td>116</td>\n",
       "    </tr>\n",
       "  </tbody>\n",
       "</table>\n",
       "</div>"
      ],
      "text/plain": [
       "             actual: 1 actual: 0\n",
       "predicted: 1         2         6\n",
       "predicted: 0         9       116"
      ]
     },
     "execution_count": 18,
     "metadata": {},
     "output_type": "execute_result"
    }
   ],
   "source": [
    "other_cm = get_confusion_matrix(test_yhat, 'DEFAULT_NEXT_MONTH', 'p_DEFAULT_NEXT_MONTH', by='EDUCATION', level='other', cutoff=best_cut)\n",
    "other_cm"
   ]
  },
  {
   "cell_type": "markdown",
   "metadata": {},
   "source": [
    "#### Confusion matrix for `Education = high school`"
   ]
  },
  {
   "cell_type": "code",
   "execution_count": 19,
   "metadata": {},
   "outputs": [
    {
     "name": "stdout",
     "output_type": "stream",
     "text": [
      "Confusion matrix by EDUCATION=high school\n"
     ]
    },
    {
     "data": {
      "text/html": [
       "<div>\n",
       "<style scoped>\n",
       "    .dataframe tbody tr th:only-of-type {\n",
       "        vertical-align: middle;\n",
       "    }\n",
       "\n",
       "    .dataframe tbody tr th {\n",
       "        vertical-align: top;\n",
       "    }\n",
       "\n",
       "    .dataframe thead th {\n",
       "        text-align: right;\n",
       "    }\n",
       "</style>\n",
       "<table border=\"1\" class=\"dataframe\">\n",
       "  <thead>\n",
       "    <tr style=\"text-align: right;\">\n",
       "      <th></th>\n",
       "      <th>actual: 1</th>\n",
       "      <th>actual: 0</th>\n",
       "    </tr>\n",
       "  </thead>\n",
       "  <tbody>\n",
       "    <tr>\n",
       "      <th>predicted: 1</th>\n",
       "      <td>253</td>\n",
       "      <td>280</td>\n",
       "    </tr>\n",
       "    <tr>\n",
       "      <th>predicted: 0</th>\n",
       "      <td>102</td>\n",
       "      <td>831</td>\n",
       "    </tr>\n",
       "  </tbody>\n",
       "</table>\n",
       "</div>"
      ],
      "text/plain": [
       "             actual: 1 actual: 0\n",
       "predicted: 1       253       280\n",
       "predicted: 0       102       831"
      ]
     },
     "execution_count": 19,
     "metadata": {},
     "output_type": "execute_result"
    }
   ],
   "source": [
    "hs_cm = get_confusion_matrix(test_yhat, 'DEFAULT_NEXT_MONTH', 'p_DEFAULT_NEXT_MONTH', by='EDUCATION', level='high school', cutoff=best_cut)\n",
    "hs_cm"
   ]
  },
  {
   "cell_type": "markdown",
   "metadata": {},
   "source": [
    "#### Confusion matrix for `Education = university`"
   ]
  },
  {
   "cell_type": "code",
   "execution_count": 20,
   "metadata": {},
   "outputs": [
    {
     "name": "stdout",
     "output_type": "stream",
     "text": [
      "Confusion matrix by EDUCATION=university\n"
     ]
    },
    {
     "data": {
      "text/html": [
       "<div>\n",
       "<style scoped>\n",
       "    .dataframe tbody tr th:only-of-type {\n",
       "        vertical-align: middle;\n",
       "    }\n",
       "\n",
       "    .dataframe tbody tr th {\n",
       "        vertical-align: top;\n",
       "    }\n",
       "\n",
       "    .dataframe thead th {\n",
       "        text-align: right;\n",
       "    }\n",
       "</style>\n",
       "<table border=\"1\" class=\"dataframe\">\n",
       "  <thead>\n",
       "    <tr style=\"text-align: right;\">\n",
       "      <th></th>\n",
       "      <th>actual: 1</th>\n",
       "      <th>actual: 0</th>\n",
       "    </tr>\n",
       "  </thead>\n",
       "  <tbody>\n",
       "    <tr>\n",
       "      <th>predicted: 1</th>\n",
       "      <td>633</td>\n",
       "      <td>655</td>\n",
       "    </tr>\n",
       "    <tr>\n",
       "      <th>predicted: 0</th>\n",
       "      <td>388</td>\n",
       "      <td>2515</td>\n",
       "    </tr>\n",
       "  </tbody>\n",
       "</table>\n",
       "</div>"
      ],
      "text/plain": [
       "             actual: 1 actual: 0\n",
       "predicted: 1       633       655\n",
       "predicted: 0       388      2515"
      ]
     },
     "execution_count": 20,
     "metadata": {},
     "output_type": "execute_result"
    }
   ],
   "source": [
    "uni_cm = get_confusion_matrix(test_yhat, 'DEFAULT_NEXT_MONTH', 'p_DEFAULT_NEXT_MONTH', by='EDUCATION', level='university', cutoff=best_cut)\n",
    "uni_cm"
   ]
  },
  {
   "cell_type": "markdown",
   "metadata": {},
   "source": [
    "#### Confusion matrix for `Education = graduate school`"
   ]
  },
  {
   "cell_type": "code",
   "execution_count": 21,
   "metadata": {},
   "outputs": [
    {
     "name": "stdout",
     "output_type": "stream",
     "text": [
      "Confusion matrix by EDUCATION=graduate school\n"
     ]
    },
    {
     "data": {
      "text/html": [
       "<div>\n",
       "<style scoped>\n",
       "    .dataframe tbody tr th:only-of-type {\n",
       "        vertical-align: middle;\n",
       "    }\n",
       "\n",
       "    .dataframe tbody tr th {\n",
       "        vertical-align: top;\n",
       "    }\n",
       "\n",
       "    .dataframe thead th {\n",
       "        text-align: right;\n",
       "    }\n",
       "</style>\n",
       "<table border=\"1\" class=\"dataframe\">\n",
       "  <thead>\n",
       "    <tr style=\"text-align: right;\">\n",
       "      <th></th>\n",
       "      <th>actual: 1</th>\n",
       "      <th>actual: 0</th>\n",
       "    </tr>\n",
       "  </thead>\n",
       "  <tbody>\n",
       "    <tr>\n",
       "      <th>predicted: 1</th>\n",
       "      <td>365</td>\n",
       "      <td>393</td>\n",
       "    </tr>\n",
       "    <tr>\n",
       "      <th>predicted: 0</th>\n",
       "      <td>251</td>\n",
       "      <td>2141</td>\n",
       "    </tr>\n",
       "  </tbody>\n",
       "</table>\n",
       "</div>"
      ],
      "text/plain": [
       "             actual: 1 actual: 0\n",
       "predicted: 1       365       393\n",
       "predicted: 0       251      2141"
      ]
     },
     "execution_count": 21,
     "metadata": {},
     "output_type": "execute_result"
    }
   ],
   "source": [
    "gs_cm = get_confusion_matrix(test_yhat, 'DEFAULT_NEXT_MONTH', 'p_DEFAULT_NEXT_MONTH', by='EDUCATION', level='graduate school', cutoff=best_cut)\n",
    "gs_cm"
   ]
  },
  {
   "cell_type": "markdown",
   "metadata": {},
   "source": [
    "#### Report confusion matrices by SEX\n",
    "The only values for SEX in the dataset are female and male."
   ]
  },
  {
   "cell_type": "code",
   "execution_count": 37,
   "metadata": {},
   "outputs": [
    {
     "data": {
      "text/plain": [
       "['female', 'male']"
      ]
     },
     "execution_count": 37,
     "metadata": {},
     "output_type": "execute_result"
    }
   ],
   "source": [
    "sex_levels = list(test_yhat['SEX'].unique())\n",
    "sex_levels"
   ]
  },
  {
   "cell_type": "markdown",
   "metadata": {},
   "source": [
    "#### Confusion matrix for SEX = male"
   ]
  },
  {
   "cell_type": "code",
   "execution_count": 33,
   "metadata": {},
   "outputs": [
    {
     "name": "stdout",
     "output_type": "stream",
     "text": [
      "Confusion matrix by SEX=male\n"
     ]
    },
    {
     "data": {
      "text/html": [
       "<div>\n",
       "<style scoped>\n",
       "    .dataframe tbody tr th:only-of-type {\n",
       "        vertical-align: middle;\n",
       "    }\n",
       "\n",
       "    .dataframe tbody tr th {\n",
       "        vertical-align: top;\n",
       "    }\n",
       "\n",
       "    .dataframe thead th {\n",
       "        text-align: right;\n",
       "    }\n",
       "</style>\n",
       "<table border=\"1\" class=\"dataframe\">\n",
       "  <thead>\n",
       "    <tr style=\"text-align: right;\">\n",
       "      <th></th>\n",
       "      <th>actual: 1</th>\n",
       "      <th>actual: 0</th>\n",
       "    </tr>\n",
       "  </thead>\n",
       "  <tbody>\n",
       "    <tr>\n",
       "      <th>predicted: 1</th>\n",
       "      <td>544</td>\n",
       "      <td>562</td>\n",
       "    </tr>\n",
       "    <tr>\n",
       "      <th>predicted: 0</th>\n",
       "      <td>327</td>\n",
       "      <td>2044</td>\n",
       "    </tr>\n",
       "  </tbody>\n",
       "</table>\n",
       "</div>"
      ],
      "text/plain": [
       "             actual: 1 actual: 0\n",
       "predicted: 1       544       562\n",
       "predicted: 0       327      2044"
      ]
     },
     "execution_count": 33,
     "metadata": {},
     "output_type": "execute_result"
    }
   ],
   "source": [
    "male_cm = get_confusion_matrix(test_yhat, 'DEFAULT_NEXT_MONTH', 'p_DEFAULT_NEXT_MONTH', by='SEX', level='male', cutoff=best_cut)\n",
    "male_cm"
   ]
  },
  {
   "cell_type": "markdown",
   "metadata": {},
   "source": [
    "#### Confusion matrix for SEX = female"
   ]
  },
  {
   "cell_type": "code",
   "execution_count": 34,
   "metadata": {},
   "outputs": [
    {
     "name": "stdout",
     "output_type": "stream",
     "text": [
      "Confusion matrix by SEX=female\n"
     ]
    },
    {
     "data": {
      "text/html": [
       "<div>\n",
       "<style scoped>\n",
       "    .dataframe tbody tr th:only-of-type {\n",
       "        vertical-align: middle;\n",
       "    }\n",
       "\n",
       "    .dataframe tbody tr th {\n",
       "        vertical-align: top;\n",
       "    }\n",
       "\n",
       "    .dataframe thead th {\n",
       "        text-align: right;\n",
       "    }\n",
       "</style>\n",
       "<table border=\"1\" class=\"dataframe\">\n",
       "  <thead>\n",
       "    <tr style=\"text-align: right;\">\n",
       "      <th></th>\n",
       "      <th>actual: 1</th>\n",
       "      <th>actual: 0</th>\n",
       "    </tr>\n",
       "  </thead>\n",
       "  <tbody>\n",
       "    <tr>\n",
       "      <th>predicted: 1</th>\n",
       "      <td>709</td>\n",
       "      <td>772</td>\n",
       "    </tr>\n",
       "    <tr>\n",
       "      <th>predicted: 0</th>\n",
       "      <td>423</td>\n",
       "      <td>3559</td>\n",
       "    </tr>\n",
       "  </tbody>\n",
       "</table>\n",
       "</div>"
      ],
      "text/plain": [
       "             actual: 1 actual: 0\n",
       "predicted: 1       709       772\n",
       "predicted: 0       423      3559"
      ]
     },
     "execution_count": 34,
     "metadata": {},
     "output_type": "execute_result"
    }
   ],
   "source": [
    "female_cm = get_confusion_matrix(test_yhat, 'DEFAULT_NEXT_MONTH', 'p_DEFAULT_NEXT_MONTH', by='SEX', level='female', cutoff=best_cut)\n",
    "female_cm"
   ]
  },
  {
   "cell_type": "markdown",
   "metadata": {},
   "source": [
    "# 6. Disparate Impact Analysis (DIA)"
   ]
  },
  {
   "cell_type": "markdown",
   "metadata": {},
   "source": [
    "To perform the following basic DIA many different values from the confusion matrices reflecting different prediction behavior are calculated. These metrics essentially help us understand the GBM's overall performance and how it behaves when predicting:\n",
    "\n",
    "* Default correctly\n",
    "* Non-default correctly\n",
    "* Default incorrectly (type I errors)\n",
    "* Non-default incorrectly (type II errors)\n",
    "\n",
    "In a real-life lending scenario, type I errors essentially amount to false accusations of financial impropriety and type II errors result in awarding loans to undeserving customers. Both types of errors can be costly to the lender too. Type I errors likely result in lost interest and fees. Type II errors often result in write-offs."
   ]
  },
  {
   "cell_type": "markdown",
   "metadata": {},
   "source": [
    "#### Dictionary of metrics used to assess parity"
   ]
  },
  {
   "cell_type": "code",
   "execution_count": 22,
   "metadata": {},
   "outputs": [],
   "source": [
    "# represent metrics as dictionary for use later\n",
    "metric_dict = {\n",
    "\n",
    "#### overall performance\n",
    "#'Prevalence': '(tp + fn) / (tp + tn +fp + fn)', # how much default actually happens for this group\n",
    "'Adverse Impact': '(tp + fp) / (tp + tn + fp + fn)', # how often the model predicted default for each group \n",
    "'Accuracy':   '(tp + tn) / (tp + tn +fp + fn)', # how often the model predicts default and non-default correctly for this group\n",
    "\n",
    "#### predicting default will happen\n",
    "# (correctly)\n",
    "'True Positive Rate': 'tp / (tp + fn)',  # out of the people in the group *that did* default, how many the model predicted *correctly* would default              \n",
    "'Precision':          'tp / (tp + fp)',  # out of the people in the group the model *predicted* would default, how many the model predicted *correctly* would default\n",
    "\n",
    "#### predicting default won't happen\n",
    "# (correctly)\n",
    "'Specificity':              'tn / (tn + fp)', # out of the people in the group *that did not* default, how many the model predicted *correctly* would not default\n",
    "'Negative Predicted Value': 'tn / (tn + fn)', # out of the people in the group the model *predicted* would not default, how many the model predicted *correctly* would not default  \n",
    "\n",
    "#### analyzing errors - type I\n",
    "# false accusations \n",
    "'False Positive Rate':  'fp / (tn + fp)', # out of the people in the group *that did not* default, how many the model predicted *incorrectly* would default\n",
    "'False Discovery Rate': 'fp / (tp + fp)', # out of the people in the group the model *predicted* would default, how many the model predicted *incorrectly* would default\n",
    "\n",
    "#### analyzing errors - type II\n",
    "# costly ommisions\n",
    "'False Negative Rate': 'fn / (tp + fn)', # out of the people in the group *that did* default, how many the model predicted *incorrectly* would not default\n",
    "'False Omissions Rate':'fn / (tn + fn)'  # out of the people in the group the model *predicted* would not default, how many the model predicted *incorrectly* would not default\n",
    "}    "
   ]
  },
  {
   "cell_type": "markdown",
   "metadata": {},
   "source": [
    "#### Utility function to translate metrics into Pandas statements"
   ]
  },
  {
   "cell_type": "code",
   "execution_count": 49,
   "metadata": {},
   "outputs": [],
   "source": [
    "# small utility function\n",
    "# translates abbreviated metric expressions into executable Python statements\n",
    "\n",
    "def cm_exp_parser(expression, cm_dict, level):\n",
    "    \"\"\"\n",
    "    Small utility function that translates abbreviated metric expressions into\n",
    "    executable Python statements:\n",
    "\n",
    "    tp | fp       cm_dict[level][0, 0] | cm_dict[level][0, 1]\n",
    "    -------  ==>  --------------------------------------------\n",
    "    fn | tn       cm_dict[level][1, 0] | cm_dict[level][1, 1]\n",
    "\n",
    "    \"\"\"\n",
    "\n",
    "    expression = (\n",
    "        expression.replace(\"tp\", f\"{cm_dict[level].iat[0, 0]}\")\n",
    "        .replace(\"fp\", f\"{cm_dict[level].iat[0, 1]}\")\n",
    "        .replace(\"fn\", f\"{cm_dict[level].iat[1, 0]}\")\n",
    "        .replace(\"tn\", f\"{cm_dict[level].iat[1, 1]}\")\n",
    "    )\n",
    "\n",
    "    return expression"
   ]
  },
  {
   "cell_type": "markdown",
   "metadata": {},
   "source": [
    "#### Calculate and report metrics\n",
    "This nested loop calculates all the metrics defined above for each education level."
   ]
  },
  {
   "cell_type": "code",
   "execution_count": 50,
   "metadata": {},
   "outputs": [
    {
     "data": {
      "text/html": [
       "<div>\n",
       "<style scoped>\n",
       "    .dataframe tbody tr th:only-of-type {\n",
       "        vertical-align: middle;\n",
       "    }\n",
       "\n",
       "    .dataframe tbody tr th {\n",
       "        vertical-align: top;\n",
       "    }\n",
       "\n",
       "    .dataframe thead th {\n",
       "        text-align: right;\n",
       "    }\n",
       "</style>\n",
       "<table border=\"1\" class=\"dataframe\">\n",
       "  <thead>\n",
       "    <tr style=\"text-align: right;\">\n",
       "      <th></th>\n",
       "      <th>Adverse Impact</th>\n",
       "      <th>Accuracy</th>\n",
       "      <th>True Positive Rate</th>\n",
       "      <th>Precision</th>\n",
       "      <th>Specificity</th>\n",
       "      <th>Negative Predicted Value</th>\n",
       "      <th>False Positive Rate</th>\n",
       "      <th>False Discovery Rate</th>\n",
       "      <th>False Negative Rate</th>\n",
       "      <th>False Omissions Rate</th>\n",
       "    </tr>\n",
       "  </thead>\n",
       "  <tbody>\n",
       "    <tr>\n",
       "      <th>university</th>\n",
       "      <td>0.307325</td>\n",
       "      <td>0.751133</td>\n",
       "      <td>0.619980</td>\n",
       "      <td>0.491460</td>\n",
       "      <td>0.793375</td>\n",
       "      <td>0.866345</td>\n",
       "      <td>0.206625</td>\n",
       "      <td>0.508540</td>\n",
       "      <td>0.380020</td>\n",
       "      <td>0.133655</td>\n",
       "    </tr>\n",
       "    <tr>\n",
       "      <th>high school</th>\n",
       "      <td>0.363574</td>\n",
       "      <td>0.739427</td>\n",
       "      <td>0.712676</td>\n",
       "      <td>0.474672</td>\n",
       "      <td>0.747975</td>\n",
       "      <td>0.890675</td>\n",
       "      <td>0.252025</td>\n",
       "      <td>0.525328</td>\n",
       "      <td>0.287324</td>\n",
       "      <td>0.109325</td>\n",
       "    </tr>\n",
       "    <tr>\n",
       "      <th>graduate school</th>\n",
       "      <td>0.240635</td>\n",
       "      <td>0.795556</td>\n",
       "      <td>0.592532</td>\n",
       "      <td>0.481530</td>\n",
       "      <td>0.844909</td>\n",
       "      <td>0.895067</td>\n",
       "      <td>0.155091</td>\n",
       "      <td>0.518470</td>\n",
       "      <td>0.407468</td>\n",
       "      <td>0.104933</td>\n",
       "    </tr>\n",
       "    <tr>\n",
       "      <th>other</th>\n",
       "      <td>0.060150</td>\n",
       "      <td>0.887218</td>\n",
       "      <td>0.181818</td>\n",
       "      <td>0.250000</td>\n",
       "      <td>0.950820</td>\n",
       "      <td>0.928000</td>\n",
       "      <td>0.049180</td>\n",
       "      <td>0.750000</td>\n",
       "      <td>0.818182</td>\n",
       "      <td>0.072000</td>\n",
       "    </tr>\n",
       "  </tbody>\n",
       "</table>\n",
       "</div>"
      ],
      "text/plain": [
       "                 Adverse Impact  Accuracy  True Positive Rate  Precision  \\\n",
       "university             0.307325  0.751133            0.619980   0.491460   \n",
       "high school            0.363574  0.739427            0.712676   0.474672   \n",
       "graduate school        0.240635  0.795556            0.592532   0.481530   \n",
       "other                  0.060150  0.887218            0.181818   0.250000   \n",
       "\n",
       "                 Specificity  Negative Predicted Value  False Positive Rate  \\\n",
       "university          0.793375                  0.866345             0.206625   \n",
       "high school         0.747975                  0.890675             0.252025   \n",
       "graduate school     0.844909                  0.895067             0.155091   \n",
       "other               0.950820                  0.928000             0.049180   \n",
       "\n",
       "                 False Discovery Rate  False Negative Rate  \\\n",
       "university                   0.508540             0.380020   \n",
       "high school                  0.525328             0.287324   \n",
       "graduate school              0.518470             0.407468   \n",
       "other                        0.750000             0.818182   \n",
       "\n",
       "                 False Omissions Rate  \n",
       "university                   0.133655  \n",
       "high school                  0.109325  \n",
       "graduate school              0.104933  \n",
       "other                        0.072000  "
      ]
     },
     "execution_count": 50,
     "metadata": {},
     "output_type": "execute_result"
    }
   ],
   "source": [
    "# initialize dict of confusion matrices and corresponding rows of dataframe\n",
    "cm_dict_ed = {'other': other_cm, \n",
    "           'high school': hs_cm, \n",
    "           'university': uni_cm, \n",
    "           'graduate school': gs_cm} \n",
    "\n",
    "metrics_frame_ed = pd.DataFrame(index=ed_levels) # frame for metrics\n",
    "\n",
    "# nested loop through:\n",
    "# - education levels\n",
    "# - metrics \n",
    "for level in ed_levels:\n",
    "    for metric in metric_dict.keys():\n",
    "              \n",
    "        # parse metric expressions into executable pandas statements\n",
    "        expression = cm_exp_parser(metric_dict[metric], cm_dict_ed, level)\n",
    "\n",
    "        # dynamically evaluate metrics to avoid code duplication\n",
    "        metrics_frame_ed.loc[level, metric] = eval(expression)  \n",
    "\n",
    "# display results                \n",
    "metrics_frame_ed"
   ]
  },
  {
   "cell_type": "markdown",
   "metadata": {},
   "source": [
    "From eyeballing the raw metrics we can start to see a few potential disparity problems, particularly related to customers with `EDUCATION = other`. This is the smallest group in the data set, so it's not totally surprising that the GBM may struggle to treat it appropriately. "
   ]
  },
  {
   "cell_type": "markdown",
   "metadata": {},
   "source": [
    "This nested loop calculates all the metrics defined above for men and women."
   ]
  },
  {
   "cell_type": "code",
   "execution_count": 51,
   "metadata": {},
   "outputs": [
    {
     "data": {
      "text/html": [
       "<div>\n",
       "<style scoped>\n",
       "    .dataframe tbody tr th:only-of-type {\n",
       "        vertical-align: middle;\n",
       "    }\n",
       "\n",
       "    .dataframe tbody tr th {\n",
       "        vertical-align: top;\n",
       "    }\n",
       "\n",
       "    .dataframe thead th {\n",
       "        text-align: right;\n",
       "    }\n",
       "</style>\n",
       "<table border=\"1\" class=\"dataframe\">\n",
       "  <thead>\n",
       "    <tr style=\"text-align: right;\">\n",
       "      <th></th>\n",
       "      <th>Adverse Impact</th>\n",
       "      <th>Accuracy</th>\n",
       "      <th>True Positive Rate</th>\n",
       "      <th>Precision</th>\n",
       "      <th>Specificity</th>\n",
       "      <th>Negative Predicted Value</th>\n",
       "      <th>False Positive Rate</th>\n",
       "      <th>False Discovery Rate</th>\n",
       "      <th>False Negative Rate</th>\n",
       "      <th>False Omissions Rate</th>\n",
       "    </tr>\n",
       "  </thead>\n",
       "  <tbody>\n",
       "    <tr>\n",
       "      <th>female</th>\n",
       "      <td>0.271096</td>\n",
       "      <td>0.781256</td>\n",
       "      <td>0.626325</td>\n",
       "      <td>0.478731</td>\n",
       "      <td>0.821750</td>\n",
       "      <td>0.893772</td>\n",
       "      <td>0.178250</td>\n",
       "      <td>0.521269</td>\n",
       "      <td>0.373675</td>\n",
       "      <td>0.106228</td>\n",
       "    </tr>\n",
       "    <tr>\n",
       "      <th>male</th>\n",
       "      <td>0.318090</td>\n",
       "      <td>0.744320</td>\n",
       "      <td>0.624569</td>\n",
       "      <td>0.491863</td>\n",
       "      <td>0.784344</td>\n",
       "      <td>0.862084</td>\n",
       "      <td>0.215656</td>\n",
       "      <td>0.508137</td>\n",
       "      <td>0.375431</td>\n",
       "      <td>0.137916</td>\n",
       "    </tr>\n",
       "  </tbody>\n",
       "</table>\n",
       "</div>"
      ],
      "text/plain": [
       "        Adverse Impact  Accuracy  True Positive Rate  Precision  Specificity  \\\n",
       "female        0.271096  0.781256            0.626325   0.478731     0.821750   \n",
       "male          0.318090  0.744320            0.624569   0.491863     0.784344   \n",
       "\n",
       "        Negative Predicted Value  False Positive Rate  False Discovery Rate  \\\n",
       "female                  0.893772             0.178250              0.521269   \n",
       "male                    0.862084             0.215656              0.508137   \n",
       "\n",
       "        False Negative Rate  False Omissions Rate  \n",
       "female             0.373675              0.106228  \n",
       "male               0.375431              0.137916  "
      ]
     },
     "execution_count": 51,
     "metadata": {},
     "output_type": "execute_result"
    }
   ],
   "source": [
    "# initialize dict of confusion matrices and corresponding rows of dataframe\n",
    "cm_dict_gender = {'male': male_cm, \n",
    "                   'female': female_cm} \n",
    "\n",
    "metrics_frame_gender = pd.DataFrame(index=sex_levels) # frame for metrics\n",
    "\n",
    "# nested loop through:\n",
    "# - sex levels\n",
    "# - metrics \n",
    "for level in sex_levels:\n",
    "    for metric in metric_dict.keys():\n",
    "              \n",
    "        # parse metric expressions into executable pandas statements\n",
    "        expression = cm_exp_parser(metric_dict[metric], cm_dict_gender, level)\n",
    "\n",
    "        # dynamically evaluate metrics to avoid code duplication\n",
    "        metrics_frame_gender.loc[level, metric] = eval(expression)  \n",
    "\n",
    "# display results                \n",
    "metrics_frame_gender"
   ]
  },
  {
   "cell_type": "markdown",
   "metadata": {},
   "source": [
    "#### Plot false omissions rate by SEX\n",
    "Because the confusion matrices indicated there might be a problem with non-default predictions, false omissions rate will be examined closely. False omissions measures how many customers the model predicted incorrectly would not default, out of the customers in the group the model predicted would not default. (Of course other metrics are important from a fairness and business perspective. For an excellent in-depth discussion and example regarding numerous disparity metrics, see: https://github.com/dssg/aequitas/blob/master/docs/source/examples/compas_demo.ipynb)"
   ]
  },
  {
   "cell_type": "code",
   "execution_count": 53,
   "metadata": {},
   "outputs": [
    {
     "data": {
      "image/png": "[encoded data removed]",
      "text/plain": [
       "<Figure size 432x288 with 1 Axes>"
      ]
     },
     "metadata": {
      "needs_background": "light"
     },
     "output_type": "display_data"
    }
   ],
   "source": [
    "_ = metrics_frame_gender['False Omissions Rate'].plot(kind='bar', color='b', title='False Omissions Rate')"
   ]
  },
  {
   "cell_type": "markdown",
   "metadata": {},
   "source": [
    "#### Plot false negative rate by education level "
   ]
  },
  {
   "cell_type": "markdown",
   "metadata": {},
   "source": [
    "Customers with `EDUCATION = other` is a small group with a low default prevalence (0.06), and the GBM appears to underestimate the probability of default for these customers. They have a low true positive rate (0.25), a high specificity (or true negative rate) (0.92), a low false positive rate (0.072) and a high false negative rate (0.75). As dicussed above, false negatives are known to be potentially problematic from a fairness perspective and can be costly for the lender. (Of course other metrics are also important from a fairness and business perspective. Only false negative rate is plotted and discussed here for brevity's sake. For an excellent in-depth discussion and example regarding numerous disparity metrics, see: https://github.com/dssg/aequitas/blob/master/docs/source/examples/compas_demo.ipynb)"
   ]
  },
  {
   "cell_type": "code",
   "execution_count": 55,
   "metadata": {},
   "outputs": [
    {
     "data": {
      "image/png": "[encoded data removed]",
      "text/plain": [
       "<Figure size 432x288 with 1 Axes>"
      ]
     },
     "metadata": {
      "needs_background": "light"
     },
     "output_type": "display_data"
    }
   ],
   "source": [
    "__ = metrics_frame_ed['False Negative Rate'].plot(kind='bar', color='b', title='False Negative Rate by Education Level')"
   ]
  },
  {
   "cell_type": "markdown",
   "metadata": {},
   "source": [
    "#### Calculate and report disparity for SEX\n",
    "To calculate disparity we compare the confusion matrix for each sex to the metrics for a user-defined reference level and to user-defined thresholds. In this case, we take the class of people who seem most priviledged as the reference level, i.e. SEX = male. (Usually the reference level would be race = white or sex = male.) According to the four-fifths rule (https://en.wikipedia.org/wiki/Disparate_impact#The_80%_rule) thresholds are set such that metrics 20% lower or higher than the reference level metric will be flagged as disparate. Technically, the four-fifths rule only applies to the adverse impact ratio, or \"adverse impact disparity\" below, but it will be applied to all other displayed metric as a rule of thumb."
   ]
  },
  {
   "cell_type": "code",
   "execution_count": 56,
   "metadata": {},
   "outputs": [],
   "source": [
    "parity_threshold_low = 0.8    # user-defined low threshold value\n",
    "parity_threshold_hi = 1.25    # user-defined high threshold value"
   ]
  },
  {
   "cell_type": "code",
   "execution_count": 59,
   "metadata": {},
   "outputs": [
    {
     "data": {
      "text/html": [
       "<style  type=\"text/css\" >\n",
       "    #T_06b9bf54_3d76_11ea_9858_a683e71f91e8row0_col0 {\n",
       "            color:  blue;\n",
       "        }    #T_06b9bf54_3d76_11ea_9858_a683e71f91e8row0_col1 {\n",
       "            color:  blue;\n",
       "        }    #T_06b9bf54_3d76_11ea_9858_a683e71f91e8row0_col2 {\n",
       "            color:  blue;\n",
       "        }    #T_06b9bf54_3d76_11ea_9858_a683e71f91e8row0_col3 {\n",
       "            color:  blue;\n",
       "        }    #T_06b9bf54_3d76_11ea_9858_a683e71f91e8row0_col4 {\n",
       "            color:  blue;\n",
       "        }    #T_06b9bf54_3d76_11ea_9858_a683e71f91e8row0_col5 {\n",
       "            color:  blue;\n",
       "        }    #T_06b9bf54_3d76_11ea_9858_a683e71f91e8row0_col6 {\n",
       "            color:  blue;\n",
       "        }    #T_06b9bf54_3d76_11ea_9858_a683e71f91e8row0_col7 {\n",
       "            color:  blue;\n",
       "        }    #T_06b9bf54_3d76_11ea_9858_a683e71f91e8row0_col8 {\n",
       "            color:  blue;\n",
       "        }    #T_06b9bf54_3d76_11ea_9858_a683e71f91e8row0_col9 {\n",
       "            color:  red;\n",
       "        }    #T_06b9bf54_3d76_11ea_9858_a683e71f91e8row1_col0 {\n",
       "            color:  blue;\n",
       "        }    #T_06b9bf54_3d76_11ea_9858_a683e71f91e8row1_col1 {\n",
       "            color:  blue;\n",
       "        }    #T_06b9bf54_3d76_11ea_9858_a683e71f91e8row1_col2 {\n",
       "            color:  blue;\n",
       "        }    #T_06b9bf54_3d76_11ea_9858_a683e71f91e8row1_col3 {\n",
       "            color:  blue;\n",
       "        }    #T_06b9bf54_3d76_11ea_9858_a683e71f91e8row1_col4 {\n",
       "            color:  blue;\n",
       "        }    #T_06b9bf54_3d76_11ea_9858_a683e71f91e8row1_col5 {\n",
       "            color:  blue;\n",
       "        }    #T_06b9bf54_3d76_11ea_9858_a683e71f91e8row1_col6 {\n",
       "            color:  blue;\n",
       "        }    #T_06b9bf54_3d76_11ea_9858_a683e71f91e8row1_col7 {\n",
       "            color:  blue;\n",
       "        }    #T_06b9bf54_3d76_11ea_9858_a683e71f91e8row1_col8 {\n",
       "            color:  blue;\n",
       "        }    #T_06b9bf54_3d76_11ea_9858_a683e71f91e8row1_col9 {\n",
       "            color:  blue;\n",
       "        }</style>  \n",
       "<table id=\"T_06b9bf54_3d76_11ea_9858_a683e71f91e8\" > \n",
       "<thead>    <tr> \n",
       "        <th class=\"blank level0\" ></th> \n",
       "        <th class=\"col_heading level0 col0\" >Adverse Impact Disparity</th> \n",
       "        <th class=\"col_heading level0 col1\" >Accuracy Disparity</th> \n",
       "        <th class=\"col_heading level0 col2\" >True Positive Rate Disparity</th> \n",
       "        <th class=\"col_heading level0 col3\" >Precision Disparity</th> \n",
       "        <th class=\"col_heading level0 col4\" >Specificity Disparity</th> \n",
       "        <th class=\"col_heading level0 col5\" >Negative Predicted Value Disparity</th> \n",
       "        <th class=\"col_heading level0 col6\" >False Positive Rate Disparity</th> \n",
       "        <th class=\"col_heading level0 col7\" >False Discovery Rate Disparity</th> \n",
       "        <th class=\"col_heading level0 col8\" >False Negative Rate Disparity</th> \n",
       "        <th class=\"col_heading level0 col9\" >False Omissions Rate Disparity</th> \n",
       "    </tr></thead> \n",
       "<tbody>    <tr> \n",
       "        <th id=\"T_06b9bf54_3d76_11ea_9858_a683e71f91e8level0_row0\" class=\"row_heading level0 row0\" >female</th> \n",
       "        <td id=\"T_06b9bf54_3d76_11ea_9858_a683e71f91e8row0_col0\" class=\"data row0 col0\" >0.852263</td> \n",
       "        <td id=\"T_06b9bf54_3d76_11ea_9858_a683e71f91e8row0_col1\" class=\"data row0 col1\" >1.04962</td> \n",
       "        <td id=\"T_06b9bf54_3d76_11ea_9858_a683e71f91e8row0_col2\" class=\"data row0 col2\" >1.00281</td> \n",
       "        <td id=\"T_06b9bf54_3d76_11ea_9858_a683e71f91e8row0_col3\" class=\"data row0 col3\" >0.973302</td> \n",
       "        <td id=\"T_06b9bf54_3d76_11ea_9858_a683e71f91e8row0_col4\" class=\"data row0 col4\" >1.04769</td> \n",
       "        <td id=\"T_06b9bf54_3d76_11ea_9858_a683e71f91e8row0_col5\" class=\"data row0 col5\" >1.03676</td> \n",
       "        <td id=\"T_06b9bf54_3d76_11ea_9858_a683e71f91e8row0_col6\" class=\"data row0 col6\" >0.826546</td> \n",
       "        <td id=\"T_06b9bf54_3d76_11ea_9858_a683e71f91e8row0_col7\" class=\"data row0 col7\" >1.02584</td> \n",
       "        <td id=\"T_06b9bf54_3d76_11ea_9858_a683e71f91e8row0_col8\" class=\"data row0 col8\" >0.995324</td> \n",
       "        <td id=\"T_06b9bf54_3d76_11ea_9858_a683e71f91e8row0_col9\" class=\"data row0 col9\" >0.770234</td> \n",
       "    </tr>    <tr> \n",
       "        <th id=\"T_06b9bf54_3d76_11ea_9858_a683e71f91e8level0_row1\" class=\"row_heading level0 row1\" >male</th> \n",
       "        <td id=\"T_06b9bf54_3d76_11ea_9858_a683e71f91e8row1_col0\" class=\"data row1 col0\" >1</td> \n",
       "        <td id=\"T_06b9bf54_3d76_11ea_9858_a683e71f91e8row1_col1\" class=\"data row1 col1\" >1</td> \n",
       "        <td id=\"T_06b9bf54_3d76_11ea_9858_a683e71f91e8row1_col2\" class=\"data row1 col2\" >1</td> \n",
       "        <td id=\"T_06b9bf54_3d76_11ea_9858_a683e71f91e8row1_col3\" class=\"data row1 col3\" >1</td> \n",
       "        <td id=\"T_06b9bf54_3d76_11ea_9858_a683e71f91e8row1_col4\" class=\"data row1 col4\" >1</td> \n",
       "        <td id=\"T_06b9bf54_3d76_11ea_9858_a683e71f91e8row1_col5\" class=\"data row1 col5\" >1</td> \n",
       "        <td id=\"T_06b9bf54_3d76_11ea_9858_a683e71f91e8row1_col6\" class=\"data row1 col6\" >1</td> \n",
       "        <td id=\"T_06b9bf54_3d76_11ea_9858_a683e71f91e8row1_col7\" class=\"data row1 col7\" >1</td> \n",
       "        <td id=\"T_06b9bf54_3d76_11ea_9858_a683e71f91e8row1_col8\" class=\"data row1 col8\" >1</td> \n",
       "        <td id=\"T_06b9bf54_3d76_11ea_9858_a683e71f91e8row1_col9\" class=\"data row1 col9\" >1</td> \n",
       "    </tr></tbody> \n",
       "</table> "
      ],
      "text/plain": [
       "<pandas.io.formats.style.Styler at 0x10f3d6eb8>"
      ]
     },
     "execution_count": 59,
     "metadata": {},
     "output_type": "execute_result"
    }
   ],
   "source": [
    "ref_level_gender = 'male' # user-defined reference level\n",
    "\n",
    "# init frame to store disparity measures\n",
    "disp_frame_gender = pd.DataFrame(index=sex_levels)\n",
    "\n",
    "# compare all metrics to reference level\n",
    "disp_frame_gender = metrics_frame_gender/metrics_frame_gender.loc[ref_level_gender, :]\n",
    "\n",
    "# change column names\n",
    "disp_frame_gender.columns=[col + ' Disparity' for col in metrics_frame_gender.columns]\n",
    "\n",
    "# small utility function to format pandas table output\n",
    "def disparate_red(val):\n",
    "    \n",
    "    color = 'blue' if (parity_threshold_low < val < parity_threshold_hi) else 'red'\n",
    "    return 'color: %s' % color \n",
    "\n",
    "# display results\n",
    "disp_frame_gender.style.applymap(disparate_red)"
   ]
  },
  {
   "cell_type": "markdown",
   "metadata": {},
   "source": [
    "For the selected thresholds, the GBM appears to have only one value for metrics that is low out-of-range, false omissions rate. According to the more common and accepted test of 0.8 < Adverse Impact Disparity < 1.25 this model could be considered to be free from disparate impact w.r.t to SEX. However, the flagged false omissions rate disparity indicates males may be receiving too many loans they cannot pay back, potentially preventing females from recieving these loans."
   ]
  },
  {
   "cell_type": "markdown",
   "metadata": {},
   "source": [
    "#### Calculate and report disparity for EDUCATION\n",
    "Compare the confusion matrix for each education level to the metrics for a user-defined reference level and to user-defined thresholds. In this case, we take the class of people who seem least likely to default as the reference level, i.e. `EDUCATION = graduate school`. We set thresholds such that metrics 20% lower or higher than the reference level metric will be flagged as disparate. "
   ]
  },
  {
   "cell_type": "code",
   "execution_count": 60,
   "metadata": {},
   "outputs": [
    {
     "data": {
      "text/html": [
       "<style  type=\"text/css\" >\n",
       "    #T_18f98746_3d76_11ea_a4dd_a683e71f91e8row0_col0 {\n",
       "            color:  red;\n",
       "        }    #T_18f98746_3d76_11ea_a4dd_a683e71f91e8row0_col1 {\n",
       "            color:  blue;\n",
       "        }    #T_18f98746_3d76_11ea_a4dd_a683e71f91e8row0_col2 {\n",
       "            color:  blue;\n",
       "        }    #T_18f98746_3d76_11ea_a4dd_a683e71f91e8row0_col3 {\n",
       "            color:  blue;\n",
       "        }    #T_18f98746_3d76_11ea_a4dd_a683e71f91e8row0_col4 {\n",
       "            color:  blue;\n",
       "        }    #T_18f98746_3d76_11ea_a4dd_a683e71f91e8row0_col5 {\n",
       "            color:  blue;\n",
       "        }    #T_18f98746_3d76_11ea_a4dd_a683e71f91e8row0_col6 {\n",
       "            color:  red;\n",
       "        }    #T_18f98746_3d76_11ea_a4dd_a683e71f91e8row0_col7 {\n",
       "            color:  blue;\n",
       "        }    #T_18f98746_3d76_11ea_a4dd_a683e71f91e8row0_col8 {\n",
       "            color:  blue;\n",
       "        }    #T_18f98746_3d76_11ea_a4dd_a683e71f91e8row0_col9 {\n",
       "            color:  red;\n",
       "        }    #T_18f98746_3d76_11ea_a4dd_a683e71f91e8row1_col0 {\n",
       "            color:  red;\n",
       "        }    #T_18f98746_3d76_11ea_a4dd_a683e71f91e8row1_col1 {\n",
       "            color:  blue;\n",
       "        }    #T_18f98746_3d76_11ea_a4dd_a683e71f91e8row1_col2 {\n",
       "            color:  blue;\n",
       "        }    #T_18f98746_3d76_11ea_a4dd_a683e71f91e8row1_col3 {\n",
       "            color:  blue;\n",
       "        }    #T_18f98746_3d76_11ea_a4dd_a683e71f91e8row1_col4 {\n",
       "            color:  blue;\n",
       "        }    #T_18f98746_3d76_11ea_a4dd_a683e71f91e8row1_col5 {\n",
       "            color:  blue;\n",
       "        }    #T_18f98746_3d76_11ea_a4dd_a683e71f91e8row1_col6 {\n",
       "            color:  red;\n",
       "        }    #T_18f98746_3d76_11ea_a4dd_a683e71f91e8row1_col7 {\n",
       "            color:  blue;\n",
       "        }    #T_18f98746_3d76_11ea_a4dd_a683e71f91e8row1_col8 {\n",
       "            color:  red;\n",
       "        }    #T_18f98746_3d76_11ea_a4dd_a683e71f91e8row1_col9 {\n",
       "            color:  blue;\n",
       "        }    #T_18f98746_3d76_11ea_a4dd_a683e71f91e8row2_col0 {\n",
       "            color:  blue;\n",
       "        }    #T_18f98746_3d76_11ea_a4dd_a683e71f91e8row2_col1 {\n",
       "            color:  blue;\n",
       "        }    #T_18f98746_3d76_11ea_a4dd_a683e71f91e8row2_col2 {\n",
       "            color:  blue;\n",
       "        }    #T_18f98746_3d76_11ea_a4dd_a683e71f91e8row2_col3 {\n",
       "            color:  blue;\n",
       "        }    #T_18f98746_3d76_11ea_a4dd_a683e71f91e8row2_col4 {\n",
       "            color:  blue;\n",
       "        }    #T_18f98746_3d76_11ea_a4dd_a683e71f91e8row2_col5 {\n",
       "            color:  blue;\n",
       "        }    #T_18f98746_3d76_11ea_a4dd_a683e71f91e8row2_col6 {\n",
       "            color:  blue;\n",
       "        }    #T_18f98746_3d76_11ea_a4dd_a683e71f91e8row2_col7 {\n",
       "            color:  blue;\n",
       "        }    #T_18f98746_3d76_11ea_a4dd_a683e71f91e8row2_col8 {\n",
       "            color:  blue;\n",
       "        }    #T_18f98746_3d76_11ea_a4dd_a683e71f91e8row2_col9 {\n",
       "            color:  blue;\n",
       "        }    #T_18f98746_3d76_11ea_a4dd_a683e71f91e8row3_col0 {\n",
       "            color:  red;\n",
       "        }    #T_18f98746_3d76_11ea_a4dd_a683e71f91e8row3_col1 {\n",
       "            color:  blue;\n",
       "        }    #T_18f98746_3d76_11ea_a4dd_a683e71f91e8row3_col2 {\n",
       "            color:  red;\n",
       "        }    #T_18f98746_3d76_11ea_a4dd_a683e71f91e8row3_col3 {\n",
       "            color:  red;\n",
       "        }    #T_18f98746_3d76_11ea_a4dd_a683e71f91e8row3_col4 {\n",
       "            color:  blue;\n",
       "        }    #T_18f98746_3d76_11ea_a4dd_a683e71f91e8row3_col5 {\n",
       "            color:  blue;\n",
       "        }    #T_18f98746_3d76_11ea_a4dd_a683e71f91e8row3_col6 {\n",
       "            color:  red;\n",
       "        }    #T_18f98746_3d76_11ea_a4dd_a683e71f91e8row3_col7 {\n",
       "            color:  red;\n",
       "        }    #T_18f98746_3d76_11ea_a4dd_a683e71f91e8row3_col8 {\n",
       "            color:  red;\n",
       "        }    #T_18f98746_3d76_11ea_a4dd_a683e71f91e8row3_col9 {\n",
       "            color:  red;\n",
       "        }</style>  \n",
       "<table id=\"T_18f98746_3d76_11ea_a4dd_a683e71f91e8\" > \n",
       "<thead>    <tr> \n",
       "        <th class=\"blank level0\" ></th> \n",
       "        <th class=\"col_heading level0 col0\" >Adverse Impact Disparity</th> \n",
       "        <th class=\"col_heading level0 col1\" >Accuracy Disparity</th> \n",
       "        <th class=\"col_heading level0 col2\" >True Positive Rate Disparity</th> \n",
       "        <th class=\"col_heading level0 col3\" >Precision Disparity</th> \n",
       "        <th class=\"col_heading level0 col4\" >Specificity Disparity</th> \n",
       "        <th class=\"col_heading level0 col5\" >Negative Predicted Value Disparity</th> \n",
       "        <th class=\"col_heading level0 col6\" >False Positive Rate Disparity</th> \n",
       "        <th class=\"col_heading level0 col7\" >False Discovery Rate Disparity</th> \n",
       "        <th class=\"col_heading level0 col8\" >False Negative Rate Disparity</th> \n",
       "        <th class=\"col_heading level0 col9\" >False Omissions Rate Disparity</th> \n",
       "    </tr></thead> \n",
       "<tbody>    <tr> \n",
       "        <th id=\"T_18f98746_3d76_11ea_a4dd_a683e71f91e8level0_row0\" class=\"row_heading level0 row0\" >university</th> \n",
       "        <td id=\"T_18f98746_3d76_11ea_a4dd_a683e71f91e8row0_col0\" class=\"data row0 col0\" >1.27714</td> \n",
       "        <td id=\"T_18f98746_3d76_11ea_a4dd_a683e71f91e8row0_col1\" class=\"data row0 col1\" >0.944162</td> \n",
       "        <td id=\"T_18f98746_3d76_11ea_a4dd_a683e71f91e8row0_col2\" class=\"data row0 col2\" >1.04632</td> \n",
       "        <td id=\"T_18f98746_3d76_11ea_a4dd_a683e71f91e8row0_col3\" class=\"data row0 col3\" >1.02062</td> \n",
       "        <td id=\"T_18f98746_3d76_11ea_a4dd_a683e71f91e8row0_col4\" class=\"data row0 col4\" >0.939007</td> \n",
       "        <td id=\"T_18f98746_3d76_11ea_a4dd_a683e71f91e8row0_col5\" class=\"data row0 col5\" >0.967911</td> \n",
       "        <td id=\"T_18f98746_3d76_11ea_a4dd_a683e71f91e8row0_col6\" class=\"data row0 col6\" >1.33228</td> \n",
       "        <td id=\"T_18f98746_3d76_11ea_a4dd_a683e71f91e8row0_col7\" class=\"data row0 col7\" >0.980849</td> \n",
       "        <td id=\"T_18f98746_3d76_11ea_a4dd_a683e71f91e8row0_col8\" class=\"data row0 col8\" >0.932638</td> \n",
       "        <td id=\"T_18f98746_3d76_11ea_a4dd_a683e71f91e8row0_col9\" class=\"data row0 col9\" >1.27371</td> \n",
       "    </tr>    <tr> \n",
       "        <th id=\"T_18f98746_3d76_11ea_a4dd_a683e71f91e8level0_row1\" class=\"row_heading level0 row1\" >high school</th> \n",
       "        <td id=\"T_18f98746_3d76_11ea_a4dd_a683e71f91e8row1_col0\" class=\"data row1 col0\" >1.5109</td> \n",
       "        <td id=\"T_18f98746_3d76_11ea_a4dd_a683e71f91e8row1_col1\" class=\"data row1 col1\" >0.929447</td> \n",
       "        <td id=\"T_18f98746_3d76_11ea_a4dd_a683e71f91e8row1_col2\" class=\"data row1 col2\" >1.20276</td> \n",
       "        <td id=\"T_18f98746_3d76_11ea_a4dd_a683e71f91e8row1_col3\" class=\"data row1 col3\" >0.985757</td> \n",
       "        <td id=\"T_18f98746_3d76_11ea_a4dd_a683e71f91e8row1_col4\" class=\"data row1 col4\" >0.885272</td> \n",
       "        <td id=\"T_18f98746_3d76_11ea_a4dd_a683e71f91e8row1_col5\" class=\"data row1 col5\" >0.995093</td> \n",
       "        <td id=\"T_18f98746_3d76_11ea_a4dd_a683e71f91e8row1_col6\" class=\"data row1 col6\" >1.62502</td> \n",
       "        <td id=\"T_18f98746_3d76_11ea_a4dd_a683e71f91e8row1_col7\" class=\"data row1 col7\" >1.01323</td> \n",
       "        <td id=\"T_18f98746_3d76_11ea_a4dd_a683e71f91e8row1_col8\" class=\"data row1 col8\" >0.705146</td> \n",
       "        <td id=\"T_18f98746_3d76_11ea_a4dd_a683e71f91e8row1_col9\" class=\"data row1 col9\" >1.04185</td> \n",
       "    </tr>    <tr> \n",
       "        <th id=\"T_18f98746_3d76_11ea_a4dd_a683e71f91e8level0_row2\" class=\"row_heading level0 row2\" >graduate school</th> \n",
       "        <td id=\"T_18f98746_3d76_11ea_a4dd_a683e71f91e8row2_col0\" class=\"data row2 col0\" >1</td> \n",
       "        <td id=\"T_18f98746_3d76_11ea_a4dd_a683e71f91e8row2_col1\" class=\"data row2 col1\" >1</td> \n",
       "        <td id=\"T_18f98746_3d76_11ea_a4dd_a683e71f91e8row2_col2\" class=\"data row2 col2\" >1</td> \n",
       "        <td id=\"T_18f98746_3d76_11ea_a4dd_a683e71f91e8row2_col3\" class=\"data row2 col3\" >1</td> \n",
       "        <td id=\"T_18f98746_3d76_11ea_a4dd_a683e71f91e8row2_col4\" class=\"data row2 col4\" >1</td> \n",
       "        <td id=\"T_18f98746_3d76_11ea_a4dd_a683e71f91e8row2_col5\" class=\"data row2 col5\" >1</td> \n",
       "        <td id=\"T_18f98746_3d76_11ea_a4dd_a683e71f91e8row2_col6\" class=\"data row2 col6\" >1</td> \n",
       "        <td id=\"T_18f98746_3d76_11ea_a4dd_a683e71f91e8row2_col7\" class=\"data row2 col7\" >1</td> \n",
       "        <td id=\"T_18f98746_3d76_11ea_a4dd_a683e71f91e8row2_col8\" class=\"data row2 col8\" >1</td> \n",
       "        <td id=\"T_18f98746_3d76_11ea_a4dd_a683e71f91e8row2_col9\" class=\"data row2 col9\" >1</td> \n",
       "    </tr>    <tr> \n",
       "        <th id=\"T_18f98746_3d76_11ea_a4dd_a683e71f91e8level0_row3\" class=\"row_heading level0 row3\" >other</th> \n",
       "        <td id=\"T_18f98746_3d76_11ea_a4dd_a683e71f91e8row3_col0\" class=\"data row3 col0\" >0.249965</td> \n",
       "        <td id=\"T_18f98746_3d76_11ea_a4dd_a683e71f91e8row3_col1\" class=\"data row3 col1\" >1.11522</td> \n",
       "        <td id=\"T_18f98746_3d76_11ea_a4dd_a683e71f91e8row3_col2\" class=\"data row3 col2\" >0.306849</td> \n",
       "        <td id=\"T_18f98746_3d76_11ea_a4dd_a683e71f91e8row3_col3\" class=\"data row3 col3\" >0.519178</td> \n",
       "        <td id=\"T_18f98746_3d76_11ea_a4dd_a683e71f91e8row3_col4\" class=\"data row3 col4\" >1.12535</td> \n",
       "        <td id=\"T_18f98746_3d76_11ea_a4dd_a683e71f91e8row3_col5\" class=\"data row3 col5\" >1.03679</td> \n",
       "        <td id=\"T_18f98746_3d76_11ea_a4dd_a683e71f91e8row3_col6\" class=\"data row3 col6\" >0.317107</td> \n",
       "        <td id=\"T_18f98746_3d76_11ea_a4dd_a683e71f91e8row3_col7\" class=\"data row3 col7\" >1.44656</td> \n",
       "        <td id=\"T_18f98746_3d76_11ea_a4dd_a683e71f91e8row3_col8\" class=\"data row3 col8\" >2.00797</td> \n",
       "        <td id=\"T_18f98746_3d76_11ea_a4dd_a683e71f91e8row3_col9\" class=\"data row3 col9\" >0.686151</td> \n",
       "    </tr></tbody> \n",
       "</table> "
      ],
      "text/plain": [
       "<pandas.io.formats.style.Styler at 0x10f3e4668>"
      ]
     },
     "execution_count": 60,
     "metadata": {},
     "output_type": "execute_result"
    }
   ],
   "source": [
    "ref_level_ed = 'graduate school' # user-defined reference level\n",
    "\n",
    "# init frame to store disparity measures\n",
    "disp_frame_ed = pd.DataFrame(index=ed_levels)\n",
    "\n",
    "# compare all metrics to reference level\n",
    "disp_frame_ed = metrics_frame_ed/metrics_frame_ed.loc[ref_level_ed, :]\n",
    "\n",
    "# change column names\n",
    "disp_frame_ed.columns=[col + ' Disparity' for col in metrics_frame_ed.columns]\n",
    "\n",
    "# small utility function to format pandas table output\n",
    "def disparate_red(val):\n",
    "    \n",
    "    color = 'blue' if (parity_threshold_low < val < parity_threshold_hi) else 'red'\n",
    "    return 'color: %s' % color \n",
    "\n",
    "# display results\n",
    "disp_frame_ed.style.applymap(disparate_red)"
   ]
  },
  {
   "cell_type": "markdown",
   "metadata": {},
   "source": [
    "For the selected thresholds, the GBM appears to have only a few disparate values for metrics for university and high school graduates as compared to customers who attended graduate school. Those disparities appear larger in magnitude for high school graduates than for university graduates. However, the GBM has numerous disparate values for metrics of customers who have an education level of `other`. These customers have high out-of-range values for false discovery rate disparity and false negative rate disparity, and have low out-of-range disparity values for several other metrics."
   ]
  },
  {
   "cell_type": "markdown",
   "metadata": {},
   "source": [
    "#### Plot false omissions rate disparity for SEX"
   ]
  },
  {
   "cell_type": "code",
   "execution_count": 63,
   "metadata": {},
   "outputs": [
    {
     "data": {
      "image/png": "[encoded data removed]",
      "text/plain": [
       "<Figure size 432x288 with 1 Axes>"
      ]
     },
     "metadata": {
      "needs_background": "light"
     },
     "output_type": "display_data"
    }
   ],
   "source": [
    "ax_gender = disp_frame_gender['False Omissions Rate Disparity'].plot(kind='bar', color='b', title='False Omissions Rate Disparity')\n",
    "_ = ax_gender.axhline(parity_threshold_low, color='r', linestyle='--')\n",
    "_ = ax_gender.axhline(parity_threshold_hi, color='r', linestyle='--')"
   ]
  },
  {
   "cell_type": "markdown",
   "metadata": {},
   "source": [
    "#### Plot false negative rate disparity for EDUCATION"
   ]
  },
  {
   "cell_type": "code",
   "execution_count": 64,
   "metadata": {},
   "outputs": [
    {
     "data": {
      "image/png": "[encoded data removed]",
      "text/plain": [
       "<Figure size 432x288 with 1 Axes>"
      ]
     },
     "metadata": {
      "needs_background": "light"
     },
     "output_type": "display_data"
    }
   ],
   "source": [
    "ax_ed = disp_frame_ed['False Negative Rate Disparity'].plot(kind='bar', color='b', title='False Negative Rate Disparity by Education Level')\n",
    "__ = ax_ed.axhline(parity_threshold_low, color='r', linestyle='--')\n",
    "__ = ax_ed.axhline(parity_threshold_hi, color='r', linestyle='--')"
   ]
  },
  {
   "cell_type": "markdown",
   "metadata": {},
   "source": [
    "#### Assess and report parity for SEX and EDUCATION\n",
    "A binary indication of parity for metrics is reported by simply checking whether disparity values are within the user-defined thresholds. Further parity indicators are defined as combinations of other disparity values:\n",
    "\n",
    "* Type I Parity: Fairness in both FDR Parity and FPR Parity\n",
    "* Type II Parity: Fairness in both FOR Parity and FNR Parity\n",
    "* Equalized Odds: Fairness in both FPR Parity and TPR Parity\n",
    "* Supervised Fairness: Fairness in both Type I and Type II Parity\n",
    "* Overall Fairness: Fairness across all parities for all metrics"
   ]
  },
  {
   "cell_type": "markdown",
   "metadata": {},
   "source": [
    "#### SEX"
   ]
  },
  {
   "cell_type": "code",
   "execution_count": 67,
   "metadata": {},
   "outputs": [
    {
     "data": {
      "text/html": [
       "<style  type=\"text/css\" >\n",
       "    #T_ea65da58_3d76_11ea_9e8b_a683e71f91e8row0_col0 {\n",
       "            color:  blue;\n",
       "        }    #T_ea65da58_3d76_11ea_9e8b_a683e71f91e8row0_col1 {\n",
       "            color:  blue;\n",
       "        }    #T_ea65da58_3d76_11ea_9e8b_a683e71f91e8row0_col2 {\n",
       "            color:  blue;\n",
       "        }    #T_ea65da58_3d76_11ea_9e8b_a683e71f91e8row0_col3 {\n",
       "            color:  blue;\n",
       "        }    #T_ea65da58_3d76_11ea_9e8b_a683e71f91e8row0_col4 {\n",
       "            color:  blue;\n",
       "        }    #T_ea65da58_3d76_11ea_9e8b_a683e71f91e8row0_col5 {\n",
       "            color:  blue;\n",
       "        }    #T_ea65da58_3d76_11ea_9e8b_a683e71f91e8row0_col6 {\n",
       "            color:  blue;\n",
       "        }    #T_ea65da58_3d76_11ea_9e8b_a683e71f91e8row0_col7 {\n",
       "            color:  blue;\n",
       "        }    #T_ea65da58_3d76_11ea_9e8b_a683e71f91e8row0_col8 {\n",
       "            color:  blue;\n",
       "        }    #T_ea65da58_3d76_11ea_9e8b_a683e71f91e8row0_col9 {\n",
       "            color:  red;\n",
       "        }    #T_ea65da58_3d76_11ea_9e8b_a683e71f91e8row0_col10 {\n",
       "            color:  blue;\n",
       "        }    #T_ea65da58_3d76_11ea_9e8b_a683e71f91e8row0_col11 {\n",
       "            color:  red;\n",
       "        }    #T_ea65da58_3d76_11ea_9e8b_a683e71f91e8row0_col12 {\n",
       "            color:  blue;\n",
       "        }    #T_ea65da58_3d76_11ea_9e8b_a683e71f91e8row0_col13 {\n",
       "            color:  red;\n",
       "        }    #T_ea65da58_3d76_11ea_9e8b_a683e71f91e8row0_col14 {\n",
       "            color:  red;\n",
       "        }    #T_ea65da58_3d76_11ea_9e8b_a683e71f91e8row1_col0 {\n",
       "            color:  blue;\n",
       "        }    #T_ea65da58_3d76_11ea_9e8b_a683e71f91e8row1_col1 {\n",
       "            color:  blue;\n",
       "        }    #T_ea65da58_3d76_11ea_9e8b_a683e71f91e8row1_col2 {\n",
       "            color:  blue;\n",
       "        }    #T_ea65da58_3d76_11ea_9e8b_a683e71f91e8row1_col3 {\n",
       "            color:  blue;\n",
       "        }    #T_ea65da58_3d76_11ea_9e8b_a683e71f91e8row1_col4 {\n",
       "            color:  blue;\n",
       "        }    #T_ea65da58_3d76_11ea_9e8b_a683e71f91e8row1_col5 {\n",
       "            color:  blue;\n",
       "        }    #T_ea65da58_3d76_11ea_9e8b_a683e71f91e8row1_col6 {\n",
       "            color:  blue;\n",
       "        }    #T_ea65da58_3d76_11ea_9e8b_a683e71f91e8row1_col7 {\n",
       "            color:  blue;\n",
       "        }    #T_ea65da58_3d76_11ea_9e8b_a683e71f91e8row1_col8 {\n",
       "            color:  blue;\n",
       "        }    #T_ea65da58_3d76_11ea_9e8b_a683e71f91e8row1_col9 {\n",
       "            color:  blue;\n",
       "        }    #T_ea65da58_3d76_11ea_9e8b_a683e71f91e8row1_col10 {\n",
       "            color:  blue;\n",
       "        }    #T_ea65da58_3d76_11ea_9e8b_a683e71f91e8row1_col11 {\n",
       "            color:  blue;\n",
       "        }    #T_ea65da58_3d76_11ea_9e8b_a683e71f91e8row1_col12 {\n",
       "            color:  blue;\n",
       "        }    #T_ea65da58_3d76_11ea_9e8b_a683e71f91e8row1_col13 {\n",
       "            color:  blue;\n",
       "        }    #T_ea65da58_3d76_11ea_9e8b_a683e71f91e8row1_col14 {\n",
       "            color:  blue;\n",
       "        }    #T_ea65da58_3d76_11ea_9e8b_a683e71f91e8row2_col0 {\n",
       "            color:  blue;\n",
       "        }    #T_ea65da58_3d76_11ea_9e8b_a683e71f91e8row2_col1 {\n",
       "            color:  blue;\n",
       "        }    #T_ea65da58_3d76_11ea_9e8b_a683e71f91e8row2_col2 {\n",
       "            color:  blue;\n",
       "        }    #T_ea65da58_3d76_11ea_9e8b_a683e71f91e8row2_col3 {\n",
       "            color:  blue;\n",
       "        }    #T_ea65da58_3d76_11ea_9e8b_a683e71f91e8row2_col4 {\n",
       "            color:  blue;\n",
       "        }    #T_ea65da58_3d76_11ea_9e8b_a683e71f91e8row2_col5 {\n",
       "            color:  blue;\n",
       "        }    #T_ea65da58_3d76_11ea_9e8b_a683e71f91e8row2_col6 {\n",
       "            color:  blue;\n",
       "        }    #T_ea65da58_3d76_11ea_9e8b_a683e71f91e8row2_col7 {\n",
       "            color:  blue;\n",
       "        }    #T_ea65da58_3d76_11ea_9e8b_a683e71f91e8row2_col8 {\n",
       "            color:  blue;\n",
       "        }    #T_ea65da58_3d76_11ea_9e8b_a683e71f91e8row2_col9 {\n",
       "            color:  red;\n",
       "        }    #T_ea65da58_3d76_11ea_9e8b_a683e71f91e8row2_col10 {\n",
       "            color:  blue;\n",
       "        }    #T_ea65da58_3d76_11ea_9e8b_a683e71f91e8row2_col11 {\n",
       "            color:  red;\n",
       "        }    #T_ea65da58_3d76_11ea_9e8b_a683e71f91e8row2_col12 {\n",
       "            color:  blue;\n",
       "        }    #T_ea65da58_3d76_11ea_9e8b_a683e71f91e8row2_col13 {\n",
       "            color:  red;\n",
       "        }    #T_ea65da58_3d76_11ea_9e8b_a683e71f91e8row2_col14 {\n",
       "            color:  red;\n",
       "        }</style>  \n",
       "<table id=\"T_ea65da58_3d76_11ea_9e8b_a683e71f91e8\" > \n",
       "<thead>    <tr> \n",
       "        <th class=\"blank level0\" ></th> \n",
       "        <th class=\"col_heading level0 col0\" >Adverse Impact Parity</th> \n",
       "        <th class=\"col_heading level0 col1\" >Accuracy Parity</th> \n",
       "        <th class=\"col_heading level0 col2\" >True Positive Rate Parity</th> \n",
       "        <th class=\"col_heading level0 col3\" >Precision Parity</th> \n",
       "        <th class=\"col_heading level0 col4\" >Specificity Parity</th> \n",
       "        <th class=\"col_heading level0 col5\" >Negative Predicted Value Parity</th> \n",
       "        <th class=\"col_heading level0 col6\" >False Positive Rate Parity</th> \n",
       "        <th class=\"col_heading level0 col7\" >False Discovery Rate Parity</th> \n",
       "        <th class=\"col_heading level0 col8\" >False Negative Rate Parity</th> \n",
       "        <th class=\"col_heading level0 col9\" >False Omissions Rate Parity</th> \n",
       "        <th class=\"col_heading level0 col10\" >Type I Parity</th> \n",
       "        <th class=\"col_heading level0 col11\" >Type II Parity</th> \n",
       "        <th class=\"col_heading level0 col12\" >Equalized Odds</th> \n",
       "        <th class=\"col_heading level0 col13\" >Supervised Fairness</th> \n",
       "        <th class=\"col_heading level0 col14\" >Overall Fairness</th> \n",
       "    </tr></thead> \n",
       "<tbody>    <tr> \n",
       "        <th id=\"T_ea65da58_3d76_11ea_9e8b_a683e71f91e8level0_row0\" class=\"row_heading level0 row0\" >female</th> \n",
       "        <td id=\"T_ea65da58_3d76_11ea_9e8b_a683e71f91e8row0_col0\" class=\"data row0 col0\" >True</td> \n",
       "        <td id=\"T_ea65da58_3d76_11ea_9e8b_a683e71f91e8row0_col1\" class=\"data row0 col1\" >True</td> \n",
       "        <td id=\"T_ea65da58_3d76_11ea_9e8b_a683e71f91e8row0_col2\" class=\"data row0 col2\" >True</td> \n",
       "        <td id=\"T_ea65da58_3d76_11ea_9e8b_a683e71f91e8row0_col3\" class=\"data row0 col3\" >True</td> \n",
       "        <td id=\"T_ea65da58_3d76_11ea_9e8b_a683e71f91e8row0_col4\" class=\"data row0 col4\" >True</td> \n",
       "        <td id=\"T_ea65da58_3d76_11ea_9e8b_a683e71f91e8row0_col5\" class=\"data row0 col5\" >True</td> \n",
       "        <td id=\"T_ea65da58_3d76_11ea_9e8b_a683e71f91e8row0_col6\" class=\"data row0 col6\" >True</td> \n",
       "        <td id=\"T_ea65da58_3d76_11ea_9e8b_a683e71f91e8row0_col7\" class=\"data row0 col7\" >True</td> \n",
       "        <td id=\"T_ea65da58_3d76_11ea_9e8b_a683e71f91e8row0_col8\" class=\"data row0 col8\" >True</td> \n",
       "        <td id=\"T_ea65da58_3d76_11ea_9e8b_a683e71f91e8row0_col9\" class=\"data row0 col9\" >False</td> \n",
       "        <td id=\"T_ea65da58_3d76_11ea_9e8b_a683e71f91e8row0_col10\" class=\"data row0 col10\" >True</td> \n",
       "        <td id=\"T_ea65da58_3d76_11ea_9e8b_a683e71f91e8row0_col11\" class=\"data row0 col11\" >False</td> \n",
       "        <td id=\"T_ea65da58_3d76_11ea_9e8b_a683e71f91e8row0_col12\" class=\"data row0 col12\" >True</td> \n",
       "        <td id=\"T_ea65da58_3d76_11ea_9e8b_a683e71f91e8row0_col13\" class=\"data row0 col13\" >False</td> \n",
       "        <td id=\"T_ea65da58_3d76_11ea_9e8b_a683e71f91e8row0_col14\" class=\"data row0 col14\" >False</td> \n",
       "    </tr>    <tr> \n",
       "        <th id=\"T_ea65da58_3d76_11ea_9e8b_a683e71f91e8level0_row1\" class=\"row_heading level0 row1\" >male</th> \n",
       "        <td id=\"T_ea65da58_3d76_11ea_9e8b_a683e71f91e8row1_col0\" class=\"data row1 col0\" >True</td> \n",
       "        <td id=\"T_ea65da58_3d76_11ea_9e8b_a683e71f91e8row1_col1\" class=\"data row1 col1\" >True</td> \n",
       "        <td id=\"T_ea65da58_3d76_11ea_9e8b_a683e71f91e8row1_col2\" class=\"data row1 col2\" >True</td> \n",
       "        <td id=\"T_ea65da58_3d76_11ea_9e8b_a683e71f91e8row1_col3\" class=\"data row1 col3\" >True</td> \n",
       "        <td id=\"T_ea65da58_3d76_11ea_9e8b_a683e71f91e8row1_col4\" class=\"data row1 col4\" >True</td> \n",
       "        <td id=\"T_ea65da58_3d76_11ea_9e8b_a683e71f91e8row1_col5\" class=\"data row1 col5\" >True</td> \n",
       "        <td id=\"T_ea65da58_3d76_11ea_9e8b_a683e71f91e8row1_col6\" class=\"data row1 col6\" >True</td> \n",
       "        <td id=\"T_ea65da58_3d76_11ea_9e8b_a683e71f91e8row1_col7\" class=\"data row1 col7\" >True</td> \n",
       "        <td id=\"T_ea65da58_3d76_11ea_9e8b_a683e71f91e8row1_col8\" class=\"data row1 col8\" >True</td> \n",
       "        <td id=\"T_ea65da58_3d76_11ea_9e8b_a683e71f91e8row1_col9\" class=\"data row1 col9\" >True</td> \n",
       "        <td id=\"T_ea65da58_3d76_11ea_9e8b_a683e71f91e8row1_col10\" class=\"data row1 col10\" >True</td> \n",
       "        <td id=\"T_ea65da58_3d76_11ea_9e8b_a683e71f91e8row1_col11\" class=\"data row1 col11\" >True</td> \n",
       "        <td id=\"T_ea65da58_3d76_11ea_9e8b_a683e71f91e8row1_col12\" class=\"data row1 col12\" >True</td> \n",
       "        <td id=\"T_ea65da58_3d76_11ea_9e8b_a683e71f91e8row1_col13\" class=\"data row1 col13\" >True</td> \n",
       "        <td id=\"T_ea65da58_3d76_11ea_9e8b_a683e71f91e8row1_col14\" class=\"data row1 col14\" >True</td> \n",
       "    </tr>    <tr> \n",
       "        <th id=\"T_ea65da58_3d76_11ea_9e8b_a683e71f91e8level0_row2\" class=\"row_heading level0 row2\" >all</th> \n",
       "        <td id=\"T_ea65da58_3d76_11ea_9e8b_a683e71f91e8row2_col0\" class=\"data row2 col0\" >True</td> \n",
       "        <td id=\"T_ea65da58_3d76_11ea_9e8b_a683e71f91e8row2_col1\" class=\"data row2 col1\" >True</td> \n",
       "        <td id=\"T_ea65da58_3d76_11ea_9e8b_a683e71f91e8row2_col2\" class=\"data row2 col2\" >True</td> \n",
       "        <td id=\"T_ea65da58_3d76_11ea_9e8b_a683e71f91e8row2_col3\" class=\"data row2 col3\" >True</td> \n",
       "        <td id=\"T_ea65da58_3d76_11ea_9e8b_a683e71f91e8row2_col4\" class=\"data row2 col4\" >True</td> \n",
       "        <td id=\"T_ea65da58_3d76_11ea_9e8b_a683e71f91e8row2_col5\" class=\"data row2 col5\" >True</td> \n",
       "        <td id=\"T_ea65da58_3d76_11ea_9e8b_a683e71f91e8row2_col6\" class=\"data row2 col6\" >True</td> \n",
       "        <td id=\"T_ea65da58_3d76_11ea_9e8b_a683e71f91e8row2_col7\" class=\"data row2 col7\" >True</td> \n",
       "        <td id=\"T_ea65da58_3d76_11ea_9e8b_a683e71f91e8row2_col8\" class=\"data row2 col8\" >True</td> \n",
       "        <td id=\"T_ea65da58_3d76_11ea_9e8b_a683e71f91e8row2_col9\" class=\"data row2 col9\" >False</td> \n",
       "        <td id=\"T_ea65da58_3d76_11ea_9e8b_a683e71f91e8row2_col10\" class=\"data row2 col10\" >True</td> \n",
       "        <td id=\"T_ea65da58_3d76_11ea_9e8b_a683e71f91e8row2_col11\" class=\"data row2 col11\" >False</td> \n",
       "        <td id=\"T_ea65da58_3d76_11ea_9e8b_a683e71f91e8row2_col12\" class=\"data row2 col12\" >True</td> \n",
       "        <td id=\"T_ea65da58_3d76_11ea_9e8b_a683e71f91e8row2_col13\" class=\"data row2 col13\" >False</td> \n",
       "        <td id=\"T_ea65da58_3d76_11ea_9e8b_a683e71f91e8row2_col14\" class=\"data row2 col14\" >False</td> \n",
       "    </tr></tbody> \n",
       "</table> "
      ],
      "text/plain": [
       "<pandas.io.formats.style.Styler at 0x10b024828>"
      ]
     },
     "execution_count": 67,
     "metadata": {},
     "output_type": "execute_result"
    }
   ],
   "source": [
    "# parity checks\n",
    "# low_threshold (0.8) < *_metric/white_metric < (high_threshold) 1.25 => parity, else disparity \n",
    "\n",
    "# init frame for parity\n",
    "par_frame_gender = pd.DataFrame(index=sex_levels,\n",
    "                            columns=[col + ' Parity' for col in\n",
    "                                     metrics_frame_gender.columns])\n",
    "# nested loop through: \n",
    "# - races\n",
    "# - disparity metrics\n",
    "for i, _ in enumerate(sex_levels):\n",
    "    for j, _ in enumerate(par_frame_gender.columns):\n",
    "        par_frame_gender.iat[i, j] = (parity_threshold_low < disp_frame_gender.iat[\n",
    "            i, j] < parity_threshold_hi)\n",
    "\n",
    "# add overall parity checks\n",
    "# Type I Parity: Fairness in both FDR Parity and FPR Parity\n",
    "# Type II Parity: Fairness in both FOR Parity and FNR Parity\n",
    "# Equalized Odds: Fairness in both FPR Parity and TPR Parity\n",
    "# Supervised Fairness: Fairness in both Type I and Type II Parity\n",
    "# Overall Fairness: Fairness across all parities for all metrics\n",
    "par_frame_gender['Type I Parity'] = (par_frame_gender['False Discovery Rate Parity']) & (\n",
    "par_frame_gender['False Positive Rate Parity'])\n",
    "par_frame_gender['Type II Parity'] = (par_frame_gender['False Omissions Rate Parity']) & (\n",
    "par_frame_gender['False Negative Rate Parity'])\n",
    "par_frame_gender['Equalized Odds'] = (par_frame_gender['False Positive Rate Parity']) & (\n",
    "par_frame_gender['True Positive Rate Parity'])\n",
    "par_frame_gender['Supervised Fairness'] = (par_frame_gender['Type I Parity']) & (\n",
    "par_frame_gender['Type II Parity'])\n",
    "par_frame_gender['Overall Fairness'] = par_frame_gender.all(axis='columns')\n",
    "par_frame_gender.loc['all', :] = par_frame_gender.all(axis='index')\n",
    "\n",
    "\n",
    "# small utility function to format pandas table output    \n",
    "def color_false_red(val):\n",
    "    color = 'red' if not val else 'blue'\n",
    "    return 'color: %s' % color\n",
    "\n",
    "\n",
    "par_frame_gender.style.applymap(color_false_red)"
   ]
  },
  {
   "cell_type": "markdown",
   "metadata": {},
   "source": [
    "Importantly, the GBM appears to have adverse impact parity, and many other types of positive parity characteristics. However, the model is still suffering from a minor disparity problem due to it's propensity to make false negative predictions for males. To address such bias users could tune the GBM cutoff or regularization, could try new methods for reweighing data prior to model training, try new modeling methods specifically designed for fairness, or post-process the decisions. Checkout the IBM AIF360 package for some of these techniques: http://aif360.mybluemix.net/. Before attempting remediation here, local, or individual, fairness will also be investigated."
   ]
  },
  {
   "cell_type": "markdown",
   "metadata": {},
   "source": [
    "#### EDUCATION"
   ]
  },
  {
   "cell_type": "code",
   "execution_count": 66,
   "metadata": {},
   "outputs": [
    {
     "data": {
      "text/html": [
       "<style  type=\"text/css\" >\n",
       "    #T_b1a8fcf4_3d76_11ea_a03a_a683e71f91e8row0_col0 {\n",
       "            color:  red;\n",
       "        }    #T_b1a8fcf4_3d76_11ea_a03a_a683e71f91e8row0_col1 {\n",
       "            color:  blue;\n",
       "        }    #T_b1a8fcf4_3d76_11ea_a03a_a683e71f91e8row0_col2 {\n",
       "            color:  blue;\n",
       "        }    #T_b1a8fcf4_3d76_11ea_a03a_a683e71f91e8row0_col3 {\n",
       "            color:  blue;\n",
       "        }    #T_b1a8fcf4_3d76_11ea_a03a_a683e71f91e8row0_col4 {\n",
       "            color:  blue;\n",
       "        }    #T_b1a8fcf4_3d76_11ea_a03a_a683e71f91e8row0_col5 {\n",
       "            color:  blue;\n",
       "        }    #T_b1a8fcf4_3d76_11ea_a03a_a683e71f91e8row0_col6 {\n",
       "            color:  red;\n",
       "        }    #T_b1a8fcf4_3d76_11ea_a03a_a683e71f91e8row0_col7 {\n",
       "            color:  blue;\n",
       "        }    #T_b1a8fcf4_3d76_11ea_a03a_a683e71f91e8row0_col8 {\n",
       "            color:  blue;\n",
       "        }    #T_b1a8fcf4_3d76_11ea_a03a_a683e71f91e8row0_col9 {\n",
       "            color:  red;\n",
       "        }    #T_b1a8fcf4_3d76_11ea_a03a_a683e71f91e8row0_col10 {\n",
       "            color:  red;\n",
       "        }    #T_b1a8fcf4_3d76_11ea_a03a_a683e71f91e8row0_col11 {\n",
       "            color:  red;\n",
       "        }    #T_b1a8fcf4_3d76_11ea_a03a_a683e71f91e8row0_col12 {\n",
       "            color:  red;\n",
       "        }    #T_b1a8fcf4_3d76_11ea_a03a_a683e71f91e8row0_col13 {\n",
       "            color:  red;\n",
       "        }    #T_b1a8fcf4_3d76_11ea_a03a_a683e71f91e8row0_col14 {\n",
       "            color:  red;\n",
       "        }    #T_b1a8fcf4_3d76_11ea_a03a_a683e71f91e8row1_col0 {\n",
       "            color:  red;\n",
       "        }    #T_b1a8fcf4_3d76_11ea_a03a_a683e71f91e8row1_col1 {\n",
       "            color:  blue;\n",
       "        }    #T_b1a8fcf4_3d76_11ea_a03a_a683e71f91e8row1_col2 {\n",
       "            color:  blue;\n",
       "        }    #T_b1a8fcf4_3d76_11ea_a03a_a683e71f91e8row1_col3 {\n",
       "            color:  blue;\n",
       "        }    #T_b1a8fcf4_3d76_11ea_a03a_a683e71f91e8row1_col4 {\n",
       "            color:  blue;\n",
       "        }    #T_b1a8fcf4_3d76_11ea_a03a_a683e71f91e8row1_col5 {\n",
       "            color:  blue;\n",
       "        }    #T_b1a8fcf4_3d76_11ea_a03a_a683e71f91e8row1_col6 {\n",
       "            color:  red;\n",
       "        }    #T_b1a8fcf4_3d76_11ea_a03a_a683e71f91e8row1_col7 {\n",
       "            color:  blue;\n",
       "        }    #T_b1a8fcf4_3d76_11ea_a03a_a683e71f91e8row1_col8 {\n",
       "            color:  red;\n",
       "        }    #T_b1a8fcf4_3d76_11ea_a03a_a683e71f91e8row1_col9 {\n",
       "            color:  blue;\n",
       "        }    #T_b1a8fcf4_3d76_11ea_a03a_a683e71f91e8row1_col10 {\n",
       "            color:  red;\n",
       "        }    #T_b1a8fcf4_3d76_11ea_a03a_a683e71f91e8row1_col11 {\n",
       "            color:  red;\n",
       "        }    #T_b1a8fcf4_3d76_11ea_a03a_a683e71f91e8row1_col12 {\n",
       "            color:  red;\n",
       "        }    #T_b1a8fcf4_3d76_11ea_a03a_a683e71f91e8row1_col13 {\n",
       "            color:  red;\n",
       "        }    #T_b1a8fcf4_3d76_11ea_a03a_a683e71f91e8row1_col14 {\n",
       "            color:  red;\n",
       "        }    #T_b1a8fcf4_3d76_11ea_a03a_a683e71f91e8row2_col0 {\n",
       "            color:  blue;\n",
       "        }    #T_b1a8fcf4_3d76_11ea_a03a_a683e71f91e8row2_col1 {\n",
       "            color:  blue;\n",
       "        }    #T_b1a8fcf4_3d76_11ea_a03a_a683e71f91e8row2_col2 {\n",
       "            color:  blue;\n",
       "        }    #T_b1a8fcf4_3d76_11ea_a03a_a683e71f91e8row2_col3 {\n",
       "            color:  blue;\n",
       "        }    #T_b1a8fcf4_3d76_11ea_a03a_a683e71f91e8row2_col4 {\n",
       "            color:  blue;\n",
       "        }    #T_b1a8fcf4_3d76_11ea_a03a_a683e71f91e8row2_col5 {\n",
       "            color:  blue;\n",
       "        }    #T_b1a8fcf4_3d76_11ea_a03a_a683e71f91e8row2_col6 {\n",
       "            color:  blue;\n",
       "        }    #T_b1a8fcf4_3d76_11ea_a03a_a683e71f91e8row2_col7 {\n",
       "            color:  blue;\n",
       "        }    #T_b1a8fcf4_3d76_11ea_a03a_a683e71f91e8row2_col8 {\n",
       "            color:  blue;\n",
       "        }    #T_b1a8fcf4_3d76_11ea_a03a_a683e71f91e8row2_col9 {\n",
       "            color:  blue;\n",
       "        }    #T_b1a8fcf4_3d76_11ea_a03a_a683e71f91e8row2_col10 {\n",
       "            color:  blue;\n",
       "        }    #T_b1a8fcf4_3d76_11ea_a03a_a683e71f91e8row2_col11 {\n",
       "            color:  blue;\n",
       "        }    #T_b1a8fcf4_3d76_11ea_a03a_a683e71f91e8row2_col12 {\n",
       "            color:  blue;\n",
       "        }    #T_b1a8fcf4_3d76_11ea_a03a_a683e71f91e8row2_col13 {\n",
       "            color:  blue;\n",
       "        }    #T_b1a8fcf4_3d76_11ea_a03a_a683e71f91e8row2_col14 {\n",
       "            color:  blue;\n",
       "        }    #T_b1a8fcf4_3d76_11ea_a03a_a683e71f91e8row3_col0 {\n",
       "            color:  red;\n",
       "        }    #T_b1a8fcf4_3d76_11ea_a03a_a683e71f91e8row3_col1 {\n",
       "            color:  blue;\n",
       "        }    #T_b1a8fcf4_3d76_11ea_a03a_a683e71f91e8row3_col2 {\n",
       "            color:  red;\n",
       "        }    #T_b1a8fcf4_3d76_11ea_a03a_a683e71f91e8row3_col3 {\n",
       "            color:  red;\n",
       "        }    #T_b1a8fcf4_3d76_11ea_a03a_a683e71f91e8row3_col4 {\n",
       "            color:  blue;\n",
       "        }    #T_b1a8fcf4_3d76_11ea_a03a_a683e71f91e8row3_col5 {\n",
       "            color:  blue;\n",
       "        }    #T_b1a8fcf4_3d76_11ea_a03a_a683e71f91e8row3_col6 {\n",
       "            color:  red;\n",
       "        }    #T_b1a8fcf4_3d76_11ea_a03a_a683e71f91e8row3_col7 {\n",
       "            color:  red;\n",
       "        }    #T_b1a8fcf4_3d76_11ea_a03a_a683e71f91e8row3_col8 {\n",
       "            color:  red;\n",
       "        }    #T_b1a8fcf4_3d76_11ea_a03a_a683e71f91e8row3_col9 {\n",
       "            color:  red;\n",
       "        }    #T_b1a8fcf4_3d76_11ea_a03a_a683e71f91e8row3_col10 {\n",
       "            color:  red;\n",
       "        }    #T_b1a8fcf4_3d76_11ea_a03a_a683e71f91e8row3_col11 {\n",
       "            color:  red;\n",
       "        }    #T_b1a8fcf4_3d76_11ea_a03a_a683e71f91e8row3_col12 {\n",
       "            color:  red;\n",
       "        }    #T_b1a8fcf4_3d76_11ea_a03a_a683e71f91e8row3_col13 {\n",
       "            color:  red;\n",
       "        }    #T_b1a8fcf4_3d76_11ea_a03a_a683e71f91e8row3_col14 {\n",
       "            color:  red;\n",
       "        }    #T_b1a8fcf4_3d76_11ea_a03a_a683e71f91e8row4_col0 {\n",
       "            color:  red;\n",
       "        }    #T_b1a8fcf4_3d76_11ea_a03a_a683e71f91e8row4_col1 {\n",
       "            color:  blue;\n",
       "        }    #T_b1a8fcf4_3d76_11ea_a03a_a683e71f91e8row4_col2 {\n",
       "            color:  red;\n",
       "        }    #T_b1a8fcf4_3d76_11ea_a03a_a683e71f91e8row4_col3 {\n",
       "            color:  red;\n",
       "        }    #T_b1a8fcf4_3d76_11ea_a03a_a683e71f91e8row4_col4 {\n",
       "            color:  blue;\n",
       "        }    #T_b1a8fcf4_3d76_11ea_a03a_a683e71f91e8row4_col5 {\n",
       "            color:  blue;\n",
       "        }    #T_b1a8fcf4_3d76_11ea_a03a_a683e71f91e8row4_col6 {\n",
       "            color:  red;\n",
       "        }    #T_b1a8fcf4_3d76_11ea_a03a_a683e71f91e8row4_col7 {\n",
       "            color:  red;\n",
       "        }    #T_b1a8fcf4_3d76_11ea_a03a_a683e71f91e8row4_col8 {\n",
       "            color:  red;\n",
       "        }    #T_b1a8fcf4_3d76_11ea_a03a_a683e71f91e8row4_col9 {\n",
       "            color:  red;\n",
       "        }    #T_b1a8fcf4_3d76_11ea_a03a_a683e71f91e8row4_col10 {\n",
       "            color:  red;\n",
       "        }    #T_b1a8fcf4_3d76_11ea_a03a_a683e71f91e8row4_col11 {\n",
       "            color:  red;\n",
       "        }    #T_b1a8fcf4_3d76_11ea_a03a_a683e71f91e8row4_col12 {\n",
       "            color:  red;\n",
       "        }    #T_b1a8fcf4_3d76_11ea_a03a_a683e71f91e8row4_col13 {\n",
       "            color:  red;\n",
       "        }    #T_b1a8fcf4_3d76_11ea_a03a_a683e71f91e8row4_col14 {\n",
       "            color:  red;\n",
       "        }</style>  \n",
       "<table id=\"T_b1a8fcf4_3d76_11ea_a03a_a683e71f91e8\" > \n",
       "<thead>    <tr> \n",
       "        <th class=\"blank level0\" ></th> \n",
       "        <th class=\"col_heading level0 col0\" >Adverse Impact Parity</th> \n",
       "        <th class=\"col_heading level0 col1\" >Accuracy Parity</th> \n",
       "        <th class=\"col_heading level0 col2\" >True Positive Rate Parity</th> \n",
       "        <th class=\"col_heading level0 col3\" >Precision Parity</th> \n",
       "        <th class=\"col_heading level0 col4\" >Specificity Parity</th> \n",
       "        <th class=\"col_heading level0 col5\" >Negative Predicted Value Parity</th> \n",
       "        <th class=\"col_heading level0 col6\" >False Positive Rate Parity</th> \n",
       "        <th class=\"col_heading level0 col7\" >False Discovery Rate Parity</th> \n",
       "        <th class=\"col_heading level0 col8\" >False Negative Rate Parity</th> \n",
       "        <th class=\"col_heading level0 col9\" >False Omissions Rate Parity</th> \n",
       "        <th class=\"col_heading level0 col10\" >Type I Parity</th> \n",
       "        <th class=\"col_heading level0 col11\" >Type II Parity</th> \n",
       "        <th class=\"col_heading level0 col12\" >Equalized Odds</th> \n",
       "        <th class=\"col_heading level0 col13\" >Supervised Fairness</th> \n",
       "        <th class=\"col_heading level0 col14\" >Overall Fairness</th> \n",
       "    </tr></thead> \n",
       "<tbody>    <tr> \n",
       "        <th id=\"T_b1a8fcf4_3d76_11ea_a03a_a683e71f91e8level0_row0\" class=\"row_heading level0 row0\" >university</th> \n",
       "        <td id=\"T_b1a8fcf4_3d76_11ea_a03a_a683e71f91e8row0_col0\" class=\"data row0 col0\" >False</td> \n",
       "        <td id=\"T_b1a8fcf4_3d76_11ea_a03a_a683e71f91e8row0_col1\" class=\"data row0 col1\" >True</td> \n",
       "        <td id=\"T_b1a8fcf4_3d76_11ea_a03a_a683e71f91e8row0_col2\" class=\"data row0 col2\" >True</td> \n",
       "        <td id=\"T_b1a8fcf4_3d76_11ea_a03a_a683e71f91e8row0_col3\" class=\"data row0 col3\" >True</td> \n",
       "        <td id=\"T_b1a8fcf4_3d76_11ea_a03a_a683e71f91e8row0_col4\" class=\"data row0 col4\" >True</td> \n",
       "        <td id=\"T_b1a8fcf4_3d76_11ea_a03a_a683e71f91e8row0_col5\" class=\"data row0 col5\" >True</td> \n",
       "        <td id=\"T_b1a8fcf4_3d76_11ea_a03a_a683e71f91e8row0_col6\" class=\"data row0 col6\" >False</td> \n",
       "        <td id=\"T_b1a8fcf4_3d76_11ea_a03a_a683e71f91e8row0_col7\" class=\"data row0 col7\" >True</td> \n",
       "        <td id=\"T_b1a8fcf4_3d76_11ea_a03a_a683e71f91e8row0_col8\" class=\"data row0 col8\" >True</td> \n",
       "        <td id=\"T_b1a8fcf4_3d76_11ea_a03a_a683e71f91e8row0_col9\" class=\"data row0 col9\" >False</td> \n",
       "        <td id=\"T_b1a8fcf4_3d76_11ea_a03a_a683e71f91e8row0_col10\" class=\"data row0 col10\" >False</td> \n",
       "        <td id=\"T_b1a8fcf4_3d76_11ea_a03a_a683e71f91e8row0_col11\" class=\"data row0 col11\" >False</td> \n",
       "        <td id=\"T_b1a8fcf4_3d76_11ea_a03a_a683e71f91e8row0_col12\" class=\"data row0 col12\" >False</td> \n",
       "        <td id=\"T_b1a8fcf4_3d76_11ea_a03a_a683e71f91e8row0_col13\" class=\"data row0 col13\" >False</td> \n",
       "        <td id=\"T_b1a8fcf4_3d76_11ea_a03a_a683e71f91e8row0_col14\" class=\"data row0 col14\" >False</td> \n",
       "    </tr>    <tr> \n",
       "        <th id=\"T_b1a8fcf4_3d76_11ea_a03a_a683e71f91e8level0_row1\" class=\"row_heading level0 row1\" >high school</th> \n",
       "        <td id=\"T_b1a8fcf4_3d76_11ea_a03a_a683e71f91e8row1_col0\" class=\"data row1 col0\" >False</td> \n",
       "        <td id=\"T_b1a8fcf4_3d76_11ea_a03a_a683e71f91e8row1_col1\" class=\"data row1 col1\" >True</td> \n",
       "        <td id=\"T_b1a8fcf4_3d76_11ea_a03a_a683e71f91e8row1_col2\" class=\"data row1 col2\" >True</td> \n",
       "        <td id=\"T_b1a8fcf4_3d76_11ea_a03a_a683e71f91e8row1_col3\" class=\"data row1 col3\" >True</td> \n",
       "        <td id=\"T_b1a8fcf4_3d76_11ea_a03a_a683e71f91e8row1_col4\" class=\"data row1 col4\" >True</td> \n",
       "        <td id=\"T_b1a8fcf4_3d76_11ea_a03a_a683e71f91e8row1_col5\" class=\"data row1 col5\" >True</td> \n",
       "        <td id=\"T_b1a8fcf4_3d76_11ea_a03a_a683e71f91e8row1_col6\" class=\"data row1 col6\" >False</td> \n",
       "        <td id=\"T_b1a8fcf4_3d76_11ea_a03a_a683e71f91e8row1_col7\" class=\"data row1 col7\" >True</td> \n",
       "        <td id=\"T_b1a8fcf4_3d76_11ea_a03a_a683e71f91e8row1_col8\" class=\"data row1 col8\" >False</td> \n",
       "        <td id=\"T_b1a8fcf4_3d76_11ea_a03a_a683e71f91e8row1_col9\" class=\"data row1 col9\" >True</td> \n",
       "        <td id=\"T_b1a8fcf4_3d76_11ea_a03a_a683e71f91e8row1_col10\" class=\"data row1 col10\" >False</td> \n",
       "        <td id=\"T_b1a8fcf4_3d76_11ea_a03a_a683e71f91e8row1_col11\" class=\"data row1 col11\" >False</td> \n",
       "        <td id=\"T_b1a8fcf4_3d76_11ea_a03a_a683e71f91e8row1_col12\" class=\"data row1 col12\" >False</td> \n",
       "        <td id=\"T_b1a8fcf4_3d76_11ea_a03a_a683e71f91e8row1_col13\" class=\"data row1 col13\" >False</td> \n",
       "        <td id=\"T_b1a8fcf4_3d76_11ea_a03a_a683e71f91e8row1_col14\" class=\"data row1 col14\" >False</td> \n",
       "    </tr>    <tr> \n",
       "        <th id=\"T_b1a8fcf4_3d76_11ea_a03a_a683e71f91e8level0_row2\" class=\"row_heading level0 row2\" >graduate school</th> \n",
       "        <td id=\"T_b1a8fcf4_3d76_11ea_a03a_a683e71f91e8row2_col0\" class=\"data row2 col0\" >True</td> \n",
       "        <td id=\"T_b1a8fcf4_3d76_11ea_a03a_a683e71f91e8row2_col1\" class=\"data row2 col1\" >True</td> \n",
       "        <td id=\"T_b1a8fcf4_3d76_11ea_a03a_a683e71f91e8row2_col2\" class=\"data row2 col2\" >True</td> \n",
       "        <td id=\"T_b1a8fcf4_3d76_11ea_a03a_a683e71f91e8row2_col3\" class=\"data row2 col3\" >True</td> \n",
       "        <td id=\"T_b1a8fcf4_3d76_11ea_a03a_a683e71f91e8row2_col4\" class=\"data row2 col4\" >True</td> \n",
       "        <td id=\"T_b1a8fcf4_3d76_11ea_a03a_a683e71f91e8row2_col5\" class=\"data row2 col5\" >True</td> \n",
       "        <td id=\"T_b1a8fcf4_3d76_11ea_a03a_a683e71f91e8row2_col6\" class=\"data row2 col6\" >True</td> \n",
       "        <td id=\"T_b1a8fcf4_3d76_11ea_a03a_a683e71f91e8row2_col7\" class=\"data row2 col7\" >True</td> \n",
       "        <td id=\"T_b1a8fcf4_3d76_11ea_a03a_a683e71f91e8row2_col8\" class=\"data row2 col8\" >True</td> \n",
       "        <td id=\"T_b1a8fcf4_3d76_11ea_a03a_a683e71f91e8row2_col9\" class=\"data row2 col9\" >True</td> \n",
       "        <td id=\"T_b1a8fcf4_3d76_11ea_a03a_a683e71f91e8row2_col10\" class=\"data row2 col10\" >True</td> \n",
       "        <td id=\"T_b1a8fcf4_3d76_11ea_a03a_a683e71f91e8row2_col11\" class=\"data row2 col11\" >True</td> \n",
       "        <td id=\"T_b1a8fcf4_3d76_11ea_a03a_a683e71f91e8row2_col12\" class=\"data row2 col12\" >True</td> \n",
       "        <td id=\"T_b1a8fcf4_3d76_11ea_a03a_a683e71f91e8row2_col13\" class=\"data row2 col13\" >True</td> \n",
       "        <td id=\"T_b1a8fcf4_3d76_11ea_a03a_a683e71f91e8row2_col14\" class=\"data row2 col14\" >True</td> \n",
       "    </tr>    <tr> \n",
       "        <th id=\"T_b1a8fcf4_3d76_11ea_a03a_a683e71f91e8level0_row3\" class=\"row_heading level0 row3\" >other</th> \n",
       "        <td id=\"T_b1a8fcf4_3d76_11ea_a03a_a683e71f91e8row3_col0\" class=\"data row3 col0\" >False</td> \n",
       "        <td id=\"T_b1a8fcf4_3d76_11ea_a03a_a683e71f91e8row3_col1\" class=\"data row3 col1\" >True</td> \n",
       "        <td id=\"T_b1a8fcf4_3d76_11ea_a03a_a683e71f91e8row3_col2\" class=\"data row3 col2\" >False</td> \n",
       "        <td id=\"T_b1a8fcf4_3d76_11ea_a03a_a683e71f91e8row3_col3\" class=\"data row3 col3\" >False</td> \n",
       "        <td id=\"T_b1a8fcf4_3d76_11ea_a03a_a683e71f91e8row3_col4\" class=\"data row3 col4\" >True</td> \n",
       "        <td id=\"T_b1a8fcf4_3d76_11ea_a03a_a683e71f91e8row3_col5\" class=\"data row3 col5\" >True</td> \n",
       "        <td id=\"T_b1a8fcf4_3d76_11ea_a03a_a683e71f91e8row3_col6\" class=\"data row3 col6\" >False</td> \n",
       "        <td id=\"T_b1a8fcf4_3d76_11ea_a03a_a683e71f91e8row3_col7\" class=\"data row3 col7\" >False</td> \n",
       "        <td id=\"T_b1a8fcf4_3d76_11ea_a03a_a683e71f91e8row3_col8\" class=\"data row3 col8\" >False</td> \n",
       "        <td id=\"T_b1a8fcf4_3d76_11ea_a03a_a683e71f91e8row3_col9\" class=\"data row3 col9\" >False</td> \n",
       "        <td id=\"T_b1a8fcf4_3d76_11ea_a03a_a683e71f91e8row3_col10\" class=\"data row3 col10\" >False</td> \n",
       "        <td id=\"T_b1a8fcf4_3d76_11ea_a03a_a683e71f91e8row3_col11\" class=\"data row3 col11\" >False</td> \n",
       "        <td id=\"T_b1a8fcf4_3d76_11ea_a03a_a683e71f91e8row3_col12\" class=\"data row3 col12\" >False</td> \n",
       "        <td id=\"T_b1a8fcf4_3d76_11ea_a03a_a683e71f91e8row3_col13\" class=\"data row3 col13\" >False</td> \n",
       "        <td id=\"T_b1a8fcf4_3d76_11ea_a03a_a683e71f91e8row3_col14\" class=\"data row3 col14\" >False</td> \n",
       "    </tr>    <tr> \n",
       "        <th id=\"T_b1a8fcf4_3d76_11ea_a03a_a683e71f91e8level0_row4\" class=\"row_heading level0 row4\" >all</th> \n",
       "        <td id=\"T_b1a8fcf4_3d76_11ea_a03a_a683e71f91e8row4_col0\" class=\"data row4 col0\" >False</td> \n",
       "        <td id=\"T_b1a8fcf4_3d76_11ea_a03a_a683e71f91e8row4_col1\" class=\"data row4 col1\" >True</td> \n",
       "        <td id=\"T_b1a8fcf4_3d76_11ea_a03a_a683e71f91e8row4_col2\" class=\"data row4 col2\" >False</td> \n",
       "        <td id=\"T_b1a8fcf4_3d76_11ea_a03a_a683e71f91e8row4_col3\" class=\"data row4 col3\" >False</td> \n",
       "        <td id=\"T_b1a8fcf4_3d76_11ea_a03a_a683e71f91e8row4_col4\" class=\"data row4 col4\" >True</td> \n",
       "        <td id=\"T_b1a8fcf4_3d76_11ea_a03a_a683e71f91e8row4_col5\" class=\"data row4 col5\" >True</td> \n",
       "        <td id=\"T_b1a8fcf4_3d76_11ea_a03a_a683e71f91e8row4_col6\" class=\"data row4 col6\" >False</td> \n",
       "        <td id=\"T_b1a8fcf4_3d76_11ea_a03a_a683e71f91e8row4_col7\" class=\"data row4 col7\" >False</td> \n",
       "        <td id=\"T_b1a8fcf4_3d76_11ea_a03a_a683e71f91e8row4_col8\" class=\"data row4 col8\" >False</td> \n",
       "        <td id=\"T_b1a8fcf4_3d76_11ea_a03a_a683e71f91e8row4_col9\" class=\"data row4 col9\" >False</td> \n",
       "        <td id=\"T_b1a8fcf4_3d76_11ea_a03a_a683e71f91e8row4_col10\" class=\"data row4 col10\" >False</td> \n",
       "        <td id=\"T_b1a8fcf4_3d76_11ea_a03a_a683e71f91e8row4_col11\" class=\"data row4 col11\" >False</td> \n",
       "        <td id=\"T_b1a8fcf4_3d76_11ea_a03a_a683e71f91e8row4_col12\" class=\"data row4 col12\" >False</td> \n",
       "        <td id=\"T_b1a8fcf4_3d76_11ea_a03a_a683e71f91e8row4_col13\" class=\"data row4 col13\" >False</td> \n",
       "        <td id=\"T_b1a8fcf4_3d76_11ea_a03a_a683e71f91e8row4_col14\" class=\"data row4 col14\" >False</td> \n",
       "    </tr></tbody> \n",
       "</table> "
      ],
      "text/plain": [
       "<pandas.io.formats.style.Styler at 0x1104ad358>"
      ]
     },
     "execution_count": 66,
     "metadata": {},
     "output_type": "execute_result"
    }
   ],
   "source": [
    "# parity checks\n",
    "# low_threshold (0.8) < *_metric/white_metric < (high_threshold) 1.25 => parity, else disparity \n",
    "\n",
    "# init frame for parity\n",
    "par_frame_ed = pd.DataFrame(index=ed_levels, \n",
    "                         columns=[col + ' Parity' for col in metrics_frame_ed.columns])\n",
    "# nested loop through: \n",
    "# - races\n",
    "# - disparity metrics\n",
    "for i, _ in enumerate(ed_levels):\n",
    "    for j, _ in enumerate(par_frame_ed.columns):\n",
    "        par_frame_ed.iat[i, j] = (parity_threshold_low < disp_frame_ed.iat[i, j] < parity_threshold_hi)\n",
    "\n",
    "# add overall parity checks\n",
    "# Type I Parity: Fairness in both FDR Parity and FPR Parity\n",
    "# Type II Parity: Fairness in both FOR Parity and FNR Parity\n",
    "# Equalized Odds: Fairness in both FPR Parity and TPR Parity\n",
    "# Supervised Fairness: Fairness in both Type I and Type II Parity\n",
    "# Overall Fairness: Fairness across all parities for all metrics\n",
    "par_frame_ed['Type I Parity'] = (par_frame_ed['False Discovery Rate Parity']) & (par_frame_ed['False Positive Rate Parity'])\n",
    "par_frame_ed['Type II Parity'] = (par_frame_ed['False Omissions Rate Parity']) & (par_frame_ed['False Negative Rate Parity'])\n",
    "par_frame_ed['Equalized Odds'] = (par_frame_ed['False Positive Rate Parity']) & (par_frame_ed['True Positive Rate Parity'])\n",
    "par_frame_ed['Supervised Fairness'] = (par_frame_ed['Type I Parity']) & (par_frame_ed['Type II Parity'])\n",
    "par_frame_ed['Overall Fairness'] = par_frame_ed.all(axis='columns')\n",
    "par_frame_ed.loc['all', :] = par_frame_ed.all(axis='index')\n",
    "    \n",
    "# small utility function to format pandas table output    \n",
    "def color_false_red(val):\n",
    "\n",
    "    color = 'red' if not val else 'blue'\n",
    "    return 'color: %s' % color \n",
    "    \n",
    "par_frame_ed.style.applymap(color_false_red)"
   ]
  },
  {
   "cell_type": "markdown",
   "metadata": {},
   "source": [
    "In general the GBM appears to have accuracy, negative predicted value, and specificity parity, but likely has a disparate impact across education levels for all other metrics. It fails to meet the criteria of overall fairness. To address such disparate impact users could tune the GBM cutoff or regularization, could try new methods for reweighing data prior to model training or try new modeling methods specifically designed for fairness. Simply dropping the variable `EDUCATION` is likely an inappropriate solution. In nonlinear models, different variables are combined by the model to represent strong signals. If a variable is important in a dataset, model, or problem domain it's likely that a nonlinear model will find combinations of other variables to act as proxies for the problematic variable -- potentially even different combinations for different rows of data!. So by simply dropping the variable from the model, you will likely not solve the disparate impact problem, but instead just make it harder to diagnose."
   ]
  },
  {
   "cell_type": "markdown",
   "metadata": {},
   "source": [
    "# 7. Traditional Fair Lending Measures\n",
    "Along with adverse impact disparity (i.e., adverse impact ratio or AIR) several measures have long-standing legal precedence in fair lending. Two of these measures are known as marginal effect and standardized mean difference.\n",
    "\n",
    "Simple function to calculate marginal effect\n",
    "Marginal effect describes the difference between the percent of the reference group awarded a loan and the percent of the protected group awarded a loan under a model."
   ]
  },
  {
   "cell_type": "code",
   "execution_count": 68,
   "metadata": {},
   "outputs": [],
   "source": [
    "def marginal_effect(reference, protected, cm_dict):\n",
    "\n",
    "    \"\"\" Calculates the marginal effect as a percentage difference between a reference and \n",
    "        a protected group: reference_percent - protected_percent. Prints intermediate values. \n",
    "        Tightly coupled to cm_dict. \n",
    "    \n",
    "    Args:\n",
    "        reference: name of reference group in cm_dict as a string.\n",
    "        protected: name of protected group in cm_dict as a string.\n",
    "\n",
    "    Returns:\n",
    "        Marginal effect as a formatted string. \n",
    "        \n",
    "    \"\"\"\n",
    "    \n",
    "    # reference group summary\n",
    "    reference_accepted = float(cm_dict[reference].iat[1,0] + cm_dict[reference].iat[1,1])\n",
    "    reference_total = float(cm_dict[reference].sum().sum())\n",
    "    reference_percent = 100*(reference_accepted/reference_total)\n",
    "    print(reference.title() + ' accepted: %.2f%%' % reference_percent)\n",
    "    \n",
    "    # protected group summary\n",
    "    protected_accepted = float(cm_dict[protected].iat[1,0] + cm_dict[protected].iat[1,1])\n",
    "    protected_total = float(cm_dict[protected].sum().sum())\n",
    "    protected_percent = 100*(protected_accepted/protected_total)\n",
    "    print(protected.title() + ' accepted: %.2f%%' % protected_percent)\n",
    "    \n",
    "    # return marginal effect\n",
    "    return 'Marginal effect: %.2f%%' % (reference_percent - protected_percent)"
   ]
  },
  {
   "cell_type": "code",
   "execution_count": 71,
   "metadata": {},
   "outputs": [
    {
     "name": "stdout",
     "output_type": "stream",
     "text": [
      "University accepted: 69.27%\n",
      "High School accepted: 63.64%\n",
      "Marginal effect: 5.62%\n"
     ]
    }
   ],
   "source": [
    "print(marginal_effect('university', 'high school', cm_dict_ed))"
   ]
  },
  {
   "cell_type": "code",
   "execution_count": 72,
   "metadata": {},
   "outputs": [
    {
     "name": "stdout",
     "output_type": "stream",
     "text": [
      "Male accepted: 68.19%\n",
      "Female accepted: 72.89%\n",
      "Marginal effect: -4.70%\n"
     ]
    }
   ],
   "source": [
    "print(marginal_effect('male', 'female', cm_dict_gender))"
   ]
  },
  {
   "cell_type": "markdown",
   "metadata": {},
   "source": [
    "About 68% of men are awarded a loan by the model. About 72.8% of women are awarded a loan. This results in a marginal effect of -4.70%. Given that the marginal effect is negative, indicating that a higher percentage of individuals in the protected group were awarded a loan than in the reference group, this value would likely not indicate a discrimination problem in most scenarios. The magnitude of the marginal effect is also relatively small, another sign that discrimination concerning SEX is low under the model. Generally, larger marginal effects may be tolerated in newer credit products, whereas smaller marginal effects are expected in established credit products."
   ]
  },
  {
   "cell_type": "markdown",
   "metadata": {},
   "source": [
    "#### Standardized mean difference\n",
    "The standardized mean difference (SMD), i.e. Cohen's D, is the mean value of the prediction for the protected group minus the mean prediction for the reference group, all divided by the standard deviation of the prediction. Like AIR, SMD has some prescribed thresholds: 0.2, 0.5, and 0.8 for small, medium, and large differences, respectively. The standardized mean difference can also be used on continuous values like credit limits or loan amounts."
   ]
  },
  {
   "cell_type": "code",
   "execution_count": 31,
   "metadata": {},
   "outputs": [],
   "source": [
    "def smd(frame, yhat, j, reference, protected):\n",
    "    \n",
    "    \"\"\" Calculates standardized mean difference between a protected and reference group:\n",
    "    (mean(yhat | j=protected) - mean(yhat | j=reference))/sigma(yhat). \n",
    "    Prints intermediate values. \n",
    "    \n",
    "    Args:\n",
    "        frame: Pandas dataframe containing j and predicted (yhat) values.\n",
    "        yhat: Name of predicted value column.\n",
    "        j: name of demographic column containing reference and protected group labels. \n",
    "        reference: name of reference group in j.\n",
    "        protected: name of protected group in j. \n",
    "\n",
    "    Returns:\n",
    "       Standardized mean difference as a formatted string.\n",
    "       \n",
    "    \"\"\"\n",
    "    \n",
    "    # yhat mean for j=reference\n",
    "    reference_yhat_mean = frame[frame[j] == reference][yhat].mean()\n",
    "    print(reference.title() + ' mean yhat: %.2f' % reference_yhat_mean)\n",
    "    \n",
    "    #yhat mean for j=protected \n",
    "    protected_yhat_mean = frame[frame[j] == protected][yhat].mean()\n",
    "    print(protected.title() + ' mean yhat: %.2f' % protected_yhat_mean)\n",
    "    \n",
    "    # std for yhat\n",
    "    sigma = frame[yhat].std()\n",
    "    print(yhat.title() + ' std. dev.:  %.2f' % sigma)\n",
    "    \n",
    "    return 'Standardized Mean Difference: %.2f' % ((protected_yhat_mean - reference_yhat_mean)/sigma)"
   ]
  },
  {
   "cell_type": "code",
   "execution_count": 32,
   "metadata": {},
   "outputs": [
    {
     "name": "stdout",
     "output_type": "stream",
     "text": [
      "University mean yhat: 0.23\n",
      "High School mean yhat: 0.26\n",
      "P_Default_Next_Month std. dev.:  0.19\n",
      "Standardized Mean Difference: 0.12\n"
     ]
    }
   ],
   "source": [
    "print(smd(test_yhat, 'p_DEFAULT_NEXT_MONTH', 'EDUCATION', 'university', 'high school'))"
   ]
  },
  {
   "cell_type": "code",
   "execution_count": 73,
   "metadata": {},
   "outputs": [
    {
     "name": "stdout",
     "output_type": "stream",
     "text": [
      "Male mean yhat: 0.23\n",
      "Female mean yhat: 0.21\n",
      "P_Default_Next_Month std. dev.:  0.19\n",
      "Standardized Mean Difference: -0.10\n"
     ]
    }
   ],
   "source": [
    "print(smd(test_yhat, 'p_DEFAULT_NEXT_MONTH', 'SEX', 'male', 'female'))"
   ]
  },
  {
   "cell_type": "markdown",
   "metadata": {},
   "source": [
    "For this model, in the test set, men receive a higher average probability of default than do women. This difference is evident even after standardizing with the standard deviation of the predictions. However, the difference is quite small, below the 0.2 threshold for a small difference. SMD also points to low disparity between men and women under this model."
   ]
  },
  {
   "cell_type": "markdown",
   "metadata": {},
   "source": [
    "# 8. Investigate Individual Disparity\n",
    "In nonlinear models, similar people can be treated differenly by the model, so even if the model is mostly fair for most kinds of people, there could still be people the model treated unfairly. This could occur for multiple reasons, including the functional form of the learned model or because different variables are combined by the model to represent strong signals. If a variable is important in a dataset, model, or problem domain it's likely that a nonlinear model will find combinations of other variables to act as proxies for the problematic variable -- potentially even different combinations for different rows of data! So by simply testing for group fairness, you may miss instances of individual discrimination.\n",
    "\n",
    "#### Augment predictions with decisions and logloss residuals for women with false positive predictions\n",
    "In this notebook, residuals for false positive predictions for women will be examined in an attempt to locate any individual instances of model discrimination. These are women who the model said would default, but they did not default. So they may have experienced some discrimination under the model."
   ]
  },
  {
   "cell_type": "code",
   "execution_count": 74,
   "metadata": {},
   "outputs": [],
   "source": [
    "test_yhat_female = test_yhat[test_yhat['SEX'] == 'female'].copy(deep=True)\n",
    "\n",
    "\n",
    "test_yhat_female['d_DEFAULT_NEXT_MONTH'] = 0\n",
    "test_yhat_female.loc[test_yhat_female[yhat] > best_cut, 'd_DEFAULT_NEXT_MONTH'] = 1\n",
    "\n",
    "test_yhat_female['r_DEFAULT_NEXT_MONTH'] = -test_yhat_female[y]*np.log(test_yhat_female[yhat]) -\\\n",
    "                       (1 - test_yhat_female[y])*np.log(1 - test_yhat_female[yhat]) \n",
    "    \n",
    "test_yhat_female_fp = test_yhat_female[(test_yhat_female[y] == 0) &\\\n",
    "                                       (test_yhat_female['d_DEFAULT_NEXT_MONTH'] == 1)]"
   ]
  },
  {
   "cell_type": "code",
   "execution_count": 77,
   "metadata": {},
   "outputs": [
    {
     "data": {
      "image/png": "[encoded data removed]",
      "text/plain": [
       "<Figure size 576x576 with 1 Axes>"
      ]
     },
     "metadata": {
      "needs_background": "light"
     },
     "output_type": "display_data"
    }
   ],
   "source": [
    "# initialize figure\n",
    "fig, ax_ = plt.subplots(figsize=(8, 8))         \n",
    "\n",
    "ax_.plot(test_yhat_female_fp[yhat],\n",
    "         test_yhat_female_fp['r_DEFAULT_NEXT_MONTH'],\n",
    "         marker='o', linestyle='', alpha=0.3)\n",
    "\n",
    "# annotate plot\n",
    "_ = plt.xlabel(yhat)\n",
    "_ = plt.ylabel('r_DEFAULT_NEXT_MONTH')\n",
    "_ = ax_.legend(loc=4)\n",
    "_ = plt.title('Logloss Residuals')"
   ]
  },
  {
   "cell_type": "markdown",
   "metadata": {},
   "source": [
    "#### Examine top 3 outlying individuals"
   ]
  },
  {
   "cell_type": "code",
   "execution_count": 78,
   "metadata": {},
   "outputs": [
    {
     "data": {
      "text/html": [
       "<div>\n",
       "<style scoped>\n",
       "    .dataframe tbody tr th:only-of-type {\n",
       "        vertical-align: middle;\n",
       "    }\n",
       "\n",
       "    .dataframe tbody tr th {\n",
       "        vertical-align: top;\n",
       "    }\n",
       "\n",
       "    .dataframe thead th {\n",
       "        text-align: right;\n",
       "    }\n",
       "</style>\n",
       "<table border=\"1\" class=\"dataframe\">\n",
       "  <thead>\n",
       "    <tr style=\"text-align: right;\">\n",
       "      <th></th>\n",
       "      <th>ID</th>\n",
       "      <th>LIMIT_BAL</th>\n",
       "      <th>SEX</th>\n",
       "      <th>EDUCATION</th>\n",
       "      <th>MARRIAGE</th>\n",
       "      <th>AGE</th>\n",
       "      <th>PAY_0</th>\n",
       "      <th>PAY_2</th>\n",
       "      <th>PAY_3</th>\n",
       "      <th>PAY_4</th>\n",
       "      <th>...</th>\n",
       "      <th>PAY_AMT1</th>\n",
       "      <th>PAY_AMT2</th>\n",
       "      <th>PAY_AMT3</th>\n",
       "      <th>PAY_AMT4</th>\n",
       "      <th>PAY_AMT5</th>\n",
       "      <th>PAY_AMT6</th>\n",
       "      <th>DEFAULT_NEXT_MONTH</th>\n",
       "      <th>p_DEFAULT_NEXT_MONTH</th>\n",
       "      <th>d_DEFAULT_NEXT_MONTH</th>\n",
       "      <th>r_DEFAULT_NEXT_MONTH</th>\n",
       "    </tr>\n",
       "  </thead>\n",
       "  <tbody>\n",
       "    <tr>\n",
       "      <th>1760</th>\n",
       "      <td>5916</td>\n",
       "      <td>110000</td>\n",
       "      <td>female</td>\n",
       "      <td>graduate school</td>\n",
       "      <td>married</td>\n",
       "      <td>41</td>\n",
       "      <td>2 month delay</td>\n",
       "      <td>2 month delay</td>\n",
       "      <td>7 month delay</td>\n",
       "      <td>7 month delay</td>\n",
       "      <td>...</td>\n",
       "      <td>0</td>\n",
       "      <td>0</td>\n",
       "      <td>0</td>\n",
       "      <td>0</td>\n",
       "      <td>0</td>\n",
       "      <td>0</td>\n",
       "      <td>0</td>\n",
       "      <td>0.886468</td>\n",
       "      <td>1</td>\n",
       "      <td>2.175667</td>\n",
       "    </tr>\n",
       "    <tr>\n",
       "      <th>6755</th>\n",
       "      <td>22725</td>\n",
       "      <td>100000</td>\n",
       "      <td>female</td>\n",
       "      <td>university</td>\n",
       "      <td>married</td>\n",
       "      <td>38</td>\n",
       "      <td>3 month delay</td>\n",
       "      <td>2 month delay</td>\n",
       "      <td>2 month delay</td>\n",
       "      <td>3 month delay</td>\n",
       "      <td>...</td>\n",
       "      <td>0</td>\n",
       "      <td>0</td>\n",
       "      <td>0</td>\n",
       "      <td>0</td>\n",
       "      <td>0</td>\n",
       "      <td>1500</td>\n",
       "      <td>0</td>\n",
       "      <td>0.869051</td>\n",
       "      <td>1</td>\n",
       "      <td>2.032945</td>\n",
       "    </tr>\n",
       "    <tr>\n",
       "      <th>5731</th>\n",
       "      <td>19316</td>\n",
       "      <td>110000</td>\n",
       "      <td>female</td>\n",
       "      <td>graduate school</td>\n",
       "      <td>married</td>\n",
       "      <td>41</td>\n",
       "      <td>3 month delay</td>\n",
       "      <td>2 month delay</td>\n",
       "      <td>2 month delay</td>\n",
       "      <td>7 month delay</td>\n",
       "      <td>...</td>\n",
       "      <td>0</td>\n",
       "      <td>0</td>\n",
       "      <td>0</td>\n",
       "      <td>0</td>\n",
       "      <td>0</td>\n",
       "      <td>0</td>\n",
       "      <td>0</td>\n",
       "      <td>0.866568</td>\n",
       "      <td>1</td>\n",
       "      <td>2.014160</td>\n",
       "    </tr>\n",
       "  </tbody>\n",
       "</table>\n",
       "<p>3 rows × 28 columns</p>\n",
       "</div>"
      ],
      "text/plain": [
       "         ID  LIMIT_BAL     SEX        EDUCATION MARRIAGE  AGE          PAY_0  \\\n",
       "1760   5916     110000  female  graduate school  married   41  2 month delay   \n",
       "6755  22725     100000  female       university  married   38  3 month delay   \n",
       "5731  19316     110000  female  graduate school  married   41  3 month delay   \n",
       "\n",
       "              PAY_2          PAY_3          PAY_4          ...           \\\n",
       "1760  2 month delay  7 month delay  7 month delay          ...            \n",
       "6755  2 month delay  2 month delay  3 month delay          ...            \n",
       "5731  2 month delay  2 month delay  7 month delay          ...            \n",
       "\n",
       "     PAY_AMT1 PAY_AMT2  PAY_AMT3  PAY_AMT4  PAY_AMT5  PAY_AMT6  \\\n",
       "1760        0        0         0         0         0         0   \n",
       "6755        0        0         0         0         0      1500   \n",
       "5731        0        0         0         0         0         0   \n",
       "\n",
       "      DEFAULT_NEXT_MONTH  p_DEFAULT_NEXT_MONTH  d_DEFAULT_NEXT_MONTH  \\\n",
       "1760                   0              0.886468                     1   \n",
       "6755                   0              0.869051                     1   \n",
       "5731                   0              0.866568                     1   \n",
       "\n",
       "      r_DEFAULT_NEXT_MONTH  \n",
       "1760              2.175667  \n",
       "6755              2.032945  \n",
       "5731              2.014160  \n",
       "\n",
       "[3 rows x 28 columns]"
      ]
     },
     "execution_count": 78,
     "metadata": {},
     "output_type": "execute_result"
    }
   ],
   "source": [
    "test_yhat_female_fp.sort_values(by='r_DEFAULT_NEXT_MONTH', ascending=False).head(n=3)"
   ]
  },
  {
   "cell_type": "markdown",
   "metadata": {},
   "source": [
    "Looking at the top 3 highest residual predictions, it's clear these were customers with a horrible payment track record that somehow were able to make a last-minute payment. Although it's not possible to say they were not discrimated against by the model, it seems very clear that the model was justified to issue default predictions for these women."
   ]
  },
  {
   "cell_type": "markdown",
   "metadata": {},
   "source": [
    "#### Adverse Action Notices\n",
    "Anyone that is denied further credit due to this model in the U.S. must be given reasons why. Shapley values provide a mechanism to rank the contributions of input variables to any given model decision and may be suitable for adverse action notice generation. Because the highest residual false positive female seems like a probable candidate to be rejected for further credit at some point, Shapley values can be used to say why according to this model."
   ]
  },
  {
   "cell_type": "code",
   "execution_count": 82,
   "metadata": {},
   "outputs": [],
   "source": [
    "# # select highest residual female false positive\n",
    "# row = test_yhat_female_fp.sort_values(by='r_DEFAULT_NEXT_MONTH', ascending=False).head(n=1)\n",
    "\n",
    "# # search for her index in shap_values array\n",
    "# # create Pandas DataFrame and plot\n",
    "# s_df = pd.DataFrame(shap_values[row.index[0], :].reshape(len(X), 1), columns=['Reason Codes'], index=X)\n",
    "# _ = s_df.sort_values(by='Reason Codes', ascending=False).plot(kind='bar', legend=False, \n",
    "#                                                               title='Shapley Contributions to Predictions')\n",
    "\n",
    "# # check that Shapley is locally accurate\n",
    "# print('Sum of Shapley contributions and bias:', s_df.sum()[0] + contributions_matrix[0, -1])\n",
    "# print('Model prediction in margin space:', np.log(row[yhat].values/(1 - row[yhat].values))[0])"
   ]
  },
  {
   "cell_type": "markdown",
   "metadata": {},
   "source": [
    "#### Shutdown H2O\n",
    "After using h2o, it's typically best to shut it down. However, before doing so, users should ensure that they have saved any h2o data structures, such as models and H2OFrames, or scoring artifacts, such as POJOs and MOJOs."
   ]
  },
  {
   "cell_type": "code",
   "execution_count": 29,
   "metadata": {},
   "outputs": [
    {
     "name": "stdout",
     "output_type": "stream",
     "text": [
      "H2O session _sid_baba closed.\n"
     ]
    }
   ],
   "source": [
    "# be careful, this can erase your work!\n",
    "h2o.cluster().shutdown(prompt=False)"
   ]
  },
  {
   "cell_type": "markdown",
   "metadata": {},
   "source": [
    "#### Conclusion"
   ]
  },
  {
   "cell_type": "markdown",
   "metadata": {},
   "source": [
    "This notebook outlines a basic approach to DIA. In a complex, real-world machine learning project the hard-to-define phenomenas of sociological bias and unfairness can materialize in many ways and from many different sources. Although far from a flawless technique, the beauty of DIA is it is straightforward to implement, functions in a model-agnostic fashion on known labels and model predictions, and is applied in complex real-world fair lending situations, so it can probably be applied to your model too!\n",
    "\n",
    "Why risk being called out in the media for training an unfair model? Or why not investigate the monetary opportunity costs of type I errors and potential losses from type II errors? Why not do the right thing and investigate how your model treats people?"
   ]
  }
 ],
 "metadata": {
  "anaconda-cloud": {},
  "kernelspec": {
   "display_name": "iml",
   "language": "python",
   "name": "iml"
  },
  "language_info": {
   "codemirror_mode": {
    "name": "ipython",
    "version": 3
   },
   "file_extension": ".py",
   "mimetype": "text/x-python",
   "name": "python",
   "nbconvert_exporter": "python",
   "pygments_lexer": "ipython3",
   "version": "3.6.6"
  }
 },
 "nbformat": 4,
 "nbformat_minor": 2
}
