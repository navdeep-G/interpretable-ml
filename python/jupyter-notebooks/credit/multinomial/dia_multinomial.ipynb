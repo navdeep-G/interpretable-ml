{
 "cells": [
  {
   "cell_type": "markdown",
   "metadata": {},
   "source": [
    "# Disparate Impact Analysis for Multinomial Models using Python and H2O"
   ]
  },
  {
   "cell_type": "markdown",
   "metadata": {},
   "source": [
    "#### Assess if your machine learning model is treating different groups of people similarly or differently\n",
    "\n",
    "Fairness is an incredibly important, but highly complex entity. So much so that leading scholars have yet to agree on a strict definition. However, there is a practical way to discuss and handle observational fairness, or how your model predictions affect different groups of people. This procedure is often known as disparate impact analysis (DIA). DIA is far from perfect, as it relies heavily on user-defined thresholds and reference levels for disparity and does not attempt to remediate disparity or provide information on sources of disparity, but it is a fairly straightforward method to quantify your model’s behavior across sensitive demographic segments or other potentially interesting groups of observations. DIA is also an accepted, regulation-compliant tool for fair-lending purposes in the U.S. financial services industry. If it’s good enough for multibillion-dollar credit portfolios, it’s probably good enough for your project.\n",
    "\n",
    "This example DIA notebook starts by training a multinomial gradient boosting machine (GBM) classifier on the UCI creditcard default data using the popular open source library, h2o. Since this is a multinomial problem with several outcomes of interest, we will use a ranking technique by utilizing standardized mean difference (SMD) to pick an outcome to look at in more detail with traditional disparate impact analysis, which is ultimately fit for binary classification problems."
   ]
  },
  {
   "cell_type": "code",
   "execution_count": 1,
   "metadata": {},
   "outputs": [],
   "source": [
    "import h2o                                       \n",
    "from h2o.estimators.gbm import H2OGradientBoostingEstimator       \n",
    "\n",
    "import collections\n",
    "import numpy as np   \n",
    "import pandas as pd \n",
    "%matplotlib inline  "
   ]
  },
  {
   "cell_type": "code",
   "execution_count": 2,
   "metadata": {},
   "outputs": [
    {
     "name": "stdout",
     "output_type": "stream",
     "text": [
      "Checking whether there is an H2O instance running at http://localhost:54321 ..... not found.\n",
      "Attempting to start a local H2O server...\n",
      "  Java Version: java version \"1.8.0_221\"; Java(TM) SE Runtime Environment (build 1.8.0_221-b11); Java HotSpot(TM) 64-Bit Server VM (build 25.221-b11, mixed mode)\n",
      "  Starting server from /Users/ngill/Desktop/article-information-2019/inf_env/lib/python3.6/site-packages/h2o/backend/bin/h2o.jar\n",
      "  Ice root: /var/folders/4f/jnv5n85x51v1r8f9n4q8bzl80000gp/T/tmphpvl_zgj\n",
      "  JVM stdout: /var/folders/4f/jnv5n85x51v1r8f9n4q8bzl80000gp/T/tmphpvl_zgj/h2o_ngill_started_from_python.out\n",
      "  JVM stderr: /var/folders/4f/jnv5n85x51v1r8f9n4q8bzl80000gp/T/tmphpvl_zgj/h2o_ngill_started_from_python.err\n",
      "  Server is running at http://127.0.0.1:54321\n",
      "Connecting to H2O server at http://127.0.0.1:54321 ... successful.\n",
      "Warning: Your H2O cluster version is too old (6 months and 15 days)! Please download and install the latest version from http://h2o.ai/download/\n"
     ]
    },
    {
     "data": {
      "text/html": [
       "<div style=\"overflow:auto\"><table style=\"width:50%\"><tr><td>H2O cluster uptime:</td>\n",
       "<td>01 secs</td></tr>\n",
       "<tr><td>H2O cluster timezone:</td>\n",
       "<td>America/Los_Angeles</td></tr>\n",
       "<tr><td>H2O data parsing timezone:</td>\n",
       "<td>UTC</td></tr>\n",
       "<tr><td>H2O cluster version:</td>\n",
       "<td>3.26.0.9</td></tr>\n",
       "<tr><td>H2O cluster version age:</td>\n",
       "<td>6 months and 15 days !!!</td></tr>\n",
       "<tr><td>H2O cluster name:</td>\n",
       "<td>H2O_from_python_ngill_1lx45a</td></tr>\n",
       "<tr><td>H2O cluster total nodes:</td>\n",
       "<td>1</td></tr>\n",
       "<tr><td>H2O cluster free memory:</td>\n",
       "<td>1.778 Gb</td></tr>\n",
       "<tr><td>H2O cluster total cores:</td>\n",
       "<td>12</td></tr>\n",
       "<tr><td>H2O cluster allowed cores:</td>\n",
       "<td>12</td></tr>\n",
       "<tr><td>H2O cluster status:</td>\n",
       "<td>accepting new members, healthy</td></tr>\n",
       "<tr><td>H2O connection url:</td>\n",
       "<td>http://127.0.0.1:54321</td></tr>\n",
       "<tr><td>H2O connection proxy:</td>\n",
       "<td>{'http': None, 'https': None}</td></tr>\n",
       "<tr><td>H2O internal security:</td>\n",
       "<td>False</td></tr>\n",
       "<tr><td>H2O API Extensions:</td>\n",
       "<td>Amazon S3, XGBoost, Algos, AutoML, Core V3, TargetEncoder, Core V4</td></tr>\n",
       "<tr><td>Python version:</td>\n",
       "<td>3.6.6 final</td></tr></table></div>"
      ],
      "text/plain": [
       "--------------------------  ------------------------------------------------------------------\n",
       "H2O cluster uptime:         01 secs\n",
       "H2O cluster timezone:       America/Los_Angeles\n",
       "H2O data parsing timezone:  UTC\n",
       "H2O cluster version:        3.26.0.9\n",
       "H2O cluster version age:    6 months and 15 days !!!\n",
       "H2O cluster name:           H2O_from_python_ngill_1lx45a\n",
       "H2O cluster total nodes:    1\n",
       "H2O cluster free memory:    1.778 Gb\n",
       "H2O cluster total cores:    12\n",
       "H2O cluster allowed cores:  12\n",
       "H2O cluster status:         accepting new members, healthy\n",
       "H2O connection url:         http://127.0.0.1:54321\n",
       "H2O connection proxy:       {'http': None, 'https': None}\n",
       "H2O internal security:      False\n",
       "H2O API Extensions:         Amazon S3, XGBoost, Algos, AutoML, Core V3, TargetEncoder, Core V4\n",
       "Python version:             3.6.6 final\n",
       "--------------------------  ------------------------------------------------------------------"
      ]
     },
     "metadata": {},
     "output_type": "display_data"
    }
   ],
   "source": [
    "h2o.init(max_mem_size='2G')       \n",
    "h2o.remove_all() "
   ]
  },
  {
   "cell_type": "markdown",
   "metadata": {},
   "source": [
    "## 1. Download, explore, and prepare UCI credit card default data\n",
    "\n",
    "UCI credit card default data: https://archive.ics.uci.edu/ml/datasets/default+of+credit+card+clients\n",
    "\n",
    "The UCI credit card default data contains demographic and payment information about credit card customers in Taiwan in the year 2005. The data set contains 22 input variables: \n",
    "\n",
    "* **`LIMIT_BAL`**: Amount of given credit (NT dollar)\n",
    "* **`SEX`**: 1 = male; 2 = female \n",
    "* **`MARRIAGE`**: 1 = married; 2 = single; 3 = others\n",
    "* **`AGE`**: Age in years \n",
    "* **`PAY_0`, `PAY_2` - `PAY_6`**: History of past payment; `PAY_0` = the repayment status in September, 2005; `PAY_2` = the repayment status in August, 2005; ...; `PAY_6` = the repayment status in April, 2005. The measurement scale for the repayment status is: -1 = pay duly; 1 = payment delay for one month; 2 = payment delay for two months; ...; 8 = payment delay for eight months; 9 = payment delay for nine months and above. \n",
    "* **`BILL_AMT1` - `BILL_AMT6`**: Amount of bill statement (NT dollar). `BILL_AMNT1` = amount of bill statement in September, 2005; `BILL_AMT2` = amount of bill statement in August, 2005; ...; `BILL_AMT6` = amount of bill statement in April, 2005. \n",
    "* **`PAY_AMT1` - `PAY_AMT6`**: Amount of previous payment (NT dollar). `PAY_AMT1` = amount paid in September, 2005; `PAY_AMT2` = amount paid in August, 2005; ...; `PAY_AMT6` = amount paid in April, 2005. \n",
    "\n",
    "These 22 input variables are used to predict the target variable, which is the education level of an observation.\n",
    "\n",
    "Because h2o accepts both numeric and character inputs, some variables will be recoded into more transparent character values."
   ]
  },
  {
   "cell_type": "code",
   "execution_count": 3,
   "metadata": {},
   "outputs": [],
   "source": [
    "# import XLS file\n",
    "url = '../data/creditcard.csv'\n",
    "data = pd.read_csv(url)\n",
    "\n",
    "# remove spaces from target column name \n",
    "data = data.rename(columns={'default payment next month': 'DEFAULT_NEXT_MONTH'}) "
   ]
  },
  {
   "cell_type": "code",
   "execution_count": 4,
   "metadata": {},
   "outputs": [
    {
     "name": "stdout",
     "output_type": "stream",
     "text": [
      "y = EDUCATION\n",
      "X = ['LIMIT_BAL', 'SEX', 'MARRIAGE', 'AGE', 'PAY_0', 'PAY_2', 'PAY_3', 'PAY_4', 'PAY_5', 'PAY_6', 'BILL_AMT1', 'BILL_AMT2', 'BILL_AMT3', 'BILL_AMT4', 'BILL_AMT5', 'BILL_AMT6', 'PAY_AMT1', 'PAY_AMT2', 'PAY_AMT3', 'PAY_AMT4', 'PAY_AMT5', 'PAY_AMT6']\n"
     ]
    }
   ],
   "source": [
    "# assign target and inputs for GBM\n",
    "y = 'EDUCATION'\n",
    "X = [name for name in data.columns if name not in [y, 'ID', 'DEFAULT_NEXT_MONTH']]\n",
    "print('y =', y)\n",
    "print('X =', X)"
   ]
  },
  {
   "cell_type": "code",
   "execution_count": 5,
   "metadata": {},
   "outputs": [
    {
     "name": "stdout",
     "output_type": "stream",
     "text": [
      "Parse progress: |█████████████████████████████████████████████████████████| 100%\n"
     ]
    }
   ],
   "source": [
    "def recode_cc_data(frame):\n",
    "    \n",
    "    \"\"\" Recodes numeric categorical variables into categorical character variables\n",
    "    with more transparent values. \n",
    "    \n",
    "    Args:\n",
    "        frame: Pandas DataFrame version of UCI credit card default data.\n",
    "        \n",
    "    Returns: \n",
    "        H2OFrame with recoded values.\n",
    "        \n",
    "    \"\"\"\n",
    "    \n",
    "    # define recoded values\n",
    "    sex_dict = {1:'male', 2:'female'}\n",
    "    education_dict = {0:'other', 1:'graduate school', 2:'university', 3:'high school', \n",
    "                      4:'other', 5:'other', 6:'other'}\n",
    "    marriage_dict = {0:'other', 1:'married', 2:'single', 3:'divorced'}\n",
    "    pay_dict = {-2:'no consumption', -1:'pay duly', 0:'use of revolving credit', 1:'1 month delay', \n",
    "                2:'2 month delay', 3:'3 month delay', 4:'4 month delay', 5:'5 month delay', 6:'6 month delay', \n",
    "                7:'7 month delay', 8:'8 month delay', 9:'9+ month delay'}\n",
    "    \n",
    "    # recode values using Pandas apply() and anonymous function\n",
    "    frame['SEX'] = frame['SEX'].apply(lambda i: sex_dict[i])\n",
    "    frame['EDUCATION'] = frame['EDUCATION'].apply(lambda i: education_dict[i])    \n",
    "    frame['MARRIAGE'] = frame['MARRIAGE'].apply(lambda i: marriage_dict[i]) \n",
    "    for name in frame.columns:\n",
    "        if name in ['PAY_0', 'PAY_2', 'PAY_3', 'PAY_4', 'PAY_5', 'PAY_6']:\n",
    "            frame[name] = frame[name].apply(lambda i: pay_dict[i])            \n",
    "                \n",
    "    return h2o.H2OFrame(frame)\n",
    "\n",
    "data = recode_cc_data(data)"
   ]
  },
  {
   "cell_type": "code",
   "execution_count": 6,
   "metadata": {},
   "outputs": [],
   "source": [
    "data[y] = data[y].asfactor() "
   ]
  },
  {
   "cell_type": "code",
   "execution_count": 7,
   "metadata": {},
   "outputs": [
    {
     "data": {
      "text/html": [
       "<table>\n",
       "<thead>\n",
       "<tr><th style=\"text-align: right;\">  ID</th><th style=\"text-align: right;\">  LIMIT_BAL</th><th>SEX   </th><th>EDUCATION      </th><th>MARRIAGE  </th><th style=\"text-align: right;\">  AGE</th><th>PAY_0                  </th><th>PAY_2                  </th><th>PAY_3                  </th><th>PAY_4                  </th><th>PAY_5                  </th><th>PAY_6                  </th><th style=\"text-align: right;\">  BILL_AMT1</th><th style=\"text-align: right;\">  BILL_AMT2</th><th style=\"text-align: right;\">  BILL_AMT3</th><th style=\"text-align: right;\">  BILL_AMT4</th><th style=\"text-align: right;\">  BILL_AMT5</th><th style=\"text-align: right;\">  BILL_AMT6</th><th style=\"text-align: right;\">  PAY_AMT1</th><th style=\"text-align: right;\">  PAY_AMT2</th><th style=\"text-align: right;\">  PAY_AMT3</th><th style=\"text-align: right;\">  PAY_AMT4</th><th style=\"text-align: right;\">  PAY_AMT5</th><th style=\"text-align: right;\">  PAY_AMT6</th><th style=\"text-align: right;\">  DEFAULT_NEXT_MONTH</th></tr>\n",
       "</thead>\n",
       "<tbody>\n",
       "<tr><td style=\"text-align: right;\">   1</td><td style=\"text-align: right;\">      20000</td><td>female</td><td>university     </td><td>married   </td><td style=\"text-align: right;\">   24</td><td>no consumption         </td><td>2 month delay          </td><td>pay duly               </td><td>pay duly               </td><td>no consumption         </td><td>no consumption         </td><td style=\"text-align: right;\">       3913</td><td style=\"text-align: right;\">       3102</td><td style=\"text-align: right;\">        689</td><td style=\"text-align: right;\">          0</td><td style=\"text-align: right;\">          0</td><td style=\"text-align: right;\">          0</td><td style=\"text-align: right;\">         0</td><td style=\"text-align: right;\">       689</td><td style=\"text-align: right;\">         0</td><td style=\"text-align: right;\">         0</td><td style=\"text-align: right;\">         0</td><td style=\"text-align: right;\">         0</td><td style=\"text-align: right;\">                   1</td></tr>\n",
       "<tr><td style=\"text-align: right;\">   2</td><td style=\"text-align: right;\">     120000</td><td>female</td><td>university     </td><td>single    </td><td style=\"text-align: right;\">   26</td><td>pay duly               </td><td>2 month delay          </td><td>use of revolving credit</td><td>use of revolving credit</td><td>use of revolving credit</td><td>2 month delay          </td><td style=\"text-align: right;\">       2682</td><td style=\"text-align: right;\">       1725</td><td style=\"text-align: right;\">       2682</td><td style=\"text-align: right;\">       3272</td><td style=\"text-align: right;\">       3455</td><td style=\"text-align: right;\">       3261</td><td style=\"text-align: right;\">         0</td><td style=\"text-align: right;\">      1000</td><td style=\"text-align: right;\">      1000</td><td style=\"text-align: right;\">      1000</td><td style=\"text-align: right;\">         0</td><td style=\"text-align: right;\">      2000</td><td style=\"text-align: right;\">                   1</td></tr>\n",
       "<tr><td style=\"text-align: right;\">   3</td><td style=\"text-align: right;\">      90000</td><td>female</td><td>university     </td><td>single    </td><td style=\"text-align: right;\">   34</td><td>use of revolving credit</td><td>use of revolving credit</td><td>use of revolving credit</td><td>use of revolving credit</td><td>use of revolving credit</td><td>use of revolving credit</td><td style=\"text-align: right;\">      29239</td><td style=\"text-align: right;\">      14027</td><td style=\"text-align: right;\">      13559</td><td style=\"text-align: right;\">      14331</td><td style=\"text-align: right;\">      14948</td><td style=\"text-align: right;\">      15549</td><td style=\"text-align: right;\">      1518</td><td style=\"text-align: right;\">      1500</td><td style=\"text-align: right;\">      1000</td><td style=\"text-align: right;\">      1000</td><td style=\"text-align: right;\">      1000</td><td style=\"text-align: right;\">      5000</td><td style=\"text-align: right;\">                   0</td></tr>\n",
       "<tr><td style=\"text-align: right;\">   4</td><td style=\"text-align: right;\">      50000</td><td>female</td><td>university     </td><td>married   </td><td style=\"text-align: right;\">   37</td><td>1 month delay          </td><td>use of revolving credit</td><td>use of revolving credit</td><td>use of revolving credit</td><td>use of revolving credit</td><td>use of revolving credit</td><td style=\"text-align: right;\">      46990</td><td style=\"text-align: right;\">      48233</td><td style=\"text-align: right;\">      49291</td><td style=\"text-align: right;\">      28314</td><td style=\"text-align: right;\">      28959</td><td style=\"text-align: right;\">      29547</td><td style=\"text-align: right;\">      2000</td><td style=\"text-align: right;\">      2019</td><td style=\"text-align: right;\">      1200</td><td style=\"text-align: right;\">      1100</td><td style=\"text-align: right;\">      1069</td><td style=\"text-align: right;\">      1000</td><td style=\"text-align: right;\">                   0</td></tr>\n",
       "<tr><td style=\"text-align: right;\">   5</td><td style=\"text-align: right;\">      50000</td><td>male  </td><td>university     </td><td>married   </td><td style=\"text-align: right;\">   57</td><td>2 month delay          </td><td>use of revolving credit</td><td>pay duly               </td><td>use of revolving credit</td><td>use of revolving credit</td><td>use of revolving credit</td><td style=\"text-align: right;\">       8617</td><td style=\"text-align: right;\">       5670</td><td style=\"text-align: right;\">      35835</td><td style=\"text-align: right;\">      20940</td><td style=\"text-align: right;\">      19146</td><td style=\"text-align: right;\">      19131</td><td style=\"text-align: right;\">      2000</td><td style=\"text-align: right;\">     36681</td><td style=\"text-align: right;\">     10000</td><td style=\"text-align: right;\">      9000</td><td style=\"text-align: right;\">       689</td><td style=\"text-align: right;\">       679</td><td style=\"text-align: right;\">                   0</td></tr>\n",
       "<tr><td style=\"text-align: right;\">   6</td><td style=\"text-align: right;\">      50000</td><td>male  </td><td>graduate school</td><td>single    </td><td style=\"text-align: right;\">   37</td><td>3 month delay          </td><td>use of revolving credit</td><td>use of revolving credit</td><td>use of revolving credit</td><td>use of revolving credit</td><td>use of revolving credit</td><td style=\"text-align: right;\">      64400</td><td style=\"text-align: right;\">      57069</td><td style=\"text-align: right;\">      57608</td><td style=\"text-align: right;\">      19394</td><td style=\"text-align: right;\">      19619</td><td style=\"text-align: right;\">      20024</td><td style=\"text-align: right;\">      2500</td><td style=\"text-align: right;\">      1815</td><td style=\"text-align: right;\">       657</td><td style=\"text-align: right;\">      1000</td><td style=\"text-align: right;\">      1000</td><td style=\"text-align: right;\">       800</td><td style=\"text-align: right;\">                   0</td></tr>\n",
       "<tr><td style=\"text-align: right;\">   7</td><td style=\"text-align: right;\">     500000</td><td>male  </td><td>graduate school</td><td>single    </td><td style=\"text-align: right;\">   29</td><td>4 month delay          </td><td>use of revolving credit</td><td>use of revolving credit</td><td>use of revolving credit</td><td>use of revolving credit</td><td>use of revolving credit</td><td style=\"text-align: right;\">     367965</td><td style=\"text-align: right;\">     412023</td><td style=\"text-align: right;\">     445007</td><td style=\"text-align: right;\">     542653</td><td style=\"text-align: right;\">     483003</td><td style=\"text-align: right;\">     473944</td><td style=\"text-align: right;\">     55000</td><td style=\"text-align: right;\">     40000</td><td style=\"text-align: right;\">     38000</td><td style=\"text-align: right;\">     20239</td><td style=\"text-align: right;\">     13750</td><td style=\"text-align: right;\">     13770</td><td style=\"text-align: right;\">                   0</td></tr>\n",
       "<tr><td style=\"text-align: right;\">   8</td><td style=\"text-align: right;\">     100000</td><td>female</td><td>university     </td><td>single    </td><td style=\"text-align: right;\">   23</td><td>5 month delay          </td><td>pay duly               </td><td>pay duly               </td><td>use of revolving credit</td><td>use of revolving credit</td><td>pay duly               </td><td style=\"text-align: right;\">      11876</td><td style=\"text-align: right;\">        380</td><td style=\"text-align: right;\">        601</td><td style=\"text-align: right;\">        221</td><td style=\"text-align: right;\">       -159</td><td style=\"text-align: right;\">        567</td><td style=\"text-align: right;\">       380</td><td style=\"text-align: right;\">       601</td><td style=\"text-align: right;\">         0</td><td style=\"text-align: right;\">       581</td><td style=\"text-align: right;\">      1687</td><td style=\"text-align: right;\">      1542</td><td style=\"text-align: right;\">                   0</td></tr>\n",
       "<tr><td style=\"text-align: right;\">   9</td><td style=\"text-align: right;\">     140000</td><td>female</td><td>high school    </td><td>married   </td><td style=\"text-align: right;\">   28</td><td>6 month delay          </td><td>use of revolving credit</td><td>2 month delay          </td><td>use of revolving credit</td><td>use of revolving credit</td><td>use of revolving credit</td><td style=\"text-align: right;\">      11285</td><td style=\"text-align: right;\">      14096</td><td style=\"text-align: right;\">      12108</td><td style=\"text-align: right;\">      12211</td><td style=\"text-align: right;\">      11793</td><td style=\"text-align: right;\">       3719</td><td style=\"text-align: right;\">      3329</td><td style=\"text-align: right;\">         0</td><td style=\"text-align: right;\">       432</td><td style=\"text-align: right;\">      1000</td><td style=\"text-align: right;\">      1000</td><td style=\"text-align: right;\">      1000</td><td style=\"text-align: right;\">                   0</td></tr>\n",
       "<tr><td style=\"text-align: right;\">  10</td><td style=\"text-align: right;\">      20000</td><td>male  </td><td>high school    </td><td>single    </td><td style=\"text-align: right;\">   35</td><td>7 month delay          </td><td>no consumption         </td><td>no consumption         </td><td>no consumption         </td><td>pay duly               </td><td>pay duly               </td><td style=\"text-align: right;\">          0</td><td style=\"text-align: right;\">          0</td><td style=\"text-align: right;\">          0</td><td style=\"text-align: right;\">          0</td><td style=\"text-align: right;\">      13007</td><td style=\"text-align: right;\">      13912</td><td style=\"text-align: right;\">         0</td><td style=\"text-align: right;\">         0</td><td style=\"text-align: right;\">         0</td><td style=\"text-align: right;\">     13007</td><td style=\"text-align: right;\">      1122</td><td style=\"text-align: right;\">         0</td><td style=\"text-align: right;\">                   0</td></tr>\n",
       "</tbody>\n",
       "</table>"
      ]
     },
     "metadata": {},
     "output_type": "display_data"
    },
    {
     "data": {
      "text/plain": []
     },
     "execution_count": 7,
     "metadata": {},
     "output_type": "execute_result"
    }
   ],
   "source": [
    "data.head()"
   ]
  },
  {
   "cell_type": "markdown",
   "metadata": {},
   "source": [
    "## 2. Train an H2O GBM multinomial classifier"
   ]
  },
  {
   "cell_type": "markdown",
   "metadata": {},
   "source": [
    "#### Split data into training and test sets for early stopping\n",
    "The credit card dataset is split into training and test sets to monitor and prevent overtraining. Reproducibility is also an important factor in creating trustworthy models, and randomly splitting datasets can introduce randomness in model predictions and other results. A random seed is used here to ensure the data split is reproducible."
   ]
  },
  {
   "cell_type": "code",
   "execution_count": 8,
   "metadata": {},
   "outputs": [
    {
     "name": "stdout",
     "output_type": "stream",
     "text": [
      "Train data rows = 7013, columns = 25\n",
      "Test data rows = 2987, columns = 25\n"
     ]
    }
   ],
   "source": [
    "# split into training and validation\n",
    "train, test = data.split_frame([0.7], seed=12345)\n",
    "\n",
    "# summarize split\n",
    "print('Train data rows = %d, columns = %d' % (train.shape[0], train.shape[1]))\n",
    "print('Test data rows = %d, columns = %d' % (test.shape[0], test.shape[1]))"
   ]
  },
  {
   "cell_type": "markdown",
   "metadata": {},
   "source": [
    "#### Train h2o GBM classifier\n",
    "Many tuning parameters must be specified to train a GBM using h2o. Typically a grid search would be performed to identify the best parameters for a given modeling task using the `H2OGridSearch` class. For brevity's sake, a previously-discovered set of good tuning parameters are specified here. Because gradient boosting methods typically resample training data, an additional random seed is also specified for the h2o GBM using the `seed` parameter to create reproducible predictions, error rates, and variable importance values. To avoid overfitting, the `stopping_rounds` parameter is used to stop the training process after the test error fails to decrease for 5 iterations. "
   ]
  },
  {
   "cell_type": "code",
   "execution_count": 9,
   "metadata": {},
   "outputs": [
    {
     "name": "stdout",
     "output_type": "stream",
     "text": [
      "gbm Model Build progress: |███████████████████████████████████████████████| 100%\n",
      "GBM Test AUC = 0.88\n"
     ]
    }
   ],
   "source": [
    "# initialize GBM model\n",
    "model = H2OGradientBoostingEstimator(ntrees=150,            # maximum 150 trees in GBM\n",
    "                                     max_depth=4,           # trees can have maximum depth of 4\n",
    "                                     sample_rate=0.9,       # use 90% of rows in each iteration (tree)\n",
    "                                     col_sample_rate=0.9,   # use 90% of variables in each iteration (tree)\n",
    "                                     #balance_classes=True, # sample to balance 0/1 distribution of target - can help LOCO\n",
    "                                     stopping_rounds=5,     # stop if validation error does not decrease for 5 iterations (trees)\n",
    "                                     score_tree_interval=1, # for reproducibility, set higher for bigger data\n",
    "                                     model_id='dia_gbm',    # for locating the model in Flow UI \n",
    "                                     seed=12345)            # for reproducibility\n",
    "\n",
    "# train a GBM model\n",
    "model.train(y=y, x=X, training_frame=train, validation_frame=test)\n",
    "\n",
    "# print logloss\n",
    "print('GBM Test AUC = %.2f' % model.logloss())"
   ]
  },
  {
   "cell_type": "markdown",
   "metadata": {},
   "source": [
    "#### Display variable importance"
   ]
  },
  {
   "cell_type": "code",
   "execution_count": 10,
   "metadata": {},
   "outputs": [
    {
     "data": {
      "image/png": "[encoded data removed]",
      "text/plain": [
       "<Figure size 1008x720 with 1 Axes>"
      ]
     },
     "metadata": {
      "needs_background": "light"
     },
     "output_type": "display_data"
    }
   ],
   "source": [
    "model.varimp_plot()"
   ]
  },
  {
   "cell_type": "markdown",
   "metadata": {},
   "source": [
    "#### Display performance of model"
   ]
  },
  {
   "cell_type": "code",
   "execution_count": 11,
   "metadata": {},
   "outputs": [
    {
     "name": "stdout",
     "output_type": "stream",
     "text": [
      "\n",
      "ModelMetricsMultinomial: gbm\n",
      "** Reported on train data. **\n",
      "\n",
      "MSE: 0.3179578124457957\n",
      "RMSE: 0.5638774799952518\n",
      "LogLoss: 0.8781338386600911\n",
      "Mean Per-Class Error: 0.5682176533292551\n",
      "\n",
      "Confusion Matrix: Row labels: Actual class; Column labels: Predicted class\n"
     ]
    },
    {
     "data": {
      "text/html": [
       "<div>\n",
       "<style scoped>\n",
       "    .dataframe tbody tr th:only-of-type {\n",
       "        vertical-align: middle;\n",
       "    }\n",
       "\n",
       "    .dataframe tbody tr th {\n",
       "        vertical-align: top;\n",
       "    }\n",
       "\n",
       "    .dataframe thead th {\n",
       "        text-align: right;\n",
       "    }\n",
       "</style>\n",
       "<table border=\"1\" class=\"dataframe\">\n",
       "  <thead>\n",
       "    <tr style=\"text-align: right;\">\n",
       "      <th></th>\n",
       "      <th>graduate school</th>\n",
       "      <th>high school</th>\n",
       "      <th>other</th>\n",
       "      <th>university</th>\n",
       "      <th>Error</th>\n",
       "      <th>Rate</th>\n",
       "    </tr>\n",
       "  </thead>\n",
       "  <tbody>\n",
       "    <tr>\n",
       "      <th>0</th>\n",
       "      <td>1611.0</td>\n",
       "      <td>58.0</td>\n",
       "      <td>0.0</td>\n",
       "      <td>926.0</td>\n",
       "      <td>0.379191</td>\n",
       "      <td>984 / 2,595</td>\n",
       "    </tr>\n",
       "    <tr>\n",
       "      <th>1</th>\n",
       "      <td>229.0</td>\n",
       "      <td>259.0</td>\n",
       "      <td>0.0</td>\n",
       "      <td>643.0</td>\n",
       "      <td>0.770999</td>\n",
       "      <td>872 / 1,131</td>\n",
       "    </tr>\n",
       "    <tr>\n",
       "      <th>2</th>\n",
       "      <td>17.0</td>\n",
       "      <td>5.0</td>\n",
       "      <td>9.0</td>\n",
       "      <td>46.0</td>\n",
       "      <td>0.883117</td>\n",
       "      <td>68 / 77</td>\n",
       "    </tr>\n",
       "    <tr>\n",
       "      <th>3</th>\n",
       "      <td>669.0</td>\n",
       "      <td>100.0</td>\n",
       "      <td>0.0</td>\n",
       "      <td>2441.0</td>\n",
       "      <td>0.239564</td>\n",
       "      <td>769 / 3,210</td>\n",
       "    </tr>\n",
       "    <tr>\n",
       "      <th>4</th>\n",
       "      <td>2526.0</td>\n",
       "      <td>422.0</td>\n",
       "      <td>9.0</td>\n",
       "      <td>4056.0</td>\n",
       "      <td>0.384001</td>\n",
       "      <td>2,693 / 7,013</td>\n",
       "    </tr>\n",
       "  </tbody>\n",
       "</table>\n",
       "</div>"
      ],
      "text/plain": [
       "   graduate school  high school  other  university     Error           Rate\n",
       "0           1611.0         58.0    0.0       926.0  0.379191    984 / 2,595\n",
       "1            229.0        259.0    0.0       643.0  0.770999    872 / 1,131\n",
       "2             17.0          5.0    9.0        46.0  0.883117        68 / 77\n",
       "3            669.0        100.0    0.0      2441.0  0.239564    769 / 3,210\n",
       "4           2526.0        422.0    9.0      4056.0  0.384001  2,693 / 7,013"
      ]
     },
     "metadata": {},
     "output_type": "display_data"
    },
    {
     "name": "stdout",
     "output_type": "stream",
     "text": [
      "\n",
      "Top-4 Hit Ratios: \n"
     ]
    },
    {
     "data": {
      "text/html": [
       "<div>\n",
       "<style scoped>\n",
       "    .dataframe tbody tr th:only-of-type {\n",
       "        vertical-align: middle;\n",
       "    }\n",
       "\n",
       "    .dataframe tbody tr th {\n",
       "        vertical-align: top;\n",
       "    }\n",
       "\n",
       "    .dataframe thead th {\n",
       "        text-align: right;\n",
       "    }\n",
       "</style>\n",
       "<table border=\"1\" class=\"dataframe\">\n",
       "  <thead>\n",
       "    <tr style=\"text-align: right;\">\n",
       "      <th></th>\n",
       "      <th>k</th>\n",
       "      <th>hit_ratio</th>\n",
       "    </tr>\n",
       "  </thead>\n",
       "  <tbody>\n",
       "    <tr>\n",
       "      <th>0</th>\n",
       "      <td>1</td>\n",
       "      <td>0.615999</td>\n",
       "    </tr>\n",
       "    <tr>\n",
       "      <th>1</th>\n",
       "      <td>2</td>\n",
       "      <td>0.892771</td>\n",
       "    </tr>\n",
       "    <tr>\n",
       "      <th>2</th>\n",
       "      <td>3</td>\n",
       "      <td>0.992157</td>\n",
       "    </tr>\n",
       "    <tr>\n",
       "      <th>3</th>\n",
       "      <td>4</td>\n",
       "      <td>1.000000</td>\n",
       "    </tr>\n",
       "  </tbody>\n",
       "</table>\n",
       "</div>"
      ],
      "text/plain": [
       "   k  hit_ratio\n",
       "0  1   0.615999\n",
       "1  2   0.892771\n",
       "2  3   0.992157\n",
       "3  4   1.000000"
      ]
     },
     "metadata": {},
     "output_type": "display_data"
    },
    {
     "data": {
      "text/plain": []
     },
     "execution_count": 11,
     "metadata": {},
     "output_type": "execute_result"
    }
   ],
   "source": [
    "perf_of_model = model.model_performance()\n",
    "perf_of_model"
   ]
  },
  {
   "cell_type": "markdown",
   "metadata": {},
   "source": [
    "#### Display confusion matrix of model"
   ]
  },
  {
   "cell_type": "code",
   "execution_count": 12,
   "metadata": {},
   "outputs": [
    {
     "name": "stdout",
     "output_type": "stream",
     "text": [
      "\n",
      "Confusion Matrix: Row labels: Actual class; Column labels: Predicted class\n"
     ]
    },
    {
     "data": {
      "text/html": [
       "<div>\n",
       "<style scoped>\n",
       "    .dataframe tbody tr th:only-of-type {\n",
       "        vertical-align: middle;\n",
       "    }\n",
       "\n",
       "    .dataframe tbody tr th {\n",
       "        vertical-align: top;\n",
       "    }\n",
       "\n",
       "    .dataframe thead th {\n",
       "        text-align: right;\n",
       "    }\n",
       "</style>\n",
       "<table border=\"1\" class=\"dataframe\">\n",
       "  <thead>\n",
       "    <tr style=\"text-align: right;\">\n",
       "      <th></th>\n",
       "      <th>graduate school</th>\n",
       "      <th>high school</th>\n",
       "      <th>other</th>\n",
       "      <th>university</th>\n",
       "      <th>Error</th>\n",
       "      <th>Rate</th>\n",
       "    </tr>\n",
       "  </thead>\n",
       "  <tbody>\n",
       "    <tr>\n",
       "      <th>0</th>\n",
       "      <td>1611.0</td>\n",
       "      <td>58.0</td>\n",
       "      <td>0.0</td>\n",
       "      <td>926.0</td>\n",
       "      <td>0.379191</td>\n",
       "      <td>984 / 2,595</td>\n",
       "    </tr>\n",
       "    <tr>\n",
       "      <th>1</th>\n",
       "      <td>229.0</td>\n",
       "      <td>259.0</td>\n",
       "      <td>0.0</td>\n",
       "      <td>643.0</td>\n",
       "      <td>0.770999</td>\n",
       "      <td>872 / 1,131</td>\n",
       "    </tr>\n",
       "    <tr>\n",
       "      <th>2</th>\n",
       "      <td>17.0</td>\n",
       "      <td>5.0</td>\n",
       "      <td>9.0</td>\n",
       "      <td>46.0</td>\n",
       "      <td>0.883117</td>\n",
       "      <td>68 / 77</td>\n",
       "    </tr>\n",
       "    <tr>\n",
       "      <th>3</th>\n",
       "      <td>669.0</td>\n",
       "      <td>100.0</td>\n",
       "      <td>0.0</td>\n",
       "      <td>2441.0</td>\n",
       "      <td>0.239564</td>\n",
       "      <td>769 / 3,210</td>\n",
       "    </tr>\n",
       "    <tr>\n",
       "      <th>4</th>\n",
       "      <td>2526.0</td>\n",
       "      <td>422.0</td>\n",
       "      <td>9.0</td>\n",
       "      <td>4056.0</td>\n",
       "      <td>0.384001</td>\n",
       "      <td>2,693 / 7,013</td>\n",
       "    </tr>\n",
       "  </tbody>\n",
       "</table>\n",
       "</div>"
      ],
      "text/plain": [
       "   graduate school  high school  other  university     Error           Rate\n",
       "0           1611.0         58.0    0.0       926.0  0.379191    984 / 2,595\n",
       "1            229.0        259.0    0.0       643.0  0.770999    872 / 1,131\n",
       "2             17.0          5.0    9.0        46.0  0.883117        68 / 77\n",
       "3            669.0        100.0    0.0      2441.0  0.239564    769 / 3,210\n",
       "4           2526.0        422.0    9.0      4056.0  0.384001  2,693 / 7,013"
      ]
     },
     "metadata": {},
     "output_type": "display_data"
    },
    {
     "data": {
      "text/plain": []
     },
     "execution_count": 12,
     "metadata": {},
     "output_type": "execute_result"
    }
   ],
   "source": [
    "perf_of_model.confusion_matrix()"
   ]
  },
  {
   "cell_type": "markdown",
   "metadata": {},
   "source": [
    "#### Obtain predictions on test set and cbind to test set"
   ]
  },
  {
   "cell_type": "code",
   "execution_count": 13,
   "metadata": {},
   "outputs": [
    {
     "name": "stdout",
     "output_type": "stream",
     "text": [
      "gbm prediction progress: |████████████████████████████████████████████████| 100%\n"
     ]
    },
    {
     "data": {
      "text/html": [
       "<table>\n",
       "<thead>\n",
       "<tr><th>predict        </th><th style=\"text-align: right;\">  graduate school</th><th style=\"text-align: right;\">  high school</th><th style=\"text-align: right;\">     other</th><th style=\"text-align: right;\">  university</th></tr>\n",
       "</thead>\n",
       "<tbody>\n",
       "<tr><td>university     </td><td style=\"text-align: right;\">         0.129668</td><td style=\"text-align: right;\">     0.162902</td><td style=\"text-align: right;\">0.0143504 </td><td style=\"text-align: right;\">    0.69308 </td></tr>\n",
       "<tr><td>university     </td><td style=\"text-align: right;\">         0.369092</td><td style=\"text-align: right;\">     0.116263</td><td style=\"text-align: right;\">0.0284222 </td><td style=\"text-align: right;\">    0.486222</td></tr>\n",
       "<tr><td>graduate school</td><td style=\"text-align: right;\">         0.430515</td><td style=\"text-align: right;\">     0.153518</td><td style=\"text-align: right;\">0.0102982 </td><td style=\"text-align: right;\">    0.405669</td></tr>\n",
       "<tr><td>university     </td><td style=\"text-align: right;\">         0.120598</td><td style=\"text-align: right;\">     0.149586</td><td style=\"text-align: right;\">0.0163806 </td><td style=\"text-align: right;\">    0.713435</td></tr>\n",
       "<tr><td>university     </td><td style=\"text-align: right;\">         0.261474</td><td style=\"text-align: right;\">     0.14608 </td><td style=\"text-align: right;\">0.00871461</td><td style=\"text-align: right;\">    0.583731</td></tr>\n",
       "<tr><td>university     </td><td style=\"text-align: right;\">         0.369631</td><td style=\"text-align: right;\">     0.180053</td><td style=\"text-align: right;\">0.0155925 </td><td style=\"text-align: right;\">    0.434724</td></tr>\n",
       "<tr><td>university     </td><td style=\"text-align: right;\">         0.264282</td><td style=\"text-align: right;\">     0.215662</td><td style=\"text-align: right;\">0.013257  </td><td style=\"text-align: right;\">    0.506798</td></tr>\n",
       "<tr><td>university     </td><td style=\"text-align: right;\">         0.294426</td><td style=\"text-align: right;\">     0.105597</td><td style=\"text-align: right;\">0.0137803 </td><td style=\"text-align: right;\">    0.586197</td></tr>\n",
       "<tr><td>university     </td><td style=\"text-align: right;\">         0.260939</td><td style=\"text-align: right;\">     0.117708</td><td style=\"text-align: right;\">0.0120874 </td><td style=\"text-align: right;\">    0.609265</td></tr>\n",
       "<tr><td>university     </td><td style=\"text-align: right;\">         0.337009</td><td style=\"text-align: right;\">     0.112512</td><td style=\"text-align: right;\">0.0102702 </td><td style=\"text-align: right;\">    0.540209</td></tr>\n",
       "</tbody>\n",
       "</table>"
      ]
     },
     "metadata": {},
     "output_type": "display_data"
    },
    {
     "data": {
      "text/plain": []
     },
     "execution_count": 13,
     "metadata": {},
     "output_type": "execute_result"
    }
   ],
   "source": [
    "preds = model.predict(test)\n",
    "preds"
   ]
  },
  {
   "cell_type": "code",
   "execution_count": 14,
   "metadata": {},
   "outputs": [
    {
     "data": {
      "text/html": [
       "<div>\n",
       "<style scoped>\n",
       "    .dataframe tbody tr th:only-of-type {\n",
       "        vertical-align: middle;\n",
       "    }\n",
       "\n",
       "    .dataframe tbody tr th {\n",
       "        vertical-align: top;\n",
       "    }\n",
       "\n",
       "    .dataframe thead th {\n",
       "        text-align: right;\n",
       "    }\n",
       "</style>\n",
       "<table border=\"1\" class=\"dataframe\">\n",
       "  <thead>\n",
       "    <tr style=\"text-align: right;\">\n",
       "      <th></th>\n",
       "      <th>ID</th>\n",
       "      <th>LIMIT_BAL</th>\n",
       "      <th>SEX</th>\n",
       "      <th>EDUCATION</th>\n",
       "      <th>MARRIAGE</th>\n",
       "      <th>AGE</th>\n",
       "      <th>PAY_0</th>\n",
       "      <th>PAY_2</th>\n",
       "      <th>PAY_3</th>\n",
       "      <th>PAY_4</th>\n",
       "      <th>...</th>\n",
       "      <th>PAY_AMT3</th>\n",
       "      <th>PAY_AMT4</th>\n",
       "      <th>PAY_AMT5</th>\n",
       "      <th>PAY_AMT6</th>\n",
       "      <th>DEFAULT_NEXT_MONTH</th>\n",
       "      <th>predict</th>\n",
       "      <th>graduate school</th>\n",
       "      <th>high school</th>\n",
       "      <th>other</th>\n",
       "      <th>university</th>\n",
       "    </tr>\n",
       "  </thead>\n",
       "  <tbody>\n",
       "    <tr>\n",
       "      <th>0</th>\n",
       "      <td>4</td>\n",
       "      <td>50000</td>\n",
       "      <td>female</td>\n",
       "      <td>university</td>\n",
       "      <td>married</td>\n",
       "      <td>37</td>\n",
       "      <td>1 month delay</td>\n",
       "      <td>use of revolving credit</td>\n",
       "      <td>use of revolving credit</td>\n",
       "      <td>use of revolving credit</td>\n",
       "      <td>...</td>\n",
       "      <td>1200</td>\n",
       "      <td>1100</td>\n",
       "      <td>1069</td>\n",
       "      <td>1000</td>\n",
       "      <td>0</td>\n",
       "      <td>university</td>\n",
       "      <td>0.129668</td>\n",
       "      <td>0.162902</td>\n",
       "      <td>0.014350</td>\n",
       "      <td>0.693080</td>\n",
       "    </tr>\n",
       "    <tr>\n",
       "      <th>1</th>\n",
       "      <td>8</td>\n",
       "      <td>100000</td>\n",
       "      <td>female</td>\n",
       "      <td>university</td>\n",
       "      <td>single</td>\n",
       "      <td>23</td>\n",
       "      <td>5 month delay</td>\n",
       "      <td>pay duly</td>\n",
       "      <td>pay duly</td>\n",
       "      <td>use of revolving credit</td>\n",
       "      <td>...</td>\n",
       "      <td>0</td>\n",
       "      <td>581</td>\n",
       "      <td>1687</td>\n",
       "      <td>1542</td>\n",
       "      <td>0</td>\n",
       "      <td>university</td>\n",
       "      <td>0.369092</td>\n",
       "      <td>0.116263</td>\n",
       "      <td>0.028422</td>\n",
       "      <td>0.486222</td>\n",
       "    </tr>\n",
       "    <tr>\n",
       "      <th>2</th>\n",
       "      <td>10</td>\n",
       "      <td>20000</td>\n",
       "      <td>male</td>\n",
       "      <td>high school</td>\n",
       "      <td>single</td>\n",
       "      <td>35</td>\n",
       "      <td>7 month delay</td>\n",
       "      <td>no consumption</td>\n",
       "      <td>no consumption</td>\n",
       "      <td>no consumption</td>\n",
       "      <td>...</td>\n",
       "      <td>0</td>\n",
       "      <td>13007</td>\n",
       "      <td>1122</td>\n",
       "      <td>0</td>\n",
       "      <td>0</td>\n",
       "      <td>graduate school</td>\n",
       "      <td>0.430515</td>\n",
       "      <td>0.153518</td>\n",
       "      <td>0.010298</td>\n",
       "      <td>0.405669</td>\n",
       "    </tr>\n",
       "    <tr>\n",
       "      <th>3</th>\n",
       "      <td>16</td>\n",
       "      <td>50000</td>\n",
       "      <td>female</td>\n",
       "      <td>high school</td>\n",
       "      <td>divorced</td>\n",
       "      <td>23</td>\n",
       "      <td>1 month delay</td>\n",
       "      <td>2 month delay</td>\n",
       "      <td>use of revolving credit</td>\n",
       "      <td>use of revolving credit</td>\n",
       "      <td>...</td>\n",
       "      <td>1100</td>\n",
       "      <td>1200</td>\n",
       "      <td>1300</td>\n",
       "      <td>1100</td>\n",
       "      <td>0</td>\n",
       "      <td>university</td>\n",
       "      <td>0.120598</td>\n",
       "      <td>0.149586</td>\n",
       "      <td>0.016381</td>\n",
       "      <td>0.713435</td>\n",
       "    </tr>\n",
       "    <tr>\n",
       "      <th>4</th>\n",
       "      <td>17</td>\n",
       "      <td>20000</td>\n",
       "      <td>male</td>\n",
       "      <td>graduate school</td>\n",
       "      <td>single</td>\n",
       "      <td>24</td>\n",
       "      <td>use of revolving credit</td>\n",
       "      <td>use of revolving credit</td>\n",
       "      <td>2 month delay</td>\n",
       "      <td>2 month delay</td>\n",
       "      <td>...</td>\n",
       "      <td>1500</td>\n",
       "      <td>0</td>\n",
       "      <td>1650</td>\n",
       "      <td>0</td>\n",
       "      <td>1</td>\n",
       "      <td>university</td>\n",
       "      <td>0.261474</td>\n",
       "      <td>0.146080</td>\n",
       "      <td>0.008715</td>\n",
       "      <td>0.583731</td>\n",
       "    </tr>\n",
       "  </tbody>\n",
       "</table>\n",
       "<p>5 rows × 30 columns</p>\n",
       "</div>"
      ],
      "text/plain": [
       "   ID  LIMIT_BAL     SEX        EDUCATION  MARRIAGE  AGE  \\\n",
       "0   4      50000  female       university   married   37   \n",
       "1   8     100000  female       university    single   23   \n",
       "2  10      20000    male      high school    single   35   \n",
       "3  16      50000  female      high school  divorced   23   \n",
       "4  17      20000    male  graduate school    single   24   \n",
       "\n",
       "                     PAY_0                    PAY_2                    PAY_3  \\\n",
       "0            1 month delay  use of revolving credit  use of revolving credit   \n",
       "1            5 month delay                 pay duly                 pay duly   \n",
       "2            7 month delay           no consumption           no consumption   \n",
       "3            1 month delay            2 month delay  use of revolving credit   \n",
       "4  use of revolving credit  use of revolving credit            2 month delay   \n",
       "\n",
       "                     PAY_4     ...     PAY_AMT3 PAY_AMT4  PAY_AMT5  PAY_AMT6  \\\n",
       "0  use of revolving credit     ...         1200     1100      1069      1000   \n",
       "1  use of revolving credit     ...            0      581      1687      1542   \n",
       "2           no consumption     ...            0    13007      1122         0   \n",
       "3  use of revolving credit     ...         1100     1200      1300      1100   \n",
       "4            2 month delay     ...         1500        0      1650         0   \n",
       "\n",
       "   DEFAULT_NEXT_MONTH          predict  graduate school  high school  \\\n",
       "0                   0       university         0.129668     0.162902   \n",
       "1                   0       university         0.369092     0.116263   \n",
       "2                   0  graduate school         0.430515     0.153518   \n",
       "3                   0       university         0.120598     0.149586   \n",
       "4                   1       university         0.261474     0.146080   \n",
       "\n",
       "      other  university  \n",
       "0  0.014350    0.693080  \n",
       "1  0.028422    0.486222  \n",
       "2  0.010298    0.405669  \n",
       "3  0.016381    0.713435  \n",
       "4  0.008715    0.583731  \n",
       "\n",
       "[5 rows x 30 columns]"
      ]
     },
     "execution_count": 14,
     "metadata": {},
     "output_type": "execute_result"
    }
   ],
   "source": [
    "test_yhat = test.cbind(preds).as_data_frame()\n",
    "test_yhat.head()"
   ]
  },
  {
   "cell_type": "markdown",
   "metadata": {},
   "source": [
    "#### View classes of outcome"
   ]
  },
  {
   "cell_type": "code",
   "execution_count": 15,
   "metadata": {},
   "outputs": [
    {
     "data": {
      "text/plain": [
       "['university', 'high school', 'graduate school', 'other']"
      ]
     },
     "execution_count": 15,
     "metadata": {},
     "output_type": "execute_result"
    }
   ],
   "source": [
    "# Levels for target, EDUCATION\n",
    "ed_levels = list(test_yhat[y].unique())\n",
    "ed_levels"
   ]
  },
  {
   "cell_type": "markdown",
   "metadata": {},
   "source": [
    "# 3. Calculate SMD Across Protected Classes\n",
    "\n",
    "The standardized mean difference (SMD), i.e. Cohen's D, is the mean value of the prediction for the protected group minus the mean prediction for the reference group, all divided by the standard deviation of the prediction(s). SMD has some prescribed thresholds: 0.2, 0.5, and 0.8 for small, medium, and large differences, respectively. The standardized mean difference can also be used on continuous values like credit limits or loan amounts.\n",
    "\n",
    "Since this is a multinomial classification problem, the SMD will be calculated per class outcome predictions and we will focus on the class outcome that shows the highest difference between a reference and protected group."
   ]
  },
  {
   "cell_type": "code",
   "execution_count": 16,
   "metadata": {},
   "outputs": [],
   "source": [
    "def smd_multinomial(frame, labels, j, reference, protected):\n",
    "        \n",
    "    protected_mean_sd_dict = collections.defaultdict(dict)\n",
    "    reference_mean_sd_dict = collections.defaultdict(dict)\n",
    "    smd_dict = collections.defaultdict(dict)\n",
    "    \n",
    "    smd_protected_frame_labels = [s + \"_\" + protected for s in labels]\n",
    "    smd_reference_frame_labels = [s + \"_\" + reference for s in labels]\n",
    "    \n",
    "    sigma = np.std(frame[labels].values)\n",
    "    #print(f\"Sigma across all labels preds ({labels}): {sigma}\\n\")\n",
    "    \n",
    "    for label in labels:\n",
    "        \n",
    "        # Reference class frame\n",
    "        reference_frame = frame[frame[j] == reference][label]\n",
    "    \n",
    "        # Protected class frame\n",
    "        protected_frame = frame[frame[j] == protected][label]\n",
    "        \n",
    "        # yhat mean for class label\n",
    "        mean_protected = protected_frame.mean()\n",
    "        # yhat std for class label\n",
    "        sigma_protected = protected_frame.std()\n",
    "        #print(f\"{protected.title()} mean yhat for class label, {label}: {mean_protected}\")\n",
    "        #print(f\"{protected.title()} sigma of yhat for class label, {label}: {sigma_protected}\")\n",
    "        \n",
    "        mean_reference = reference_frame.mean()\n",
    "        sigma_reference = reference_frame.std()\n",
    "        #print(f\"{reference.title()} mean yhat for class label, {label}: {mean_reference}\")\n",
    "        #print(f\"{reference.title()} sigma of yhat for class label, {label}: {sigma_reference}\")\n",
    "        \n",
    "        protected_mean_sd_dict[label]['mean'] = mean_protected\n",
    "        protected_mean_sd_dict[label]['sd'] = sigma_protected\n",
    "        \n",
    "        reference_mean_sd_dict[label]['mean'] = mean_reference\n",
    "        reference_mean_sd_dict[label]['sd'] = sigma_reference\n",
    "        \n",
    "        smd = (protected_mean_sd_dict[label]['mean'] - \n",
    "               reference_mean_sd_dict[label]['mean'])/sigma\n",
    "        #print(f\"SMD for label, {label}: {smd}\\n\")\n",
    "        \n",
    "        smd_dict[label][reference] = 0\n",
    "        smd_dict[label][protected] = smd\n",
    "\n",
    "    j_labels=[reference, protected]\n",
    "    smd_frame = pd.DataFrame(columns=j_labels,\n",
    "                            index=labels)\n",
    "\n",
    "    for row_label in labels:\n",
    "        for col_label in j_labels:\n",
    "            smd_frame.loc[row_label, col_label] = smd_dict[row_label][col_label]\n",
    "    smd_frame = smd_frame.T\n",
    "    # Sort SMD frame by SMD values for protected class\n",
    "    sorted_cols = smd_frame.columns[smd_frame.loc[smd_frame.last_valid_index()].argsort()][::-1]\n",
    "    return smd_frame[sorted_cols]"
   ]
  },
  {
   "cell_type": "markdown",
   "metadata": {},
   "source": [
    "#### Calculate SMD across all class outcomes across gender"
   ]
  },
  {
   "cell_type": "code",
   "execution_count": 17,
   "metadata": {},
   "outputs": [],
   "source": [
    "smd_mult_frame_gender = smd_multinomial(test_yhat, ed_levels, 'SEX', 'male', 'female')"
   ]
  },
  {
   "cell_type": "code",
   "execution_count": 18,
   "metadata": {},
   "outputs": [
    {
     "data": {
      "text/html": [
       "<div>\n",
       "<style scoped>\n",
       "    .dataframe tbody tr th:only-of-type {\n",
       "        vertical-align: middle;\n",
       "    }\n",
       "\n",
       "    .dataframe tbody tr th {\n",
       "        vertical-align: top;\n",
       "    }\n",
       "\n",
       "    .dataframe thead th {\n",
       "        text-align: right;\n",
       "    }\n",
       "</style>\n",
       "<table border=\"1\" class=\"dataframe\">\n",
       "  <thead>\n",
       "    <tr style=\"text-align: right;\">\n",
       "      <th></th>\n",
       "      <th>university</th>\n",
       "      <th>other</th>\n",
       "      <th>high school</th>\n",
       "      <th>graduate school</th>\n",
       "    </tr>\n",
       "  </thead>\n",
       "  <tbody>\n",
       "    <tr>\n",
       "      <th>male</th>\n",
       "      <td>0</td>\n",
       "      <td>0</td>\n",
       "      <td>0</td>\n",
       "      <td>0</td>\n",
       "    </tr>\n",
       "    <tr>\n",
       "      <th>female</th>\n",
       "      <td>0.210697</td>\n",
       "      <td>0.0102466</td>\n",
       "      <td>-0.0645304</td>\n",
       "      <td>-0.156413</td>\n",
       "    </tr>\n",
       "  </tbody>\n",
       "</table>\n",
       "</div>"
      ],
      "text/plain": [
       "       university      other high school graduate school\n",
       "male            0          0           0               0\n",
       "female   0.210697  0.0102466  -0.0645304       -0.156413"
      ]
     },
     "execution_count": 18,
     "metadata": {},
     "output_type": "execute_result"
    }
   ],
   "source": [
    "smd_mult_frame_gender"
   ]
  },
  {
   "cell_type": "markdown",
   "metadata": {},
   "source": [
    "# 4. `One vs. all` based on SMD rankings for gender"
   ]
  },
  {
   "cell_type": "markdown",
   "metadata": {},
   "source": [
    "#### Based on previous SMD rankings for gender, we can see the outcome `university` gives the biggest difference between men and women\n",
    "\n",
    "With that said, we can do a `one vs. all` analysis for the class outcome, `university`. This is essentially conducting the typical disparate impact analysis one would do for a binary classifier. In this case, our outcome of interest is whether an observation has a `EDUCATION` level of `university` or not."
   ]
  },
  {
   "cell_type": "code",
   "execution_count": 21,
   "metadata": {},
   "outputs": [],
   "source": [
    "# Look at specific outcome based on SMD rankings\n",
    "label=\"university\""
   ]
  },
  {
   "cell_type": "code",
   "execution_count": 22,
   "metadata": {},
   "outputs": [],
   "source": [
    "# Create binary target for class outcome of interest, university\n",
    "test_yhat[f\"target_{label}\"] = np.where(test_yhat[y] == label, 1, 0)"
   ]
  },
  {
   "cell_type": "code",
   "execution_count": 23,
   "metadata": {},
   "outputs": [
    {
     "data": {
      "text/html": [
       "<div>\n",
       "<style scoped>\n",
       "    .dataframe tbody tr th:only-of-type {\n",
       "        vertical-align: middle;\n",
       "    }\n",
       "\n",
       "    .dataframe tbody tr th {\n",
       "        vertical-align: top;\n",
       "    }\n",
       "\n",
       "    .dataframe thead th {\n",
       "        text-align: right;\n",
       "    }\n",
       "</style>\n",
       "<table border=\"1\" class=\"dataframe\">\n",
       "  <thead>\n",
       "    <tr style=\"text-align: right;\">\n",
       "      <th></th>\n",
       "      <th>ID</th>\n",
       "      <th>LIMIT_BAL</th>\n",
       "      <th>SEX</th>\n",
       "      <th>EDUCATION</th>\n",
       "      <th>MARRIAGE</th>\n",
       "      <th>AGE</th>\n",
       "      <th>PAY_0</th>\n",
       "      <th>PAY_2</th>\n",
       "      <th>PAY_3</th>\n",
       "      <th>PAY_4</th>\n",
       "      <th>...</th>\n",
       "      <th>PAY_AMT4</th>\n",
       "      <th>PAY_AMT5</th>\n",
       "      <th>PAY_AMT6</th>\n",
       "      <th>DEFAULT_NEXT_MONTH</th>\n",
       "      <th>predict</th>\n",
       "      <th>graduate school</th>\n",
       "      <th>high school</th>\n",
       "      <th>other</th>\n",
       "      <th>university</th>\n",
       "      <th>target_university</th>\n",
       "    </tr>\n",
       "  </thead>\n",
       "  <tbody>\n",
       "    <tr>\n",
       "      <th>0</th>\n",
       "      <td>4</td>\n",
       "      <td>50000</td>\n",
       "      <td>female</td>\n",
       "      <td>university</td>\n",
       "      <td>married</td>\n",
       "      <td>37</td>\n",
       "      <td>1 month delay</td>\n",
       "      <td>use of revolving credit</td>\n",
       "      <td>use of revolving credit</td>\n",
       "      <td>use of revolving credit</td>\n",
       "      <td>...</td>\n",
       "      <td>1100</td>\n",
       "      <td>1069</td>\n",
       "      <td>1000</td>\n",
       "      <td>0</td>\n",
       "      <td>university</td>\n",
       "      <td>0.129668</td>\n",
       "      <td>0.162902</td>\n",
       "      <td>0.014350</td>\n",
       "      <td>0.693080</td>\n",
       "      <td>1</td>\n",
       "    </tr>\n",
       "    <tr>\n",
       "      <th>1</th>\n",
       "      <td>8</td>\n",
       "      <td>100000</td>\n",
       "      <td>female</td>\n",
       "      <td>university</td>\n",
       "      <td>single</td>\n",
       "      <td>23</td>\n",
       "      <td>5 month delay</td>\n",
       "      <td>pay duly</td>\n",
       "      <td>pay duly</td>\n",
       "      <td>use of revolving credit</td>\n",
       "      <td>...</td>\n",
       "      <td>581</td>\n",
       "      <td>1687</td>\n",
       "      <td>1542</td>\n",
       "      <td>0</td>\n",
       "      <td>university</td>\n",
       "      <td>0.369092</td>\n",
       "      <td>0.116263</td>\n",
       "      <td>0.028422</td>\n",
       "      <td>0.486222</td>\n",
       "      <td>1</td>\n",
       "    </tr>\n",
       "    <tr>\n",
       "      <th>2</th>\n",
       "      <td>10</td>\n",
       "      <td>20000</td>\n",
       "      <td>male</td>\n",
       "      <td>high school</td>\n",
       "      <td>single</td>\n",
       "      <td>35</td>\n",
       "      <td>7 month delay</td>\n",
       "      <td>no consumption</td>\n",
       "      <td>no consumption</td>\n",
       "      <td>no consumption</td>\n",
       "      <td>...</td>\n",
       "      <td>13007</td>\n",
       "      <td>1122</td>\n",
       "      <td>0</td>\n",
       "      <td>0</td>\n",
       "      <td>graduate school</td>\n",
       "      <td>0.430515</td>\n",
       "      <td>0.153518</td>\n",
       "      <td>0.010298</td>\n",
       "      <td>0.405669</td>\n",
       "      <td>0</td>\n",
       "    </tr>\n",
       "    <tr>\n",
       "      <th>3</th>\n",
       "      <td>16</td>\n",
       "      <td>50000</td>\n",
       "      <td>female</td>\n",
       "      <td>high school</td>\n",
       "      <td>divorced</td>\n",
       "      <td>23</td>\n",
       "      <td>1 month delay</td>\n",
       "      <td>2 month delay</td>\n",
       "      <td>use of revolving credit</td>\n",
       "      <td>use of revolving credit</td>\n",
       "      <td>...</td>\n",
       "      <td>1200</td>\n",
       "      <td>1300</td>\n",
       "      <td>1100</td>\n",
       "      <td>0</td>\n",
       "      <td>university</td>\n",
       "      <td>0.120598</td>\n",
       "      <td>0.149586</td>\n",
       "      <td>0.016381</td>\n",
       "      <td>0.713435</td>\n",
       "      <td>0</td>\n",
       "    </tr>\n",
       "    <tr>\n",
       "      <th>4</th>\n",
       "      <td>17</td>\n",
       "      <td>20000</td>\n",
       "      <td>male</td>\n",
       "      <td>graduate school</td>\n",
       "      <td>single</td>\n",
       "      <td>24</td>\n",
       "      <td>use of revolving credit</td>\n",
       "      <td>use of revolving credit</td>\n",
       "      <td>2 month delay</td>\n",
       "      <td>2 month delay</td>\n",
       "      <td>...</td>\n",
       "      <td>0</td>\n",
       "      <td>1650</td>\n",
       "      <td>0</td>\n",
       "      <td>1</td>\n",
       "      <td>university</td>\n",
       "      <td>0.261474</td>\n",
       "      <td>0.146080</td>\n",
       "      <td>0.008715</td>\n",
       "      <td>0.583731</td>\n",
       "      <td>0</td>\n",
       "    </tr>\n",
       "  </tbody>\n",
       "</table>\n",
       "<p>5 rows × 31 columns</p>\n",
       "</div>"
      ],
      "text/plain": [
       "   ID  LIMIT_BAL     SEX        EDUCATION  MARRIAGE  AGE  \\\n",
       "0   4      50000  female       university   married   37   \n",
       "1   8     100000  female       university    single   23   \n",
       "2  10      20000    male      high school    single   35   \n",
       "3  16      50000  female      high school  divorced   23   \n",
       "4  17      20000    male  graduate school    single   24   \n",
       "\n",
       "                     PAY_0                    PAY_2                    PAY_3  \\\n",
       "0            1 month delay  use of revolving credit  use of revolving credit   \n",
       "1            5 month delay                 pay duly                 pay duly   \n",
       "2            7 month delay           no consumption           no consumption   \n",
       "3            1 month delay            2 month delay  use of revolving credit   \n",
       "4  use of revolving credit  use of revolving credit            2 month delay   \n",
       "\n",
       "                     PAY_4        ...         PAY_AMT4 PAY_AMT5  PAY_AMT6  \\\n",
       "0  use of revolving credit        ...             1100     1069      1000   \n",
       "1  use of revolving credit        ...              581     1687      1542   \n",
       "2           no consumption        ...            13007     1122         0   \n",
       "3  use of revolving credit        ...             1200     1300      1100   \n",
       "4            2 month delay        ...                0     1650         0   \n",
       "\n",
       "   DEFAULT_NEXT_MONTH          predict  graduate school  high school  \\\n",
       "0                   0       university         0.129668     0.162902   \n",
       "1                   0       university         0.369092     0.116263   \n",
       "2                   0  graduate school         0.430515     0.153518   \n",
       "3                   0       university         0.120598     0.149586   \n",
       "4                   1       university         0.261474     0.146080   \n",
       "\n",
       "      other  university  target_university  \n",
       "0  0.014350    0.693080                  1  \n",
       "1  0.028422    0.486222                  1  \n",
       "2  0.010298    0.405669                  0  \n",
       "3  0.016381    0.713435                  0  \n",
       "4  0.008715    0.583731                  0  \n",
       "\n",
       "[5 rows x 31 columns]"
      ]
     },
     "execution_count": 23,
     "metadata": {},
     "output_type": "execute_result"
    }
   ],
   "source": [
    "test_yhat.head()"
   ]
  },
  {
   "cell_type": "markdown",
   "metadata": {},
   "source": [
    "# 5. Select a Probability Cutoff by Maximizing F1 Statistic"
   ]
  },
  {
   "cell_type": "markdown",
   "metadata": {},
   "source": [
    "#### Function to calculate PR-AUC Curve\n",
    "Predictive models often produce probabilities, not decisions. So to make a decision with a model-generated predicted probability for any one customer, you must specify a numeric cutoff above which we say a customer will default and below which we say they will not default. Cutoffs play a crucial role in DIA as they impact the underlying measurements used to calculate diparity. In fact, tuning cutoffs carefully is a potential remdiation tactic for any discovered disparity. There are many accepted ways to select a cutoff (besides simply using 0.5) and in this notebook the cutoff will be selected by striking a balance between the model's recall (true positive rate) and it's precision using the F1 statistic. Using precision and recall to select a cutoff is sometimes seen as more robust to imbalanced data than the standard ROC approach. Maximizing F1 typically results in a good balance between sensitivity and precision.\n",
    "\n",
    "Selecting a cutoff can be done intervactively with h2o Flow as well. Enter the url: http://localhost:54321/flow/index.html (or your H2O Connection URL displayed in cell 2) into your browser. Select Models -> List all models -> dia_gbm and you should see an interactive ROC curve where you can pick your own cutoff.\n",
    "\n",
    "To learn more about confusion matrices see: https://en.wikipedia.org/wiki/Confusion_matrix."
   ]
  },
  {
   "cell_type": "code",
   "execution_count": 24,
   "metadata": {},
   "outputs": [],
   "source": [
    "def get_prauc(frame, y, yhat, pos=1, neg=0, res=0.01):\n",
    "    \n",
    "    \"\"\" Calculates precision, recall, and f1 for a pandas dataframe of y and yhat values.\n",
    "    \n",
    "    Args:\n",
    "        frame: Pandas dataframe of actual (y) and predicted (yhat) values.\n",
    "        y: Name of actual value column.\n",
    "        yhat: Name of predicted value column.\n",
    "        pos: Primary target value, default 1.\n",
    "        neg: Secondary target value, default 0.\n",
    "        res: Resolution by which to loop through cutoffs, default 0.01.\n",
    "    \n",
    "    Returns:\n",
    "        Pandas dataframe of precision, recall, and f1 values. \n",
    "    \"\"\"\n",
    "    \n",
    "    frame_ = frame.copy(deep=True) # don't destroy original data\n",
    "    dname = 'd_' + str(y) # column for predicted decisions\n",
    "    eps = 1e-20 # for safe numerical operations\n",
    "    \n",
    "    # init p-r roc frame\n",
    "    prauc_frame = pd.DataFrame(columns=['cutoff', 'recall', 'precision', 'f1'])\n",
    "    \n",
    "    # loop through cutoffs to create p-r roc frame\n",
    "    for cutoff in np.arange(0, 1 + res, res):\n",
    "\n",
    "        # binarize decision to create confusion matrix values\n",
    "        frame_[dname] = np.where(frame_[yhat] > cutoff , 1, 0)\n",
    "        \n",
    "        # calculate confusion matrix values\n",
    "        tp = frame_[(frame_[dname] == pos) & (frame_[y] == pos)].shape[0]\n",
    "        fp = frame_[(frame_[dname] == pos) & (frame_[y] == neg)].shape[0]\n",
    "        tn = frame_[(frame_[dname] == neg) & (frame_[y] == neg)].shape[0]\n",
    "        fn = frame_[(frame_[dname] == neg) & (frame_[y] == pos)].shape[0]\n",
    "        \n",
    "        # calculate precision, recall, and f1\n",
    "        recall = (tp + eps)/((tp + fn) + eps)\n",
    "        precision = (tp + eps)/((tp + fp) + eps)\n",
    "        f1 = 2/((1/(recall + eps)) + (1/(precision + eps)))\n",
    "        \n",
    "        # add new values to frame\n",
    "        prauc_frame = prauc_frame.append({'cutoff': cutoff,\n",
    "                                          'recall': recall,\n",
    "                                          'precision': precision,\n",
    "                                          'f1': f1}, \n",
    "                                          ignore_index=True)\n",
    "    \n",
    "    # housekeeping\n",
    "    del frame_\n",
    "    \n",
    "    return prauc_frame"
   ]
  },
  {
   "cell_type": "code",
   "execution_count": 25,
   "metadata": {},
   "outputs": [],
   "source": [
    "def get_best_cut_per_label(label):\n",
    "    prauc_frame = get_prauc(test_yhat, f\"target_{label}\", label)\n",
    "    best_cut = prauc_frame.loc[prauc_frame['f1'].idxmax(), 'cutoff'] # Find cutoff w/ max F1\n",
    "    print(f'Best cut for {label}: {best_cut}')\n",
    "\n",
    "    # Plot P-R AUC w/ best cutoff\n",
    "    title_ = 'P-R Curve: Cutoff = ' + str(best_cut) + ' for label ' + label\n",
    "    ax = prauc_frame.plot(x='recall', y='precision', kind='scatter', title=title_, xlim=[0,1])\n",
    "    _ = ax.axvline(best_cut, color='r')\n",
    "\n",
    "    return best_cut"
   ]
  },
  {
   "cell_type": "markdown",
   "metadata": {},
   "source": [
    "#### Select best cutoff and Plot PR-AUC Curve\n",
    "An area under the curve for precision and recall (PR-AUC) plot is a typical way to visualize recall and precision for a predictive model. The F1 statistic is the harmonic mean of recall and precision, and we can visualize where F1 is maximized on with the AUC-PR curve."
   ]
  },
  {
   "cell_type": "code",
   "execution_count": 28,
   "metadata": {},
   "outputs": [
    {
     "name": "stdout",
     "output_type": "stream",
     "text": [
      "Best cut for university: 0.3\n"
     ]
    },
    {
     "data": {
      "image/png": "[encoded data removed]",
      "text/plain": [
       "<Figure size 432x288 with 1 Axes>"
      ]
     },
     "metadata": {
      "needs_background": "light"
     },
     "output_type": "display_data"
    }
   ],
   "source": [
    "best_cut = get_best_cut_per_label(label)"
   ]
  },
  {
   "cell_type": "markdown",
   "metadata": {},
   "source": [
    "# 6. Report Confusion Matrices\n",
    "The basic DIA procedure in this notebook is based on measurements found commonly in confusion matrices, so confusion matrices are calculated as a precursor to DIA and to provide a basic summary of the GBM's behavior in general and across men and women."
   ]
  },
  {
   "cell_type": "code",
   "execution_count": 29,
   "metadata": {},
   "outputs": [],
   "source": [
    "def get_confusion_matrix(frame, y, yhat, by=None, level=None, cutoff=0.5):\n",
    "\n",
    "    \"\"\" Creates confusion matrix from pandas dataframe of y and yhat values, can be sliced \n",
    "        by a variable and level.\n",
    "    \n",
    "    Args:\n",
    "        frame: Pandas dataframe of actual (y) and predicted (yhat) values.\n",
    "        y: Name of actual value column.\n",
    "        yhat: Name of predicted value column.\n",
    "        by: By variable to slice frame before creating confusion matrix, default None.\n",
    "        level: Value of by variable to slice frame before creating confusion matrix, default None.\n",
    "        cutoff: Cutoff threshold for confusion matrix, default 0.5. \n",
    "\n",
    "    Returns:\n",
    "        Confusion matrix as pandas dataframe. \n",
    "    \"\"\"\n",
    "    \n",
    "    # determine levels of target (y) variable\n",
    "    # sort for consistency\n",
    "    level_list = list(frame[y].unique())\n",
    "    level_list.sort(reverse=True)\n",
    "\n",
    "    # init confusion matrix\n",
    "    cm_frame = pd.DataFrame(columns=['actual: ' +  str(i) for i in level_list], \n",
    "                            index=['predicted: ' + str(i) for i in level_list])\n",
    "    \n",
    "    # don't destroy original data\n",
    "    frame_ = frame.copy(deep=True)\n",
    "    \n",
    "    # convert numeric predictions to binary decisions using cutoff\n",
    "    dname = 'd_' + str(y)\n",
    "    frame_[dname] = np.where(frame_[yhat] > cutoff , 1, 0)\n",
    "    \n",
    "    # slice frame\n",
    "    if (by is not None) & (level is not None):\n",
    "        frame_ = frame_[frame[by] == level]\n",
    "    \n",
    "    # calculate size of each confusion matrix value\n",
    "    for i, lev_i in enumerate(level_list):\n",
    "        for j, lev_j in enumerate(level_list):\n",
    "            cm_frame.iat[j, i] = frame_[(frame_[y] == lev_i) & (frame_[dname] == lev_j)].shape[0]\n",
    "            # i, j vs. j, i nasty little bug ... updated 8/30/19\n",
    "    \n",
    "    # output results\n",
    "    if by is None:\n",
    "        print('Confusion matrix:')\n",
    "    else:\n",
    "        print('Confusion matrix by ' + by + '=' + level)\n",
    "    \n",
    "    return cm_frame"
   ]
  },
  {
   "cell_type": "code",
   "execution_count": 30,
   "metadata": {},
   "outputs": [
    {
     "name": "stdout",
     "output_type": "stream",
     "text": [
      "Confusion matrix:\n"
     ]
    },
    {
     "data": {
      "text/html": [
       "<div>\n",
       "<style scoped>\n",
       "    .dataframe tbody tr th:only-of-type {\n",
       "        vertical-align: middle;\n",
       "    }\n",
       "\n",
       "    .dataframe tbody tr th {\n",
       "        vertical-align: top;\n",
       "    }\n",
       "\n",
       "    .dataframe thead th {\n",
       "        text-align: right;\n",
       "    }\n",
       "</style>\n",
       "<table border=\"1\" class=\"dataframe\">\n",
       "  <thead>\n",
       "    <tr style=\"text-align: right;\">\n",
       "      <th></th>\n",
       "      <th>actual: 1</th>\n",
       "      <th>actual: 0</th>\n",
       "    </tr>\n",
       "  </thead>\n",
       "  <tbody>\n",
       "    <tr>\n",
       "      <th>predicted: 1</th>\n",
       "      <td>1256</td>\n",
       "      <td>1240</td>\n",
       "    </tr>\n",
       "    <tr>\n",
       "      <th>predicted: 0</th>\n",
       "      <td>122</td>\n",
       "      <td>369</td>\n",
       "    </tr>\n",
       "  </tbody>\n",
       "</table>\n",
       "</div>"
      ],
      "text/plain": [
       "             actual: 1 actual: 0\n",
       "predicted: 1      1256      1240\n",
       "predicted: 0       122       369"
      ]
     },
     "execution_count": 30,
     "metadata": {},
     "output_type": "execute_result"
    }
   ],
   "source": [
    "get_confusion_matrix(test_yhat, f\"target_{label}\", label, cutoff=best_cut)"
   ]
  },
  {
   "cell_type": "markdown",
   "metadata": {},
   "source": [
    "#### Report confusion matrices by SEX\n",
    "The only values for SEX in the dataset are female and male"
   ]
  },
  {
   "cell_type": "code",
   "execution_count": 31,
   "metadata": {},
   "outputs": [
    {
     "data": {
      "text/plain": [
       "['female', 'male']"
      ]
     },
     "execution_count": 31,
     "metadata": {},
     "output_type": "execute_result"
    }
   ],
   "source": [
    "sex_levels = list(test_yhat['SEX'].unique())\n",
    "sex_levels"
   ]
  },
  {
   "cell_type": "markdown",
   "metadata": {},
   "source": [
    "#### Confusion matrix for SEX = male"
   ]
  },
  {
   "cell_type": "code",
   "execution_count": 32,
   "metadata": {},
   "outputs": [
    {
     "name": "stdout",
     "output_type": "stream",
     "text": [
      "Confusion matrix by SEX=male\n"
     ]
    },
    {
     "data": {
      "text/html": [
       "<div>\n",
       "<style scoped>\n",
       "    .dataframe tbody tr th:only-of-type {\n",
       "        vertical-align: middle;\n",
       "    }\n",
       "\n",
       "    .dataframe tbody tr th {\n",
       "        vertical-align: top;\n",
       "    }\n",
       "\n",
       "    .dataframe thead th {\n",
       "        text-align: right;\n",
       "    }\n",
       "</style>\n",
       "<table border=\"1\" class=\"dataframe\">\n",
       "  <thead>\n",
       "    <tr style=\"text-align: right;\">\n",
       "      <th></th>\n",
       "      <th>actual: 1</th>\n",
       "      <th>actual: 0</th>\n",
       "    </tr>\n",
       "  </thead>\n",
       "  <tbody>\n",
       "    <tr>\n",
       "      <th>predicted: 1</th>\n",
       "      <td>476</td>\n",
       "      <td>486</td>\n",
       "    </tr>\n",
       "    <tr>\n",
       "      <th>predicted: 0</th>\n",
       "      <td>72</td>\n",
       "      <td>192</td>\n",
       "    </tr>\n",
       "  </tbody>\n",
       "</table>\n",
       "</div>"
      ],
      "text/plain": [
       "             actual: 1 actual: 0\n",
       "predicted: 1       476       486\n",
       "predicted: 0        72       192"
      ]
     },
     "execution_count": 32,
     "metadata": {},
     "output_type": "execute_result"
    }
   ],
   "source": [
    "male_cm = get_confusion_matrix(test_yhat, \n",
    "                               f\"target_{label}\", \n",
    "                               label, \n",
    "                               by='SEX', \n",
    "                               level='male', \n",
    "                               cutoff=best_cut)\n",
    "male_cm"
   ]
  },
  {
   "cell_type": "markdown",
   "metadata": {},
   "source": [
    "#### Confusion matrix for SEX = female"
   ]
  },
  {
   "cell_type": "code",
   "execution_count": 33,
   "metadata": {},
   "outputs": [
    {
     "name": "stdout",
     "output_type": "stream",
     "text": [
      "Confusion matrix by SEX=female\n"
     ]
    },
    {
     "data": {
      "text/html": [
       "<div>\n",
       "<style scoped>\n",
       "    .dataframe tbody tr th:only-of-type {\n",
       "        vertical-align: middle;\n",
       "    }\n",
       "\n",
       "    .dataframe tbody tr th {\n",
       "        vertical-align: top;\n",
       "    }\n",
       "\n",
       "    .dataframe thead th {\n",
       "        text-align: right;\n",
       "    }\n",
       "</style>\n",
       "<table border=\"1\" class=\"dataframe\">\n",
       "  <thead>\n",
       "    <tr style=\"text-align: right;\">\n",
       "      <th></th>\n",
       "      <th>actual: 1</th>\n",
       "      <th>actual: 0</th>\n",
       "    </tr>\n",
       "  </thead>\n",
       "  <tbody>\n",
       "    <tr>\n",
       "      <th>predicted: 1</th>\n",
       "      <td>780</td>\n",
       "      <td>754</td>\n",
       "    </tr>\n",
       "    <tr>\n",
       "      <th>predicted: 0</th>\n",
       "      <td>50</td>\n",
       "      <td>177</td>\n",
       "    </tr>\n",
       "  </tbody>\n",
       "</table>\n",
       "</div>"
      ],
      "text/plain": [
       "             actual: 1 actual: 0\n",
       "predicted: 1       780       754\n",
       "predicted: 0        50       177"
      ]
     },
     "execution_count": 33,
     "metadata": {},
     "output_type": "execute_result"
    }
   ],
   "source": [
    "female_cm = get_confusion_matrix(test_yhat, \n",
    "                                 f\"target_{label}\", \n",
    "                                 label, \n",
    "                                 by='SEX', \n",
    "                                 level='female', \n",
    "                                 cutoff=best_cut)\n",
    "female_cm"
   ]
  },
  {
   "cell_type": "markdown",
   "metadata": {},
   "source": [
    "# 7. Disparate Impact Analysis (DIA)\n",
    "To perform the following basic DIA many different values from the confusion matrices reflecting different prediction behavior are calculated. These metrics essentially help us understand the GBM's overall performance and how it behaves when predicting:\n",
    "\n",
    "* Education level of `university` correctly\n",
    "* Education level of not `university` correctly\n",
    "* Education level of `univeristy` level incorrectly (type I errors)\n",
    "* Education level of non `university` level incorrectly (type II errors)"
   ]
  },
  {
   "cell_type": "markdown",
   "metadata": {},
   "source": [
    "#### Dictionary of metrics used to assess disparity and parity"
   ]
  },
  {
   "cell_type": "code",
   "execution_count": 34,
   "metadata": {},
   "outputs": [],
   "source": [
    "# represent metrics as dictionary for use later\n",
    "metric_dict = {\n",
    "\n",
    "#### overall performance\n",
    "'Prevalence': '(tp + fn) / (tp + tn +fp + fn)', # how much default actually happens for this group\n",
    "#'Adverse Impact': '(tp + fp) / (tp + tn + fp + fn)', # how often the model predicted default for each group   \n",
    "'Accuracy':       '(tp + tn) / (tp + tn + fp + fn)', # how often the model predicts default and non-default correctly for this group\n",
    "\n",
    "#### predicting default will happen\n",
    "# (correctly)\n",
    "'True Positive Rate': 'tp / (tp + fn)',  # out of the people in the group *that did* default, how many the model predicted *correctly* would default              \n",
    "'Precision':          'tp / (tp + fp)',  # out of the people in the group the model *predicted* would default, how many the model predicted *correctly* would default\n",
    "\n",
    "#### predicting default won't happen\n",
    "# (correctly)\n",
    "'Specificity':              'tn / (tn + fp)', # out of the people in the group *that did not* default, how many the model predicted *correctly* would not default\n",
    "'Negative Predicted Value': 'tn / (tn + fn)', # out of the people in the group the model *predicted* would not default, how many the model predicted *correctly* would not default  \n",
    "\n",
    "#### analyzing errors - type I\n",
    "# false accusations \n",
    "'False Positive Rate':  'fp / (tn + fp)', # out of the people in the group *that did not* default, how many the model predicted *incorrectly* would default\n",
    "'False Discovery Rate': 'fp / (tp + fp)', # out of the people in the group the model *predicted* would default, how many the model predicted *incorrectly* would default\n",
    "\n",
    "#### analyzing errors - type II\n",
    "# costly ommisions\n",
    "'False Negative Rate': 'fn / (tp + fn)', # out of the people in the group *that did* default, how many the model predicted *incorrectly* would not default\n",
    "'False Omissions Rate':'fn / (tn + fn)'  # out of the people in the group the model *predicted* would not default, how many the model predicted *incorrectly* would not default\n",
    "}"
   ]
  },
  {
   "cell_type": "markdown",
   "metadata": {},
   "source": [
    "#### Utility function to translate metrics into Pandas statements"
   ]
  },
  {
   "cell_type": "code",
   "execution_count": 35,
   "metadata": {},
   "outputs": [],
   "source": [
    "# small utility function\n",
    "# translates abbreviated metric expressions into executable Python statements\n",
    "\n",
    "def cm_exp_parser(expression):\n",
    "    \n",
    "    # tp | fp       cm_dict[level].iat[0, 0] | cm_dict[level].iat[0, 1]\n",
    "    # -------  ==>  --------------------------------------------\n",
    "    # fn | tn       cm_dict[level].iat[1, 0] | cm_dict[level].iat[1, 1]\n",
    "\n",
    "    expression = expression.replace('tp', 'cm_dict[level].iat[0, 0]')\\\n",
    "                           .replace('fp', 'cm_dict[level].iat[0, 1]')\\\n",
    "                           .replace('fn', 'cm_dict[level].iat[1, 0]')\\\n",
    "                           .replace('tn', 'cm_dict[level].iat[1, 1]')\n",
    "\n",
    "    return expression"
   ]
  },
  {
   "cell_type": "markdown",
   "metadata": {},
   "source": [
    "#### Calculate and report metrics\n",
    "This nested loop calculates all the metrics defined above for men and women."
   ]
  },
  {
   "cell_type": "code",
   "execution_count": 36,
   "metadata": {},
   "outputs": [
    {
     "data": {
      "text/html": [
       "<div>\n",
       "<style scoped>\n",
       "    .dataframe tbody tr th:only-of-type {\n",
       "        vertical-align: middle;\n",
       "    }\n",
       "\n",
       "    .dataframe tbody tr th {\n",
       "        vertical-align: top;\n",
       "    }\n",
       "\n",
       "    .dataframe thead th {\n",
       "        text-align: right;\n",
       "    }\n",
       "</style>\n",
       "<table border=\"1\" class=\"dataframe\">\n",
       "  <thead>\n",
       "    <tr style=\"text-align: right;\">\n",
       "      <th></th>\n",
       "      <th>Prevalence</th>\n",
       "      <th>Accuracy</th>\n",
       "      <th>True Positive Rate</th>\n",
       "      <th>Precision</th>\n",
       "      <th>Specificity</th>\n",
       "      <th>Negative Predicted Value</th>\n",
       "      <th>False Positive Rate</th>\n",
       "      <th>False Discovery Rate</th>\n",
       "      <th>False Negative Rate</th>\n",
       "      <th>False Omissions Rate</th>\n",
       "    </tr>\n",
       "  </thead>\n",
       "  <tbody>\n",
       "    <tr>\n",
       "      <th>female</th>\n",
       "      <td>0.471323</td>\n",
       "      <td>0.543441</td>\n",
       "      <td>0.939759</td>\n",
       "      <td>0.508475</td>\n",
       "      <td>0.190118</td>\n",
       "      <td>0.779736</td>\n",
       "      <td>0.809882</td>\n",
       "      <td>0.491525</td>\n",
       "      <td>0.060241</td>\n",
       "      <td>0.220264</td>\n",
       "    </tr>\n",
       "    <tr>\n",
       "      <th>male</th>\n",
       "      <td>0.446982</td>\n",
       "      <td>0.544861</td>\n",
       "      <td>0.868613</td>\n",
       "      <td>0.494802</td>\n",
       "      <td>0.283186</td>\n",
       "      <td>0.727273</td>\n",
       "      <td>0.716814</td>\n",
       "      <td>0.505198</td>\n",
       "      <td>0.131387</td>\n",
       "      <td>0.272727</td>\n",
       "    </tr>\n",
       "  </tbody>\n",
       "</table>\n",
       "</div>"
      ],
      "text/plain": [
       "        Prevalence  Accuracy  True Positive Rate  Precision  Specificity  \\\n",
       "female    0.471323  0.543441            0.939759   0.508475     0.190118   \n",
       "male      0.446982  0.544861            0.868613   0.494802     0.283186   \n",
       "\n",
       "        Negative Predicted Value  False Positive Rate  False Discovery Rate  \\\n",
       "female                  0.779736             0.809882              0.491525   \n",
       "male                    0.727273             0.716814              0.505198   \n",
       "\n",
       "        False Negative Rate  False Omissions Rate  \n",
       "female             0.060241              0.220264  \n",
       "male               0.131387              0.272727  "
      ]
     },
     "execution_count": 36,
     "metadata": {},
     "output_type": "execute_result"
    }
   ],
   "source": [
    "# initialize dict of confusion matrices and corresponding rows of dataframe\n",
    "cm_dict = {'male': male_cm, \n",
    "           'female': female_cm} \n",
    "\n",
    "metrics_frame = pd.DataFrame(index=sex_levels) # frame for metrics\n",
    "\n",
    "# nested loop through:\n",
    "# - sex levels\n",
    "# - metrics \n",
    "for level in sex_levels:\n",
    "    for metric in metric_dict.keys():\n",
    "              \n",
    "        # parse metric expressions into executable pandas statements\n",
    "        expression = cm_exp_parser(metric_dict[metric])\n",
    "\n",
    "        # dynamically evaluate metrics to avoid code duplication\n",
    "        metrics_frame.loc[level, metric] = eval(expression)  \n",
    "\n",
    "# display results                \n",
    "metrics_frame"
   ]
  },
  {
   "cell_type": "markdown",
   "metadata": {},
   "source": [
    "#### Plot false omissions rate by SEX"
   ]
  },
  {
   "cell_type": "code",
   "execution_count": 37,
   "metadata": {},
   "outputs": [
    {
     "data": {
      "image/png": "[encoded data removed]",
      "text/plain": [
       "<Figure size 432x288 with 1 Axes>"
      ]
     },
     "metadata": {
      "needs_background": "light"
     },
     "output_type": "display_data"
    }
   ],
   "source": [
    "_ = metrics_frame['False Omissions Rate'].plot(kind='bar', color='b', title='False Omissions Rate')"
   ]
  },
  {
   "cell_type": "markdown",
   "metadata": {},
   "source": [
    "#### Calculate and report disparity\n",
    "\n",
    "To calculate disparity we compare the confusion matrix for each sex to the metrics for a user-defined reference level and to user-defined thresholds. In this case, we take the class of people who seem most priviledged as the reference level, i.e. SEX = male. (Usually the reference level would be race = white or sex = male.) According to the four-fifths rule (https://en.wikipedia.org/wiki/Disparate_impact#The_80%_rule) thresholds are set such that metrics 20% lower or higher than the reference level metric will be flagged as disparate. Technically, the four-fifths rule only applies to the adverse impact ratio, discussed further below, but it will be applied to all other displayed metrics as a rule of thumb."
   ]
  },
  {
   "cell_type": "code",
   "execution_count": 38,
   "metadata": {},
   "outputs": [
    {
     "data": {
      "text/html": [
       "<style  type=\"text/css\" >\n",
       "    #T_1acc2f34_96f6_11ea_8c70_a683e71f91e8row0_col0 {\n",
       "            color:  blue;\n",
       "        }    #T_1acc2f34_96f6_11ea_8c70_a683e71f91e8row0_col1 {\n",
       "            color:  blue;\n",
       "        }    #T_1acc2f34_96f6_11ea_8c70_a683e71f91e8row0_col2 {\n",
       "            color:  blue;\n",
       "        }    #T_1acc2f34_96f6_11ea_8c70_a683e71f91e8row0_col3 {\n",
       "            color:  blue;\n",
       "        }    #T_1acc2f34_96f6_11ea_8c70_a683e71f91e8row0_col4 {\n",
       "            color:  red;\n",
       "        }    #T_1acc2f34_96f6_11ea_8c70_a683e71f91e8row0_col5 {\n",
       "            color:  blue;\n",
       "        }    #T_1acc2f34_96f6_11ea_8c70_a683e71f91e8row0_col6 {\n",
       "            color:  blue;\n",
       "        }    #T_1acc2f34_96f6_11ea_8c70_a683e71f91e8row0_col7 {\n",
       "            color:  blue;\n",
       "        }    #T_1acc2f34_96f6_11ea_8c70_a683e71f91e8row0_col8 {\n",
       "            color:  red;\n",
       "        }    #T_1acc2f34_96f6_11ea_8c70_a683e71f91e8row0_col9 {\n",
       "            color:  blue;\n",
       "        }    #T_1acc2f34_96f6_11ea_8c70_a683e71f91e8row1_col0 {\n",
       "            color:  blue;\n",
       "        }    #T_1acc2f34_96f6_11ea_8c70_a683e71f91e8row1_col1 {\n",
       "            color:  blue;\n",
       "        }    #T_1acc2f34_96f6_11ea_8c70_a683e71f91e8row1_col2 {\n",
       "            color:  blue;\n",
       "        }    #T_1acc2f34_96f6_11ea_8c70_a683e71f91e8row1_col3 {\n",
       "            color:  blue;\n",
       "        }    #T_1acc2f34_96f6_11ea_8c70_a683e71f91e8row1_col4 {\n",
       "            color:  blue;\n",
       "        }    #T_1acc2f34_96f6_11ea_8c70_a683e71f91e8row1_col5 {\n",
       "            color:  blue;\n",
       "        }    #T_1acc2f34_96f6_11ea_8c70_a683e71f91e8row1_col6 {\n",
       "            color:  blue;\n",
       "        }    #T_1acc2f34_96f6_11ea_8c70_a683e71f91e8row1_col7 {\n",
       "            color:  blue;\n",
       "        }    #T_1acc2f34_96f6_11ea_8c70_a683e71f91e8row1_col8 {\n",
       "            color:  blue;\n",
       "        }    #T_1acc2f34_96f6_11ea_8c70_a683e71f91e8row1_col9 {\n",
       "            color:  blue;\n",
       "        }</style>  \n",
       "<table id=\"T_1acc2f34_96f6_11ea_8c70_a683e71f91e8\" > \n",
       "<thead>    <tr> \n",
       "        <th class=\"blank level0\" ></th> \n",
       "        <th class=\"col_heading level0 col0\" >Prevalence Disparity</th> \n",
       "        <th class=\"col_heading level0 col1\" >Accuracy Disparity</th> \n",
       "        <th class=\"col_heading level0 col2\" >True Positive Rate Disparity</th> \n",
       "        <th class=\"col_heading level0 col3\" >Precision Disparity</th> \n",
       "        <th class=\"col_heading level0 col4\" >Specificity Disparity</th> \n",
       "        <th class=\"col_heading level0 col5\" >Negative Predicted Value Disparity</th> \n",
       "        <th class=\"col_heading level0 col6\" >False Positive Rate Disparity</th> \n",
       "        <th class=\"col_heading level0 col7\" >False Discovery Rate Disparity</th> \n",
       "        <th class=\"col_heading level0 col8\" >False Negative Rate Disparity</th> \n",
       "        <th class=\"col_heading level0 col9\" >False Omissions Rate Disparity</th> \n",
       "    </tr></thead> \n",
       "<tbody>    <tr> \n",
       "        <th id=\"T_1acc2f34_96f6_11ea_8c70_a683e71f91e8level0_row0\" class=\"row_heading level0 row0\" >female</th> \n",
       "        <td id=\"T_1acc2f34_96f6_11ea_8c70_a683e71f91e8row0_col0\" class=\"data row0 col0\" >1.05446</td> \n",
       "        <td id=\"T_1acc2f34_96f6_11ea_8c70_a683e71f91e8row0_col1\" class=\"data row0 col1\" >0.997394</td> \n",
       "        <td id=\"T_1acc2f34_96f6_11ea_8c70_a683e71f91e8row0_col2\" class=\"data row0 col2\" >1.08191</td> \n",
       "        <td id=\"T_1acc2f34_96f6_11ea_8c70_a683e71f91e8row0_col3\" class=\"data row0 col3\" >1.02763</td> \n",
       "        <td id=\"T_1acc2f34_96f6_11ea_8c70_a683e71f91e8row0_col4\" class=\"data row0 col4\" >0.671355</td> \n",
       "        <td id=\"T_1acc2f34_96f6_11ea_8c70_a683e71f91e8row0_col5\" class=\"data row0 col5\" >1.07214</td> \n",
       "        <td id=\"T_1acc2f34_96f6_11ea_8c70_a683e71f91e8row0_col6\" class=\"data row0 col6\" >1.12984</td> \n",
       "        <td id=\"T_1acc2f34_96f6_11ea_8c70_a683e71f91e8row0_col7\" class=\"data row0 col7\" >0.972937</td> \n",
       "        <td id=\"T_1acc2f34_96f6_11ea_8c70_a683e71f91e8row0_col8\" class=\"data row0 col8\" >0.458501</td> \n",
       "        <td id=\"T_1acc2f34_96f6_11ea_8c70_a683e71f91e8row0_col9\" class=\"data row0 col9\" >0.807636</td> \n",
       "    </tr>    <tr> \n",
       "        <th id=\"T_1acc2f34_96f6_11ea_8c70_a683e71f91e8level0_row1\" class=\"row_heading level0 row1\" >male</th> \n",
       "        <td id=\"T_1acc2f34_96f6_11ea_8c70_a683e71f91e8row1_col0\" class=\"data row1 col0\" >1</td> \n",
       "        <td id=\"T_1acc2f34_96f6_11ea_8c70_a683e71f91e8row1_col1\" class=\"data row1 col1\" >1</td> \n",
       "        <td id=\"T_1acc2f34_96f6_11ea_8c70_a683e71f91e8row1_col2\" class=\"data row1 col2\" >1</td> \n",
       "        <td id=\"T_1acc2f34_96f6_11ea_8c70_a683e71f91e8row1_col3\" class=\"data row1 col3\" >1</td> \n",
       "        <td id=\"T_1acc2f34_96f6_11ea_8c70_a683e71f91e8row1_col4\" class=\"data row1 col4\" >1</td> \n",
       "        <td id=\"T_1acc2f34_96f6_11ea_8c70_a683e71f91e8row1_col5\" class=\"data row1 col5\" >1</td> \n",
       "        <td id=\"T_1acc2f34_96f6_11ea_8c70_a683e71f91e8row1_col6\" class=\"data row1 col6\" >1</td> \n",
       "        <td id=\"T_1acc2f34_96f6_11ea_8c70_a683e71f91e8row1_col7\" class=\"data row1 col7\" >1</td> \n",
       "        <td id=\"T_1acc2f34_96f6_11ea_8c70_a683e71f91e8row1_col8\" class=\"data row1 col8\" >1</td> \n",
       "        <td id=\"T_1acc2f34_96f6_11ea_8c70_a683e71f91e8row1_col9\" class=\"data row1 col9\" >1</td> \n",
       "    </tr></tbody> \n",
       "</table> "
      ],
      "text/plain": [
       "<pandas.io.formats.style.Styler at 0x10eaeff98>"
      ]
     },
     "execution_count": 38,
     "metadata": {},
     "output_type": "execute_result"
    }
   ],
   "source": [
    "ref_level = 'male' # user-defined reference level\n",
    "\n",
    "parity_threshold_low = 0.8    # user-defined low threshold value\n",
    "parity_threshold_hi = 1.25    # user-defined high threshold value\n",
    "\n",
    "# init frame to store disparity measures\n",
    "disp_frame = pd.DataFrame(index=sex_levels)\n",
    "\n",
    "# compare all metrics to reference level\n",
    "disp_frame = metrics_frame/metrics_frame.loc[ref_level, :]\n",
    "\n",
    "# change column names\n",
    "disp_frame.columns=[col + ' Disparity' for col in metrics_frame.columns]\n",
    "\n",
    "# small utility function to format pandas table output\n",
    "def disparate_red(val):\n",
    "    \n",
    "    color = 'blue' if (parity_threshold_low < val < parity_threshold_hi) else 'red'\n",
    "    return 'color: %s' % color \n",
    "\n",
    "# display results\n",
    "disp_frame.style.applymap(disparate_red)"
   ]
  },
  {
   "cell_type": "markdown",
   "metadata": {},
   "source": [
    "#### Plot false omissions rate disparity"
   ]
  },
  {
   "cell_type": "code",
   "execution_count": 39,
   "metadata": {},
   "outputs": [
    {
     "data": {
      "image/png": "[encoded data removed]",
      "text/plain": [
       "<Figure size 432x288 with 1 Axes>"
      ]
     },
     "metadata": {
      "needs_background": "light"
     },
     "output_type": "display_data"
    }
   ],
   "source": [
    "ax = disp_frame['False Omissions Rate Disparity'].plot(kind='bar', color='b', title='False Omissions Rate Disparity')\n",
    "_ = ax.axhline(parity_threshold_low, color='r', linestyle='--')\n",
    "_ = ax.axhline(parity_threshold_hi, color='r', linestyle='--')"
   ]
  },
  {
   "cell_type": "markdown",
   "metadata": {},
   "source": [
    "#### Assess and report parity\n",
    "\n",
    "A binary indication of parity for metrics is reported by simply checking whether disparity values are within the user-defined thresholds. Further parity indicators are defined as combinations of other disparity values:\n",
    "\n",
    "Type I Parity: Both FDR Parity and FPR Parity\n",
    "Type II Parity: Both FOR Parity and FNR Parity\n",
    "Equalized Odds: Both FPR Parity and TPR Parity\n",
    "Supervised Fairness: Both Type I and Type II Parity\n",
    "Overall Fairness: Fairness across all metrics"
   ]
  },
  {
   "cell_type": "code",
   "execution_count": 40,
   "metadata": {},
   "outputs": [
    {
     "data": {
      "text/html": [
       "<style  type=\"text/css\" >\n",
       "    #T_3945cb64_96f6_11ea_86d2_a683e71f91e8row0_col0 {\n",
       "            color:  blue;\n",
       "        }    #T_3945cb64_96f6_11ea_86d2_a683e71f91e8row0_col1 {\n",
       "            color:  blue;\n",
       "        }    #T_3945cb64_96f6_11ea_86d2_a683e71f91e8row0_col2 {\n",
       "            color:  blue;\n",
       "        }    #T_3945cb64_96f6_11ea_86d2_a683e71f91e8row0_col3 {\n",
       "            color:  blue;\n",
       "        }    #T_3945cb64_96f6_11ea_86d2_a683e71f91e8row0_col4 {\n",
       "            color:  red;\n",
       "        }    #T_3945cb64_96f6_11ea_86d2_a683e71f91e8row0_col5 {\n",
       "            color:  blue;\n",
       "        }    #T_3945cb64_96f6_11ea_86d2_a683e71f91e8row0_col6 {\n",
       "            color:  blue;\n",
       "        }    #T_3945cb64_96f6_11ea_86d2_a683e71f91e8row0_col7 {\n",
       "            color:  blue;\n",
       "        }    #T_3945cb64_96f6_11ea_86d2_a683e71f91e8row0_col8 {\n",
       "            color:  red;\n",
       "        }    #T_3945cb64_96f6_11ea_86d2_a683e71f91e8row0_col9 {\n",
       "            color:  blue;\n",
       "        }    #T_3945cb64_96f6_11ea_86d2_a683e71f91e8row0_col10 {\n",
       "            color:  blue;\n",
       "        }    #T_3945cb64_96f6_11ea_86d2_a683e71f91e8row0_col11 {\n",
       "            color:  red;\n",
       "        }    #T_3945cb64_96f6_11ea_86d2_a683e71f91e8row0_col12 {\n",
       "            color:  blue;\n",
       "        }    #T_3945cb64_96f6_11ea_86d2_a683e71f91e8row0_col13 {\n",
       "            color:  red;\n",
       "        }    #T_3945cb64_96f6_11ea_86d2_a683e71f91e8row0_col14 {\n",
       "            color:  red;\n",
       "        }    #T_3945cb64_96f6_11ea_86d2_a683e71f91e8row1_col0 {\n",
       "            color:  blue;\n",
       "        }    #T_3945cb64_96f6_11ea_86d2_a683e71f91e8row1_col1 {\n",
       "            color:  blue;\n",
       "        }    #T_3945cb64_96f6_11ea_86d2_a683e71f91e8row1_col2 {\n",
       "            color:  blue;\n",
       "        }    #T_3945cb64_96f6_11ea_86d2_a683e71f91e8row1_col3 {\n",
       "            color:  blue;\n",
       "        }    #T_3945cb64_96f6_11ea_86d2_a683e71f91e8row1_col4 {\n",
       "            color:  blue;\n",
       "        }    #T_3945cb64_96f6_11ea_86d2_a683e71f91e8row1_col5 {\n",
       "            color:  blue;\n",
       "        }    #T_3945cb64_96f6_11ea_86d2_a683e71f91e8row1_col6 {\n",
       "            color:  blue;\n",
       "        }    #T_3945cb64_96f6_11ea_86d2_a683e71f91e8row1_col7 {\n",
       "            color:  blue;\n",
       "        }    #T_3945cb64_96f6_11ea_86d2_a683e71f91e8row1_col8 {\n",
       "            color:  blue;\n",
       "        }    #T_3945cb64_96f6_11ea_86d2_a683e71f91e8row1_col9 {\n",
       "            color:  blue;\n",
       "        }    #T_3945cb64_96f6_11ea_86d2_a683e71f91e8row1_col10 {\n",
       "            color:  blue;\n",
       "        }    #T_3945cb64_96f6_11ea_86d2_a683e71f91e8row1_col11 {\n",
       "            color:  blue;\n",
       "        }    #T_3945cb64_96f6_11ea_86d2_a683e71f91e8row1_col12 {\n",
       "            color:  blue;\n",
       "        }    #T_3945cb64_96f6_11ea_86d2_a683e71f91e8row1_col13 {\n",
       "            color:  blue;\n",
       "        }    #T_3945cb64_96f6_11ea_86d2_a683e71f91e8row1_col14 {\n",
       "            color:  blue;\n",
       "        }    #T_3945cb64_96f6_11ea_86d2_a683e71f91e8row2_col0 {\n",
       "            color:  blue;\n",
       "        }    #T_3945cb64_96f6_11ea_86d2_a683e71f91e8row2_col1 {\n",
       "            color:  blue;\n",
       "        }    #T_3945cb64_96f6_11ea_86d2_a683e71f91e8row2_col2 {\n",
       "            color:  blue;\n",
       "        }    #T_3945cb64_96f6_11ea_86d2_a683e71f91e8row2_col3 {\n",
       "            color:  blue;\n",
       "        }    #T_3945cb64_96f6_11ea_86d2_a683e71f91e8row2_col4 {\n",
       "            color:  red;\n",
       "        }    #T_3945cb64_96f6_11ea_86d2_a683e71f91e8row2_col5 {\n",
       "            color:  blue;\n",
       "        }    #T_3945cb64_96f6_11ea_86d2_a683e71f91e8row2_col6 {\n",
       "            color:  blue;\n",
       "        }    #T_3945cb64_96f6_11ea_86d2_a683e71f91e8row2_col7 {\n",
       "            color:  blue;\n",
       "        }    #T_3945cb64_96f6_11ea_86d2_a683e71f91e8row2_col8 {\n",
       "            color:  red;\n",
       "        }    #T_3945cb64_96f6_11ea_86d2_a683e71f91e8row2_col9 {\n",
       "            color:  blue;\n",
       "        }    #T_3945cb64_96f6_11ea_86d2_a683e71f91e8row2_col10 {\n",
       "            color:  blue;\n",
       "        }    #T_3945cb64_96f6_11ea_86d2_a683e71f91e8row2_col11 {\n",
       "            color:  red;\n",
       "        }    #T_3945cb64_96f6_11ea_86d2_a683e71f91e8row2_col12 {\n",
       "            color:  blue;\n",
       "        }    #T_3945cb64_96f6_11ea_86d2_a683e71f91e8row2_col13 {\n",
       "            color:  red;\n",
       "        }    #T_3945cb64_96f6_11ea_86d2_a683e71f91e8row2_col14 {\n",
       "            color:  red;\n",
       "        }</style>  \n",
       "<table id=\"T_3945cb64_96f6_11ea_86d2_a683e71f91e8\" > \n",
       "<thead>    <tr> \n",
       "        <th class=\"blank level0\" ></th> \n",
       "        <th class=\"col_heading level0 col0\" >Prevalence Parity</th> \n",
       "        <th class=\"col_heading level0 col1\" >Accuracy Parity</th> \n",
       "        <th class=\"col_heading level0 col2\" >True Positive Rate Parity</th> \n",
       "        <th class=\"col_heading level0 col3\" >Precision Parity</th> \n",
       "        <th class=\"col_heading level0 col4\" >Specificity Parity</th> \n",
       "        <th class=\"col_heading level0 col5\" >Negative Predicted Value Parity</th> \n",
       "        <th class=\"col_heading level0 col6\" >False Positive Rate Parity</th> \n",
       "        <th class=\"col_heading level0 col7\" >False Discovery Rate Parity</th> \n",
       "        <th class=\"col_heading level0 col8\" >False Negative Rate Parity</th> \n",
       "        <th class=\"col_heading level0 col9\" >False Omissions Rate Parity</th> \n",
       "        <th class=\"col_heading level0 col10\" >Type I Parity</th> \n",
       "        <th class=\"col_heading level0 col11\" >Type II Parity</th> \n",
       "        <th class=\"col_heading level0 col12\" >Equalized Odds</th> \n",
       "        <th class=\"col_heading level0 col13\" >Supervised Fairness</th> \n",
       "        <th class=\"col_heading level0 col14\" >Overall Fairness</th> \n",
       "    </tr></thead> \n",
       "<tbody>    <tr> \n",
       "        <th id=\"T_3945cb64_96f6_11ea_86d2_a683e71f91e8level0_row0\" class=\"row_heading level0 row0\" >female</th> \n",
       "        <td id=\"T_3945cb64_96f6_11ea_86d2_a683e71f91e8row0_col0\" class=\"data row0 col0\" >True</td> \n",
       "        <td id=\"T_3945cb64_96f6_11ea_86d2_a683e71f91e8row0_col1\" class=\"data row0 col1\" >True</td> \n",
       "        <td id=\"T_3945cb64_96f6_11ea_86d2_a683e71f91e8row0_col2\" class=\"data row0 col2\" >True</td> \n",
       "        <td id=\"T_3945cb64_96f6_11ea_86d2_a683e71f91e8row0_col3\" class=\"data row0 col3\" >True</td> \n",
       "        <td id=\"T_3945cb64_96f6_11ea_86d2_a683e71f91e8row0_col4\" class=\"data row0 col4\" >False</td> \n",
       "        <td id=\"T_3945cb64_96f6_11ea_86d2_a683e71f91e8row0_col5\" class=\"data row0 col5\" >True</td> \n",
       "        <td id=\"T_3945cb64_96f6_11ea_86d2_a683e71f91e8row0_col6\" class=\"data row0 col6\" >True</td> \n",
       "        <td id=\"T_3945cb64_96f6_11ea_86d2_a683e71f91e8row0_col7\" class=\"data row0 col7\" >True</td> \n",
       "        <td id=\"T_3945cb64_96f6_11ea_86d2_a683e71f91e8row0_col8\" class=\"data row0 col8\" >False</td> \n",
       "        <td id=\"T_3945cb64_96f6_11ea_86d2_a683e71f91e8row0_col9\" class=\"data row0 col9\" >True</td> \n",
       "        <td id=\"T_3945cb64_96f6_11ea_86d2_a683e71f91e8row0_col10\" class=\"data row0 col10\" >True</td> \n",
       "        <td id=\"T_3945cb64_96f6_11ea_86d2_a683e71f91e8row0_col11\" class=\"data row0 col11\" >False</td> \n",
       "        <td id=\"T_3945cb64_96f6_11ea_86d2_a683e71f91e8row0_col12\" class=\"data row0 col12\" >True</td> \n",
       "        <td id=\"T_3945cb64_96f6_11ea_86d2_a683e71f91e8row0_col13\" class=\"data row0 col13\" >False</td> \n",
       "        <td id=\"T_3945cb64_96f6_11ea_86d2_a683e71f91e8row0_col14\" class=\"data row0 col14\" >False</td> \n",
       "    </tr>    <tr> \n",
       "        <th id=\"T_3945cb64_96f6_11ea_86d2_a683e71f91e8level0_row1\" class=\"row_heading level0 row1\" >male</th> \n",
       "        <td id=\"T_3945cb64_96f6_11ea_86d2_a683e71f91e8row1_col0\" class=\"data row1 col0\" >True</td> \n",
       "        <td id=\"T_3945cb64_96f6_11ea_86d2_a683e71f91e8row1_col1\" class=\"data row1 col1\" >True</td> \n",
       "        <td id=\"T_3945cb64_96f6_11ea_86d2_a683e71f91e8row1_col2\" class=\"data row1 col2\" >True</td> \n",
       "        <td id=\"T_3945cb64_96f6_11ea_86d2_a683e71f91e8row1_col3\" class=\"data row1 col3\" >True</td> \n",
       "        <td id=\"T_3945cb64_96f6_11ea_86d2_a683e71f91e8row1_col4\" class=\"data row1 col4\" >True</td> \n",
       "        <td id=\"T_3945cb64_96f6_11ea_86d2_a683e71f91e8row1_col5\" class=\"data row1 col5\" >True</td> \n",
       "        <td id=\"T_3945cb64_96f6_11ea_86d2_a683e71f91e8row1_col6\" class=\"data row1 col6\" >True</td> \n",
       "        <td id=\"T_3945cb64_96f6_11ea_86d2_a683e71f91e8row1_col7\" class=\"data row1 col7\" >True</td> \n",
       "        <td id=\"T_3945cb64_96f6_11ea_86d2_a683e71f91e8row1_col8\" class=\"data row1 col8\" >True</td> \n",
       "        <td id=\"T_3945cb64_96f6_11ea_86d2_a683e71f91e8row1_col9\" class=\"data row1 col9\" >True</td> \n",
       "        <td id=\"T_3945cb64_96f6_11ea_86d2_a683e71f91e8row1_col10\" class=\"data row1 col10\" >True</td> \n",
       "        <td id=\"T_3945cb64_96f6_11ea_86d2_a683e71f91e8row1_col11\" class=\"data row1 col11\" >True</td> \n",
       "        <td id=\"T_3945cb64_96f6_11ea_86d2_a683e71f91e8row1_col12\" class=\"data row1 col12\" >True</td> \n",
       "        <td id=\"T_3945cb64_96f6_11ea_86d2_a683e71f91e8row1_col13\" class=\"data row1 col13\" >True</td> \n",
       "        <td id=\"T_3945cb64_96f6_11ea_86d2_a683e71f91e8row1_col14\" class=\"data row1 col14\" >True</td> \n",
       "    </tr>    <tr> \n",
       "        <th id=\"T_3945cb64_96f6_11ea_86d2_a683e71f91e8level0_row2\" class=\"row_heading level0 row2\" >all</th> \n",
       "        <td id=\"T_3945cb64_96f6_11ea_86d2_a683e71f91e8row2_col0\" class=\"data row2 col0\" >True</td> \n",
       "        <td id=\"T_3945cb64_96f6_11ea_86d2_a683e71f91e8row2_col1\" class=\"data row2 col1\" >True</td> \n",
       "        <td id=\"T_3945cb64_96f6_11ea_86d2_a683e71f91e8row2_col2\" class=\"data row2 col2\" >True</td> \n",
       "        <td id=\"T_3945cb64_96f6_11ea_86d2_a683e71f91e8row2_col3\" class=\"data row2 col3\" >True</td> \n",
       "        <td id=\"T_3945cb64_96f6_11ea_86d2_a683e71f91e8row2_col4\" class=\"data row2 col4\" >False</td> \n",
       "        <td id=\"T_3945cb64_96f6_11ea_86d2_a683e71f91e8row2_col5\" class=\"data row2 col5\" >True</td> \n",
       "        <td id=\"T_3945cb64_96f6_11ea_86d2_a683e71f91e8row2_col6\" class=\"data row2 col6\" >True</td> \n",
       "        <td id=\"T_3945cb64_96f6_11ea_86d2_a683e71f91e8row2_col7\" class=\"data row2 col7\" >True</td> \n",
       "        <td id=\"T_3945cb64_96f6_11ea_86d2_a683e71f91e8row2_col8\" class=\"data row2 col8\" >False</td> \n",
       "        <td id=\"T_3945cb64_96f6_11ea_86d2_a683e71f91e8row2_col9\" class=\"data row2 col9\" >True</td> \n",
       "        <td id=\"T_3945cb64_96f6_11ea_86d2_a683e71f91e8row2_col10\" class=\"data row2 col10\" >True</td> \n",
       "        <td id=\"T_3945cb64_96f6_11ea_86d2_a683e71f91e8row2_col11\" class=\"data row2 col11\" >False</td> \n",
       "        <td id=\"T_3945cb64_96f6_11ea_86d2_a683e71f91e8row2_col12\" class=\"data row2 col12\" >True</td> \n",
       "        <td id=\"T_3945cb64_96f6_11ea_86d2_a683e71f91e8row2_col13\" class=\"data row2 col13\" >False</td> \n",
       "        <td id=\"T_3945cb64_96f6_11ea_86d2_a683e71f91e8row2_col14\" class=\"data row2 col14\" >False</td> \n",
       "    </tr></tbody> \n",
       "</table> "
      ],
      "text/plain": [
       "<pandas.io.formats.style.Styler at 0x10f19b710>"
      ]
     },
     "execution_count": 40,
     "metadata": {},
     "output_type": "execute_result"
    }
   ],
   "source": [
    "# parity checks\n",
    "# low_threshold (0.8) < *_metric/white_metric < (high_threshold) 1.25 => parity, else disparity \n",
    "\n",
    "# init frame for parity\n",
    "par_frame = pd.DataFrame(index=sex_levels, \n",
    "                         columns=[col + ' Parity' for col in metrics_frame.columns])\n",
    "# nested loop through: \n",
    "# - races\n",
    "# - disparity metrics\n",
    "for i, _ in enumerate(sex_levels):\n",
    "    for j, _ in enumerate(par_frame.columns):\n",
    "        par_frame.iat[i, j] = (parity_threshold_low < disp_frame.iat[i, j] < parity_threshold_hi)\n",
    "\n",
    "# add overall parity checks\n",
    "# Type I Parity: Fairness in both FDR Parity and FPR Parity\n",
    "# Type II Parity: Fairness in both FOR Parity and FNR Parity\n",
    "# Equalized Odds: Fairness in both FPR Parity and TPR Parity\n",
    "# Supervised Fairness: Fairness in both Type I and Type II Parity\n",
    "# Overall Fairness: Fairness across all parities for all metrics\n",
    "par_frame['Type I Parity'] = (par_frame['False Discovery Rate Parity']) & (par_frame['False Positive Rate Parity'])\n",
    "par_frame['Type II Parity'] = (par_frame['False Omissions Rate Parity']) & (par_frame['False Negative Rate Parity'])\n",
    "par_frame['Equalized Odds'] = (par_frame['False Positive Rate Parity']) & (par_frame['True Positive Rate Parity'])\n",
    "par_frame['Supervised Fairness'] = (par_frame['Type I Parity']) & (par_frame['Type II Parity'])\n",
    "par_frame['Overall Fairness'] = par_frame.all(axis='columns')\n",
    "par_frame.loc['all', :] = par_frame.all(axis='index')\n",
    "    \n",
    "# small utility function to format pandas table output    \n",
    "def color_false_red(val):\n",
    "\n",
    "    color = 'red' if not val else 'blue'\n",
    "    return 'color: %s' % color \n",
    "    \n",
    "par_frame.style.applymap(color_false_red)"
   ]
  },
  {
   "cell_type": "markdown",
   "metadata": {},
   "source": [
    "#### Traditional Fair Lending Measures\n",
    "Along with adverse impact ratio (AIR), several measures have long-standing legal precedence in fair lending, including marginal effect and standardized mean difference. These measures are calculated and discussed here."
   ]
  },
  {
   "cell_type": "markdown",
   "metadata": {},
   "source": [
    "Simple function to calculate adverse impact ratio (AIR)\n",
    "AIR is perhaps the most well-known discrimination measure. It was first delineated by the U.S. Equal Employment Opportunity Commission (EEOC) and AIR is associated with the convenient 4/5ths, or 0.8, cutoff threshold. AIR values below 0.8 can be considered evidence of illegal discrimination in many lending or employment scenarios in the U.S."
   ]
  },
  {
   "cell_type": "code",
   "execution_count": 42,
   "metadata": {},
   "outputs": [
    {
     "name": "stdout",
     "output_type": "stream",
     "text": [
      "Male proportion predicted to have education level of university: 0.215\n",
      "Female proportion predicted to have education level of university: 0.129\n",
      "Adverse impact ratio: 0.599\n"
     ]
    }
   ],
   "source": [
    "def air(reference, protected):\n",
    "\n",
    "    \"\"\" Calculates the adverse impact ratio as a quotient between protected and \n",
    "        reference group acceptance rates: protected_prop/reference_prop. \n",
    "        Prints intermediate values. Tightly coupled to cm_dict. \n",
    "    \n",
    "    Args:\n",
    "        reference: name of reference group in cm_dict as a string.\n",
    "        protected: name of protected group in cm_dict as a string.\n",
    "\n",
    "    Returns:\n",
    "        AIR as a formatted string. \n",
    "        \n",
    "    \"\"\"\n",
    "\n",
    "    # reference group summary\n",
    "    reference_accepted = float(cm_dict[reference].iat[1,0] + cm_dict[reference].iat[1,1]) # predicted 0's\n",
    "    reference_total = float(cm_dict[reference].sum().sum())\n",
    "    reference_prop = reference_accepted/reference_total\n",
    "    print(reference.title() + ' proportion predicted to have education level of university: %.3f' % reference_prop)\n",
    "    \n",
    "    # protected group summary\n",
    "    protected_accepted = float(cm_dict[protected].iat[1,0] + cm_dict[protected].iat[1,1]) # predicted 0's\n",
    "    protected_total = float(cm_dict[protected].sum().sum())\n",
    "    protected_prop = protected_accepted/protected_total\n",
    "    print(protected.title() + ' proportion predicted to have education level of university: %.3f' % protected_prop)\n",
    "\n",
    "    # return adverse impact ratio\n",
    "    return 'Adverse impact ratio: %.3f' % (protected_prop/reference_prop)\n",
    "\n",
    "print(air('male', 'female'))"
   ]
  },
  {
   "cell_type": "markdown",
   "metadata": {},
   "source": [
    "#### Simple function to calculate marginal effect\n",
    "\n",
    "Marginal effect describes the difference between the percent of the reference group awarded a loan and the percent of the protected group awarded a loan under a model."
   ]
  },
  {
   "cell_type": "code",
   "execution_count": 43,
   "metadata": {},
   "outputs": [
    {
     "name": "stdout",
     "output_type": "stream",
     "text": [
      "Male predicted to have education level of university: 21.53%\n",
      "Female predicted to have education level of university: 12.89%\n",
      "Marginal effect: 8.64%\n"
     ]
    }
   ],
   "source": [
    "def marginal_effect(reference, protected):\n",
    "\n",
    "    \"\"\" Calculates the marginal effect as a percentage difference between a reference and \n",
    "        a protected group: reference_percent - protected_percent. Prints intermediate values. \n",
    "        Tightly coupled to cm_dict. \n",
    "    \n",
    "    Args:\n",
    "        reference: name of reference group in cm_dict as a string.\n",
    "        protected: name of protected group in cm_dict as a string.\n",
    "\n",
    "    Returns:\n",
    "        Marginal effect as a formatted string. \n",
    "        \n",
    "    \"\"\"\n",
    "    \n",
    "    # reference group summary\n",
    "    reference_accepted = float(cm_dict[reference].iat[1,0] + cm_dict[reference].iat[1,1]) # predicted 0's\n",
    "    reference_total = float(cm_dict[reference].sum().sum())\n",
    "    reference_percent = 100*(reference_accepted/reference_total)\n",
    "    print(reference.title() + ' predicted to have education level of university: %.2f%%' % reference_percent)\n",
    "    \n",
    "    # protected group summary\n",
    "    protected_accepted = float(cm_dict[protected].iat[1,0] + cm_dict[protected].iat[1,1]) # predicted 0's\n",
    "    protected_total = float(cm_dict[protected].sum().sum())\n",
    "    protected_percent = 100*(protected_accepted/protected_total)\n",
    "    print(protected.title() + ' predicted to have education level of university: %.2f%%' % protected_percent)\n",
    "    \n",
    "    # return marginal effect\n",
    "    return 'Marginal effect: %.2f%%' % (reference_percent - protected_percent)\n",
    "\n",
    "print(marginal_effect('male', 'female'))"
   ]
  }
 ],
 "metadata": {
  "kernelspec": {
   "display_name": "information-article",
   "language": "python",
   "name": "information-article"
  },
  "language_info": {
   "codemirror_mode": {
    "name": "ipython",
    "version": 3
   },
   "file_extension": ".py",
   "mimetype": "text/x-python",
   "name": "python",
   "nbconvert_exporter": "python",
   "pygments_lexer": "ipython3",
   "version": "3.6.6"
  }
 },
 "nbformat": 4,
 "nbformat_minor": 4
}
